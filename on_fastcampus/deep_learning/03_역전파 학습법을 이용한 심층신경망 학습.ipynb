{
 "cells": [
  {
   "cell_type": "markdown",
   "metadata": {},
   "source": [
    "## 역전파 학습법을 이용한 심층 신경망 학습"
   ]
  },
  {
   "cell_type": "code",
   "execution_count": 1,
   "metadata": {},
   "outputs": [],
   "source": [
    "import time\n",
    "import numpy as np"
   ]
  },
  {
   "cell_type": "markdown",
   "metadata": {},
   "source": [
    "## Sigmoid 구현"
   ]
  },
  {
   "cell_type": "code",
   "execution_count": 2,
   "metadata": {},
   "outputs": [],
   "source": [
    "def _t(x):\n",
    "    return np.transpose(x)\n",
    "\n",
    "def _m(A, B):\n",
    "    return np.matmul(A, B)"
   ]
  },
  {
   "cell_type": "code",
   "execution_count": 3,
   "metadata": {},
   "outputs": [],
   "source": [
    "class Sigmoid:\n",
    "    def __init__(self):\n",
    "        self.last_o = 1\n",
    "\n",
    "    def __call__(self, x):\n",
    "        self.last_o = 1.0 / (1.0 + np.exp(-x))\n",
    "        return self.last_o\n",
    "\n",
    "    def grad(self): # sigmoid(x)(1 - sigmoid(x))\n",
    "        return self.last_o * (1.0 - self.last_o)"
   ]
  },
  {
   "cell_type": "markdown",
   "metadata": {},
   "source": [
    "## Mean Squared Error 구현"
   ]
  },
  {
   "cell_type": "code",
   "execution_count": 4,
   "metadata": {},
   "outputs": [],
   "source": [
    "class MeanSquaredError: # 1/2 * mean((h - y)^2)  --> h - y\n",
    "    def __init__(self):\n",
    "        self.dh = 1\n",
    "        self.last_diff = 1\n",
    "\n",
    "    def __call__(self, h, y):\n",
    "        self.last_diff = h - y\n",
    "        return 1 / 2 * np.mean(np.square(self.last_diff))\n",
    "\n",
    "    def grad(self):\n",
    "        return self.last_diff"
   ]
  },
  {
   "cell_type": "markdown",
   "metadata": {},
   "source": [
    "## Dense Layer 구현"
   ]
  },
  {
   "cell_type": "code",
   "execution_count": 5,
   "metadata": {},
   "outputs": [],
   "source": [
    "class Dense:\n",
    "    def __init__(self, W, b, a_obj):\n",
    "        self.W = W\n",
    "        self.b = b\n",
    "        self.a = a_obj()\n",
    "        \n",
    "        self.dW = np.zeros_like(self.W)\n",
    "        self.db = np.zeros_like(self.b)\n",
    "        self.dh = np.zeros_like(_t(self.W))\n",
    "        \n",
    "        self.last_x = np.zeros((self.W.shape[0]))\n",
    "        self.last_h = np.zeros((self.W.shape[1]))\n",
    "\n",
    "    def __call__(self, x):\n",
    "        self.last_x = x\n",
    "        self.last_h = _m(_t(self.W), x) + self.b\n",
    "        return self.a(self.last_h)\n",
    "\n",
    "    def grad(self): # dy/dh = W\n",
    "        return self.W * self.a.grad()\n",
    "\n",
    "    def grad_W(self, dh):\n",
    "        grad = np.ones_like(self.W)\n",
    "        grad_a = self.a.grad()\n",
    "        for j in range(grad.shape[1]): # dy/dw = x\n",
    "            grad[:, j] = dh[j] * grad_a[j] * self.last_x\n",
    "        return grad\n",
    "\n",
    "    def grad_b(self, dh): # dy/db = 1\n",
    "        return dh * self.a.grad()"
   ]
  },
  {
   "cell_type": "markdown",
   "metadata": {},
   "source": [
    "## 심층신경망 구현"
   ]
  },
  {
   "cell_type": "code",
   "execution_count": 6,
   "metadata": {},
   "outputs": [],
   "source": [
    "class DNN:\n",
    "    def __init__(self, hidden_depth, num_neuron, input, output, activation=Sigmoid):\n",
    "        def init_var(i, o):\n",
    "            return np.random.normal(0.0, 0.01, (i, o)), np.zeros((o,))\n",
    "\n",
    "        self.sequence = list()\n",
    "        \n",
    "        # First hidden layer\n",
    "        W, b = init_var(input, num_neuron)\n",
    "        self.sequence.append(Dense(W, b, activation))\n",
    "\n",
    "        # Hidden Layers\n",
    "        for index in range(hidden_depth):\n",
    "            W, b = init_var(num_neuron, num_neuron)\n",
    "            self.sequence.append(Dense(W, b, activation))\n",
    "\n",
    "        # Output Layer\n",
    "        W, b = init_var(num_neuron, output)\n",
    "        self.sequence.append(Dense(W, b, activation))\n",
    "\n",
    "    def __call__(self, x):\n",
    "        for layer in self.sequence:\n",
    "            x = layer(x)\n",
    "        return x\n",
    "\n",
    "    def calc_gradient(self, loss_obj):\n",
    "        loss_obj.dh = loss_obj.grad()\n",
    "        self.sequence.append(loss_obj)\n",
    "        \n",
    "        # back-prop loop\n",
    "        for i in range(len(self.sequence) - 1, 0, -1):\n",
    "            l1 = self.sequence[i]\n",
    "            l0 = self.sequence[i - 1]\n",
    "            \n",
    "            l0.dh = _m(l0.grad(), l1.dh)\n",
    "            l0.dW = l0.grad_W(l1.dh)\n",
    "            l0.db = l0.grad_b(l1.dh)\n",
    "        \n",
    "        self.sequence.remove(loss_obj)"
   ]
  },
  {
   "cell_type": "markdown",
   "metadata": {},
   "source": [
    "## 경사하강 학습법"
   ]
  },
  {
   "cell_type": "code",
   "execution_count": 7,
   "metadata": {},
   "outputs": [],
   "source": [
    "def gradient_descent(network, x, y, loss_obj, alpha=0.01):\n",
    "    loss = loss_obj(network(x), y)  # Forward inference\n",
    "    network.calc_gradient(loss_obj)  # Back-propagation\n",
    "    for layer in network.sequence:\n",
    "        layer.W += -alpha * layer.dW\n",
    "        layer.b += -alpha * layer.db\n",
    "    return loss"
   ]
  },
  {
   "cell_type": "markdown",
   "metadata": {},
   "source": [
    "## 동작 테스트"
   ]
  },
  {
   "cell_type": "code",
   "execution_count": 8,
   "metadata": {},
   "outputs": [
    {
     "name": "stdout",
     "output_type": "stream",
     "text": [
      "Epoch 000: Test loss 0.01215\n",
      "Epoch 010: Test loss 0.01085\n",
      "Epoch 020: Test loss 0.00969\n",
      "Epoch 030: Test loss 0.00866\n",
      "Epoch 040: Test loss 0.00774\n",
      "Epoch 050: Test loss 0.00692\n",
      "Epoch 060: Test loss 0.00620\n",
      "Epoch 070: Test loss 0.00555\n",
      "Epoch 080: Test loss 0.00498\n",
      "Epoch 090: Test loss 0.00447\n",
      "Epoch 100: Test loss 0.00401\n"
     ]
    }
   ],
   "source": [
    "x = np.random.normal(0.0, 1.0, (10,))\n",
    "y = np.random.normal(0.0, 1.0, (2,))\n",
    "\n",
    "t = time.time()\n",
    "dnn = DNN(hidden_depth=5, num_neuron=32, input=10, output=2, activation=Sigmoid)\n",
    "loss_obj = MeanSquaredError()\n",
    "for epoch in range(101):\n",
    "    loss = gradient_descent(dnn, x, y, loss_obj, alpha=0.01)\n",
    "    if (epoch) % 10 == 0:\n",
    "        print('Epoch {:03d}: Test loss {:.5f}'.format(epoch, loss))"
   ]
  }
 ],
 "metadata": {
  "kernelspec": {
   "display_name": "Python 3",
   "language": "python",
   "name": "python3"
  },
  "language_info": {
   "codemirror_mode": {
    "name": "ipython",
    "version": 3
   },
   "file_extension": ".py",
   "mimetype": "text/x-python",
   "name": "python",
   "nbconvert_exporter": "python",
   "pygments_lexer": "ipython3",
   "version": "3.7.6"
  }
 },
 "nbformat": 4,
 "nbformat_minor": 2
}
