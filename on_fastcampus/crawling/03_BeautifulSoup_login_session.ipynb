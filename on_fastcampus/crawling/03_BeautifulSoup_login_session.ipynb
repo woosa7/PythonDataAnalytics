{
 "cells": [
  {
   "cell_type": "markdown",
   "metadata": {},
   "source": [
    "#### 로그인 후 데이터 크롤링 하기\n",
    " 1. endpoint 찾기 (개발자 도구의 network를 활용)\n",
    " 2. id와 password가 전달되는 form data찾기\n",
    " 3. session 객체 생성하여 login 진행\n",
    " 4. 이후 session 객체로 원하는 페이지로 이동하여 크롤링\n",
    " "
   ]
  },
  {
   "cell_type": "code",
   "execution_count": 1,
   "metadata": {},
   "outputs": [],
   "source": [
    "import requests\n",
    "from bs4 import BeautifulSoup"
   ]
  },
  {
   "cell_type": "markdown",
   "metadata": {},
   "source": [
    "* endpoint 찾기"
   ]
  },
  {
   "cell_type": "code",
   "execution_count": 2,
   "metadata": {},
   "outputs": [],
   "source": [
    "url = 'https://www.kangcom.com/member/member_check.asp'"
   ]
  },
  {
   "cell_type": "markdown",
   "metadata": {},
   "source": [
    "* id, password로 구성된 form data 생성하기"
   ]
  },
  {
   "cell_type": "code",
   "execution_count": 3,
   "metadata": {},
   "outputs": [],
   "source": [
    "data = {\n",
    "    'id': 'macmath22',\n",
    "    'pwd': 'Test1357!'\n",
    "}"
   ]
  },
  {
   "cell_type": "markdown",
   "metadata": {},
   "source": [
    "* login\n",
    " - endpoint(url)과 data를 구성하여 post 요청\n",
    " - login의 경우 post로 구성하는 것이 정상적인 웹사이트!"
   ]
  },
  {
   "cell_type": "code",
   "execution_count": 4,
   "metadata": {},
   "outputs": [
    {
     "name": "stdout",
     "output_type": "stream",
     "text": [
      "200\n"
     ]
    }
   ],
   "source": [
    "s = requests.Session()\n",
    "\n",
    "resp = s.post(url, data=data)\n",
    "print(resp.status_code)"
   ]
  },
  {
   "cell_type": "markdown",
   "metadata": {},
   "source": [
    "* crawling\n",
    " - login 시 사용했던 session을 다시 사용하여 요청"
   ]
  },
  {
   "cell_type": "code",
   "execution_count": 5,
   "metadata": {},
   "outputs": [
    {
     "name": "stdout",
     "output_type": "stream",
     "text": [
      "5,040원 \n"
     ]
    }
   ],
   "source": [
    "mypage = 'https://www.kangcom.com/mypage/'\n",
    "resp = s.get(mypage)\n",
    "\n",
    "soup = BeautifulSoup(resp.text)\n",
    "mileage = soup.select_one('td.a_bbslist55:nth-child(3)')\n",
    "print(mileage.get_text())"
   ]
  }
 ],
 "metadata": {
  "kernelspec": {
   "display_name": "Python 3",
   "language": "python",
   "name": "python3"
  },
  "language_info": {
   "codemirror_mode": {
    "name": "ipython",
    "version": 3
   },
   "file_extension": ".py",
   "mimetype": "text/x-python",
   "name": "python",
   "nbconvert_exporter": "python",
   "pygments_lexer": "ipython3",
   "version": "3.7.6"
  }
 },
 "nbformat": 4,
 "nbformat_minor": 2
}
