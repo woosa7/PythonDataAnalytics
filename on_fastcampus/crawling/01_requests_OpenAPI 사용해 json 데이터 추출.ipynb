{
 "cells": [
  {
   "cell_type": "markdown",
   "metadata": {},
   "source": [
    "## requests 모듈"
   ]
  },
  {
   "cell_type": "markdown",
   "metadata": {},
   "source": [
    "Chrome 개발자도구\n",
    "- Elements\n",
    "- Network : Check 'Preserve log' > Headers / Response Tab"
   ]
  },
  {
   "cell_type": "code",
   "execution_count": 1,
   "metadata": {},
   "outputs": [],
   "source": [
    "import requests"
   ]
  },
  {
   "cell_type": "markdown",
   "metadata": {},
   "source": [
    "#### get 요청하기"
   ]
  },
  {
   "cell_type": "code",
   "execution_count": 2,
   "metadata": {},
   "outputs": [
    {
     "name": "stdout",
     "output_type": "stream",
     "text": [
      "{'Connection': 'close', 'Date': 'Wed, 20 May 2020 07:54:44 GMT', 'Set-Cookie': 'harmony_view_access_dt=1589961284584; Path=/', 'Expires': 'Thu, 01 Jan 1970 00:00:00 GMT', 'Content-Language': 'en-US', 'Content-Type': 'text/html;charset=utf-8', 'Vary': 'Accept-Encoding, User-Agent', 'Content-Encoding': 'gzip'}\n"
     ]
    }
   ],
   "source": [
    "url = 'https://news.v.daum.net/v/20190728165812603'\n",
    "response = requests.get(url)\n",
    "\n",
    "if response.status_code == 200:\n",
    "    print(response.headers)\n",
    "else:\n",
    "    print('error')"
   ]
  },
  {
   "cell_type": "markdown",
   "metadata": {},
   "source": [
    "#### post 요청하기\n",
    "1. http post 요청하기\n",
    "2. post data 이용하여 데이터 전달하기"
   ]
  },
  {
   "cell_type": "code",
   "execution_count": 3,
   "metadata": {},
   "outputs": [
    {
     "data": {
      "text/plain": [
       "<Response [200]>"
      ]
     },
     "execution_count": 3,
     "metadata": {},
     "output_type": "execute_result"
    }
   ],
   "source": [
    "url = 'https://www.kangcom.com/member/member_check.asp'\n",
    "data = {\n",
    "    'id': 'macmath22',\n",
    "    'pwd': 'T'\n",
    "}\n",
    "\n",
    "response = requests.post(url, data=data)\n",
    "response"
   ]
  },
  {
   "cell_type": "markdown",
   "metadata": {},
   "source": [
    "#### HTTP header 데이터 이용하기\n",
    "1. header 데이터 구성하기\n",
    "2. header 데이터 전달하기"
   ]
  },
  {
   "cell_type": "code",
   "execution_count": 4,
   "metadata": {},
   "outputs": [
    {
     "data": {
      "text/plain": [
       "<Response [200]>"
      ]
     },
     "execution_count": 4,
     "metadata": {},
     "output_type": "execute_result"
    }
   ],
   "source": [
    "url = 'https://news.v.daum.net/v/20190728165812603'\n",
    "headers = {\n",
    "    'user-agent': 'Mozilla/5.0 (Macintosh; Intel Mac OS X 10_14_6) AppleWebKit/537.36 (KHTML, like Gecko) Chrome/75.0.3770.142 Safari/537.36'\n",
    "}\n",
    "\n",
    "response = requests.get(url, headers=headers)\n",
    "response"
   ]
  },
  {
   "cell_type": "markdown",
   "metadata": {},
   "source": [
    "## Open API 사용해 json data 추출"
   ]
  },
  {
   "cell_type": "markdown",
   "metadata": {},
   "source": [
    "공공 데이터 포털 Open API 사용\n",
    "\n",
    "* API 사용 요청 / 키 발급\n",
    "* API 문서(specification) 확인\n",
    "* API 테스트 및 개발"
   ]
  },
  {
   "cell_type": "code",
   "execution_count": 5,
   "metadata": {},
   "outputs": [],
   "source": [
    "serviceKey = 'GOe7vW0EjFIGLKTPBW2kPET%2FzYRtXB2WJ9i1oHP8PcONPPAgidtCTDBkPskKt2NMbCvTjiN13jAttzmsNXoX1Q%3D%3D'"
   ]
  },
  {
   "cell_type": "code",
   "execution_count": 6,
   "metadata": {},
   "outputs": [
    {
     "name": "stdout",
     "output_type": "stream",
     "text": [
      "http://api.visitkorea.or.kr/openapi/service/rest/EngService/areaCode?serviceKey=GOe7vW0EjFIGLKTPBW2kPET%2FzYRtXB2WJ9i1oHP8PcONPPAgidtCTDBkPskKt2NMbCvTjiN13jAttzmsNXoX1Q%3D%3D&numOfRows=10&pageSize=10&pageNo=1&MobileOS=ETC&MobileApp=AppTest&_type=json\n"
     ]
    }
   ],
   "source": [
    "# Endpoint 확인\n",
    "endpoint = 'http://api.visitkorea.or.kr/openapi/service/rest/EngService/areaCode?serviceKey={}&numOfRows=10&pageSize=10&pageNo=1&MobileOS=ETC&MobileApp=AppTest&_type=json'.format(serviceKey)\n",
    "print(endpoint)"
   ]
  },
  {
   "cell_type": "code",
   "execution_count": 7,
   "metadata": {},
   "outputs": [
    {
     "name": "stdout",
     "output_type": "stream",
     "text": [
      "200\n",
      "{\"response\":{\"header\":{\"resultCode\":\"0000\",\"resultMsg\":\"OK\"},\"body\":{\"items\":{\"item\":[{\"code\":1,\"name\":\"Seoul\",\"rnum\":1},{\"code\":2,\"name\":\"Incheon\",\"rnum\":2},{\"code\":3,\"name\":\"Daejeon\",\"rnum\":3},{\"code\":4,\"name\":\"Daegu\",\"rnum\":4},{\"code\":5,\"name\":\"Gwangju\",\"rnum\":5},{\"code\":6,\"name\":\"Busan\",\"rnum\":6},{\"code\":7,\"name\":\"Ulsan\",\"rnum\":7},{\"code\":8,\"name\":\"Sejong\",\"rnum\":8},{\"code\":31,\"name\":\"Gyeonggi-do\",\"rnum\":9},{\"code\":32,\"name\":\"Gangwon-do\",\"rnum\":10}]},\"numOfRows\":10,\"pageNo\":1,\"totalCount\":17}}}\n"
     ]
    }
   ],
   "source": [
    "# pageNo 추가\n",
    "endpoint = 'http://api.visitkorea.or.kr/openapi/service/rest/EngService/areaCode?serviceKey={}&numOfRows=10&pageSize=10&pageNo={}&MobileOS=ETC&MobileApp=AppTest&_type=json'.format(serviceKey, 1)\n",
    "resp = requests.get(endpoint)\n",
    "print(resp.status_code)\n",
    "print(resp.text)"
   ]
  },
  {
   "cell_type": "code",
   "execution_count": 8,
   "metadata": {},
   "outputs": [
    {
     "name": "stdout",
     "output_type": "stream",
     "text": [
      "{'code': 1, 'name': 'Seoul', 'rnum': 1}\n"
     ]
    }
   ],
   "source": [
    "# dictionary 변환\n",
    "data = resp.json()\n",
    "item_list = data['response']['body']['items']['item']\n",
    "print(item_list[0])"
   ]
  }
 ],
 "metadata": {
  "kernelspec": {
   "display_name": "Python 3",
   "language": "python",
   "name": "python3"
  },
  "language_info": {
   "codemirror_mode": {
    "name": "ipython",
    "version": 3
   },
   "file_extension": ".py",
   "mimetype": "text/x-python",
   "name": "python",
   "nbconvert_exporter": "python",
   "pygments_lexer": "ipython3",
   "version": "3.7.6"
  }
 },
 "nbformat": 4,
 "nbformat_minor": 2
}
