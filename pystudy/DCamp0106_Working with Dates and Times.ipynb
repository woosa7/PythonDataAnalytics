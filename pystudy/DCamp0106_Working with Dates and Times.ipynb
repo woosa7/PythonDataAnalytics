{
 "cells": [
  {
   "cell_type": "markdown",
   "metadata": {},
   "source": [
    "## Working with Dates and Times"
   ]
  },
  {
   "cell_type": "code",
   "execution_count": 1,
   "metadata": {},
   "outputs": [],
   "source": [
    "from datetime import date\n",
    "from datetime import datetime"
   ]
  },
  {
   "cell_type": "code",
   "execution_count": 2,
   "metadata": {},
   "outputs": [
    {
     "name": "stdout",
     "output_type": "stream",
     "text": [
      "2\n"
     ]
    }
   ],
   "source": [
    "# Which day of the week?\n",
    "\n",
    "hurricane_andrew = date(1992, 8, 26)\n",
    "print(hurricane_andrew.weekday())"
   ]
  },
  {
   "cell_type": "code",
   "execution_count": 3,
   "metadata": {},
   "outputs": [
    {
     "name": "stdout",
     "output_type": "stream",
     "text": [
      "florida_hurricane : 235\n",
      "early hurricanes  : 10\n"
     ]
    }
   ],
   "source": [
    "# How many hurricanes come early?\n",
    "\n",
    "import pickle\n",
    "\n",
    "# list of the hurricanes that made landfall in Florida from 1950 to 2017\n",
    "with open('data/chap01/florida_hurricane_dates.pkl', 'rb') as f:\n",
    "    florida_hurricane_dates = pickle.load(f)\n",
    "\n",
    "print('florida_hurricane :', len(florida_hurricane_dates))\n",
    "\n",
    "# Counter for how many before June 1\n",
    "early_hurricanes = 0\n",
    "for hurricane in florida_hurricane_dates:\n",
    "    if hurricane.month < 6:\n",
    "        early_hurricanes = early_hurricanes + 1\n",
    "\n",
    "print('early hurricanes  :', early_hurricanes)"
   ]
  },
  {
   "cell_type": "code",
   "execution_count": 4,
   "metadata": {},
   "outputs": [
    {
     "name": "stdout",
     "output_type": "stream",
     "text": [
      "218\n"
     ]
    }
   ],
   "source": [
    "# Subtracting dates\n",
    "\n",
    "start = date(2007, 5, 9)\n",
    "end = date(2007, 12, 13)\n",
    "\n",
    "print((end - start).days)"
   ]
  },
  {
   "cell_type": "code",
   "execution_count": 5,
   "metadata": {},
   "outputs": [
    {
     "name": "stdout",
     "output_type": "stream",
     "text": [
      "{1: 0, 2: 1, 3: 0, 4: 1, 5: 8, 6: 32, 7: 21, 8: 49, 9: 70, 10: 43, 11: 9, 12: 1}\n"
     ]
    }
   ],
   "source": [
    "# Counting events per calendar month\n",
    "\n",
    "# A dictionary to count hurricanes per calendar month\n",
    "hurricanes_each_month = {1: 0, 2: 0, 3: 0, 4: 0, 5: 0, 6: 0,\n",
    "                         7: 0, 8: 0, 9: 0,10: 0,11: 0,12: 0}\n",
    "\n",
    "# Loop over all hurricanes\n",
    "for hurricane in florida_hurricane_dates:\n",
    "    month = hurricane.month\n",
    "    hurricanes_each_month[month] += 1\n",
    "\n",
    "print(hurricanes_each_month)"
   ]
  },
  {
   "cell_type": "code",
   "execution_count": 6,
   "metadata": {},
   "outputs": [
    {
     "name": "stdout",
     "output_type": "stream",
     "text": [
      "1988-08-04\n",
      "2011-07-18\n",
      "\n",
      "1950-08-31\n",
      "2017-10-29\n"
     ]
    }
   ],
   "source": [
    "# Putting a list of dates in order\n",
    "\n",
    "# Print the first and last scrambled dates\n",
    "print(florida_hurricane_dates[0])\n",
    "print(florida_hurricane_dates[-1])\n",
    "print()\n",
    "\n",
    "# Put the dates in order\n",
    "dates_ordered = sorted(florida_hurricane_dates)\n",
    "\n",
    "print(dates_ordered[0])\n",
    "print(dates_ordered[-1])"
   ]
  },
  {
   "cell_type": "code",
   "execution_count": 7,
   "metadata": {},
   "outputs": [
    {
     "name": "stdout",
     "output_type": "stream",
     "text": [
      "ISO: Our earliest hurricane date: 1988-08-04\n",
      "US : Our earliest hurricane date: 08/04/1988\n"
     ]
    }
   ],
   "source": [
    "# Printing dates in a friendly format\n",
    "\n",
    "first_date = florida_hurricane_dates[0]\n",
    "\n",
    "# Convert to ISO and US formats\n",
    "iso = \"Our earliest hurricane date: \" + first_date.isoformat()\n",
    "us = \"Our earliest hurricane date: \" + first_date.strftime(\"%m/%d/%Y\")\n",
    "\n",
    "print(\"ISO: \" + iso)\n",
    "print(\"US : \" + us)"
   ]
  },
  {
   "cell_type": "code",
   "execution_count": 8,
   "metadata": {},
   "outputs": [
    {
     "name": "stdout",
     "output_type": "stream",
     "text": [
      "2017-10-01T15:26:26\n",
      "1917-10-01 15:26:26\n"
     ]
    }
   ],
   "source": [
    "# Creating datetimes by hand\n",
    "\n",
    "dt = datetime(2017, 10, 1, 15, 26, 26)\n",
    "print(dt.isoformat())\n",
    "\n",
    "# Replace the year with 1917\n",
    "dt_old = dt.replace(year=1917)\n",
    "print(dt_old)"
   ]
  },
  {
   "cell_type": "code",
   "execution_count": 9,
   "metadata": {},
   "outputs": [
    {
     "name": "stdout",
     "output_type": "stream",
     "text": [
      "{'AM': 94, 'PM': 196}\n"
     ]
    }
   ],
   "source": [
    "# Counting events before and after noon\n",
    "\n",
    "import pandas as pd\n",
    "\n",
    "df = pd.read_csv('data/chap01/capital-onebike.csv')\n",
    "df = df[['start', 'end']]\n",
    "df['start'] = pd.to_datetime(df['start'])\n",
    "df['end'] = pd.to_datetime(df['end'])\n",
    "\n",
    "onebike_datetimes = df[['start','end']]\n",
    "\n",
    "# Create dictionary to hold results\n",
    "trip_counts = {'AM': 0, 'PM': 0}\n",
    "\n",
    "for i, trip in onebike_datetimes.iterrows():\n",
    "    # Check to see if the trip starts before noon\n",
    "    if trip.start.hour < 12:\n",
    "        trip_counts['AM'] += 1\n",
    "    else:\n",
    "        trip_counts['PM'] += 1\n",
    "\n",
    "print(trip_counts)"
   ]
  },
  {
   "cell_type": "code",
   "execution_count": 10,
   "metadata": {},
   "outputs": [
    {
     "name": "stdout",
     "output_type": "stream",
     "text": [
      "2017-02-03 00:00:01\n",
      "2030-10-15 00:00:00\n"
     ]
    }
   ],
   "source": [
    "# Convert strings into datetimes\n",
    "\n",
    "s = '2017-02-03 00:00:01'\n",
    "fmt = '%Y-%m-%d %H:%M:%S'\n",
    "d = datetime.strptime(s, fmt)\n",
    "print(d)\n",
    "\n",
    "s = '2030-10-15'\n",
    "fmt = '%Y-%m-%d'\n",
    "d = datetime.strptime(s, fmt)\n",
    "print(d)"
   ]
  },
  {
   "cell_type": "code",
   "execution_count": 11,
   "metadata": {},
   "outputs": [
    {
     "name": "stdout",
     "output_type": "stream",
     "text": [
      "[datetime.datetime(2017, 12, 31, 5, 19, 13), datetime.datetime(2017, 12, 31, 5, 9, 3)]\n"
     ]
    }
   ],
   "source": [
    "# Unix timestamps\n",
    "\n",
    "timestamps = [1514665153, 1514664543]\n",
    "\n",
    "dts = []\n",
    "\n",
    "for ts in timestamps:\n",
    "    dts.append(datetime.fromtimestamp(ts))\n",
    "\n",
    "print(dts)"
   ]
  },
  {
   "cell_type": "code",
   "execution_count": 12,
   "metadata": {},
   "outputs": [
    {
     "name": "stdout",
     "output_type": "stream",
     "text": [
      "2017-11-05 01:56:00 start ~ 2017-11-05 01:01:00 end\n",
      "\n",
      "Average trip time : 1178.4827586206898\n",
      "The shortest trip : -3300.0 seconds\n",
      "The longest trip  : 76920.0 seconds\n"
     ]
    }
   ],
   "source": [
    "# Turning pairs of datetimes into durations\n",
    "\n",
    "onebike_durations = []\n",
    "\n",
    "for i, trip in onebike_datetimes.iterrows():\n",
    "    # Create a timedelta object corresponding to the length of the trip\n",
    "    trip_duration = trip['end'] - trip['start']\n",
    "\n",
    "    # Get the total elapsed seconds in trip_duration\n",
    "    trip_length_seconds = trip_duration.total_seconds()\n",
    "    \n",
    "    if trip_length_seconds < -3000:\n",
    "        print(trip['start'], 'start ~', trip['end'], 'end')\n",
    "\n",
    "    onebike_durations.append(trip_length_seconds)\n",
    "\n",
    "\n",
    "# What was the total duration of all trips?\n",
    "total_elapsed_time = sum(onebike_durations)\n",
    "\n",
    "# What was the total number of trips?\n",
    "number_of_trips = len(onebike_durations)\n",
    "\n",
    "# Divide the total duration by the number of trips\n",
    "print('\\nAverage trip time :', total_elapsed_time / number_of_trips)\n",
    "\n",
    "# Calculate shortest and longest trips\n",
    "shortest_trip = min(onebike_durations)\n",
    "longest_trip = max(onebike_durations)\n",
    "print(\"The shortest trip : \" + str(shortest_trip) + \" seconds\")  # -3300 sec. --> timezone 적용 필요.\n",
    "print(\"The longest trip  : \" + str(longest_trip) + \" seconds\")"
   ]
  },
  {
   "cell_type": "markdown",
   "metadata": {},
   "source": [
    "### Timezone"
   ]
  },
  {
   "cell_type": "code",
   "execution_count": 13,
   "metadata": {},
   "outputs": [],
   "source": [
    "from datetime import datetime, timezone, timedelta\n",
    "from dateutil import tz"
   ]
  },
  {
   "cell_type": "code",
   "execution_count": 14,
   "metadata": {},
   "outputs": [
    {
     "name": "stdout",
     "output_type": "stream",
     "text": [
      "2017-10-01T15:26:26+00:00\n",
      "2017-10-01T15:26:26-08:00\n"
     ]
    }
   ],
   "source": [
    "UTC = timezone(timedelta(hours=0))\n",
    "\n",
    "# October 1, 2017 at 15:26:26, UTC\n",
    "dt = datetime(2017, 10, 1, 15, 26, 26, tzinfo=UTC)\n",
    "print(dt.isoformat())\n",
    "\n",
    "# Create a timezone for Pacific Standard Time, or UTC-8\n",
    "pst = timezone(timedelta(hours=-8))\n",
    "# October 1, 2017 at 15:26:26, UTC-8\n",
    "dt = datetime(2017, 10, 1, 15, 26, 26, tzinfo=pst)\n",
    "print(dt.isoformat())"
   ]
  },
  {
   "cell_type": "code",
   "execution_count": 15,
   "metadata": {},
   "outputs": [
    {
     "name": "stdout",
     "output_type": "stream",
     "text": [
      "The shortest trip : -1 days +23:05:00\n",
      "The longest trip  : 0 days 21:22:00\n"
     ]
    }
   ],
   "source": [
    "# Putting the bike trips into the right time zone\n",
    "\n",
    "# Create a timezone object\n",
    "et = tz.gettz('America/New_York')\n",
    "\n",
    "onebike_durations = []\n",
    "for i, trip in onebike_datetimes.iterrows():\n",
    "    # Update\n",
    "    trip['start'] = trip['start'].replace(tzinfo=et)\n",
    "    trip['end'] = trip['end'].replace(tzinfo=et)\n",
    "\n",
    "    trip_duration = trip['end'] - trip['start']\n",
    "    onebike_durations.append(trip_duration)\n",
    "\n",
    "shortest_trip = min(onebike_durations)\n",
    "longest_trip = max(onebike_durations)\n",
    "print(\"The shortest trip : \" + str(shortest_trip))\n",
    "print(\"The longest trip  : \" + str(longest_trip))"
   ]
  },
  {
   "cell_type": "code",
   "execution_count": 16,
   "metadata": {},
   "outputs": [
    {
     "name": "stdout",
     "output_type": "stream",
     "text": [
      "start                         2017-10-01 15:23:00\n",
      "end                           2017-10-01 15:26:00\n",
      "start_station_no                            31038\n",
      "start_station                Glebe Rd & 11th St N\n",
      "end_station_no                              31036\n",
      "end_station         George Mason Dr & Wilson Blvd\n",
      "bike_no                                    W20529\n",
      "type                                       Member\n",
      "Name: 0, dtype: object\n"
     ]
    }
   ],
   "source": [
    "# Load CSV into the rides variable\n",
    "rides = pd.read_csv('data/chap01/capital-onebike.csv',\n",
    "                    parse_dates=['start', 'end'])\n",
    "\n",
    "print(rides.iloc[0])"
   ]
  },
  {
   "cell_type": "code",
   "execution_count": 17,
   "metadata": {},
   "outputs": [
    {
     "name": "stdout",
     "output_type": "stream",
     "text": [
      "0     180.0\n",
      "1    7620.0\n",
      "2     300.0\n",
      "3    1320.0\n",
      "4    1320.0\n",
      "Name: Duration, dtype: float64\n"
     ]
    }
   ],
   "source": [
    "# Making timedelta columns\n",
    "ride_durations = rides['end'] - rides['start']\n",
    "rides['Duration'] = ride_durations.dt.total_seconds()\n",
    "print(rides['Duration'].head())"
   ]
  },
  {
   "cell_type": "code",
   "execution_count": 18,
   "metadata": {},
   "outputs": [
    {
     "name": "stdout",
     "output_type": "stream",
     "text": [
      "6 rides were joyrides\n",
      "The median duration overall was 660.00 seconds\n",
      "The median duration for joyrides was 2640.00 seconds\n"
     ]
    }
   ],
   "source": [
    "# How many joyrides?\n",
    "\n",
    "joyrides = (rides['start_station_no'] == rides['end_station_no'])  # 시작과 종료 station이 같은 경우\n",
    "\n",
    "print(\"{} rides were joyrides\".format(joyrides.sum()))\n",
    "\n",
    "print(\"The median duration overall was {:.2f} seconds\".format(rides['Duration'].median()))\n",
    "\n",
    "print(\"The median duration for joyrides was {:.2f} seconds\".format(rides[joyrides]['Duration'].median()))"
   ]
  },
  {
   "cell_type": "code",
   "execution_count": 19,
   "metadata": {},
   "outputs": [
    {
     "data": {
      "image/png": "[encoded data removed]",
      "text/plain": [
       "<Figure size 432x288 with 1 Axes>"
      ]
     },
     "metadata": {
      "needs_background": "light"
     },
     "output_type": "display_data"
    },
    {
     "data": {
      "image/png": "[encoded data removed]",
      "text/plain": [
       "<Figure size 432x288 with 1 Axes>"
      ]
     },
     "metadata": {
      "needs_background": "light"
     },
     "output_type": "display_data"
    }
   ],
   "source": [
    "%matplotlib inline\n",
    "import matplotlib.pyplot as plt\n",
    "\n",
    "# Resample rides to daily(D), take the size, plot the results\n",
    "rides.resample('D', on='start') \\\n",
    "    .size() \\\n",
    "    .plot(ylim=[0, 15])\n",
    "plt.show()\n",
    "\n",
    "# Resample rides to monthly, take the size, plot the results\n",
    "rides.resample('M', on='start') \\\n",
    "    .size() \\\n",
    "    .plot(ylim=[0, 150])\n",
    "plt.show()"
   ]
  },
  {
   "cell_type": "code",
   "execution_count": 20,
   "metadata": {},
   "outputs": [
    {
     "name": "stdout",
     "output_type": "stream",
     "text": [
      "0      Member\n",
      "1      Casual\n",
      "2      Member\n",
      "3      Member\n",
      "4      Member\n",
      "108    Member\n",
      "109    Member\n",
      "110    Member\n",
      "111    Member\n",
      "112    Member\n",
      "211    Member\n",
      "212    Member\n",
      "213    Member\n",
      "214    Member\n",
      "215    Casual\n",
      "Name: type, dtype: object\n",
      "start       type  \n",
      "2017-10-31  Member    0.768519\n",
      "            Casual    0.231481\n",
      "2017-11-30  Member    0.825243\n",
      "            Casual    0.174757\n",
      "2017-12-31  Member    0.860759\n",
      "            Casual    0.139241\n",
      "Name: type, dtype: float64\n"
     ]
    }
   ],
   "source": [
    "# Members vs casual riders over time\n",
    "\n",
    "# Resample rides to be monthly on the basis of start\n",
    "monthly_rides = rides.resample('M', on='start')['type']\n",
    "\n",
    "print(monthly_rides.head())\n",
    "\n",
    "# Take the ratio of the .value_counts() over the total number of rides\n",
    "print(monthly_rides.value_counts() / monthly_rides.size())"
   ]
  },
  {
   "cell_type": "code",
   "execution_count": 21,
   "metadata": {},
   "outputs": [
    {
     "name": "stdout",
     "output_type": "stream",
     "text": [
      "type    start     \n",
      "Casual  2017-10-31    1620.0\n",
      "        2017-11-30    1170.0\n",
      "        2017-12-31     840.0\n",
      "Member  2017-10-31     660.0\n",
      "        2017-11-30     660.0\n",
      "        2017-12-31     420.0\n",
      "Name: Duration, dtype: float64\n"
     ]
    }
   ],
   "source": [
    "# Combining groupby() and resample()\n",
    "\n",
    "grouped = rides.groupby('type').resample('M', on='start')\n",
    "\n",
    "print(grouped['Duration'].median())"
   ]
  },
  {
   "cell_type": "code",
   "execution_count": 22,
   "metadata": {},
   "outputs": [
    {
     "name": "stdout",
     "output_type": "stream",
     "text": [
      "2017-10-01 15:23:00-04:00\n"
     ]
    }
   ],
   "source": [
    "# Timezones in Pandas\n",
    "\n",
    "rides['start'] = rides['start'].dt.tz_localize('America/New_York', ambiguous='NaT')\n",
    "rides['end'] = rides['end'].dt.tz_localize('America/New_York', ambiguous='NaT')\n",
    "\n",
    "print(rides['start'].iloc[0])"
   ]
  },
  {
   "cell_type": "code",
   "execution_count": 23,
   "metadata": {},
   "outputs": [
    {
     "name": "stdout",
     "output_type": "stream",
     "text": [
      "Ride start weekday\n",
      "Friday       720.0\n",
      "Monday       780.0\n",
      "Saturday     480.0\n",
      "Sunday       900.0\n",
      "Thursday     660.0\n",
      "Tuesday      630.0\n",
      "Wednesday    600.0\n",
      "Name: Duration, dtype: float64\n"
     ]
    }
   ],
   "source": [
    "# How long per weekday?\n",
    "\n",
    "# Add a column for the weekday of the start of the ride\n",
    "rides['Ride start weekday'] = rides['start'].dt.weekday_name\n",
    "\n",
    "print(rides.groupby('Ride start weekday')['Duration'].median())"
   ]
  },
  {
   "cell_type": "code",
   "execution_count": 24,
   "metadata": {},
   "outputs": [
    {
     "name": "stdout",
     "output_type": "stream",
     "text": [
      "start\n",
      "2017-10-31 00:00:00-04:00    5.520405\n",
      "2017-11-30 00:00:00-05:00    7.256271\n",
      "2017-12-31 00:00:00-05:00    9.201688\n",
      "Name: Time since, dtype: float64\n"
     ]
    }
   ],
   "source": [
    "# How long between rides?\n",
    "\n",
    "# Shift the index of the end date up one; now subract it from the start date\n",
    "rides['Time since'] = rides['start'] - (rides['end'].shift(1))\n",
    "\n",
    "# Move from a timedelta to a number of seconds, which is easier to work with\n",
    "rides['Time since'] = rides['Time since'].dt.total_seconds()\n",
    "\n",
    "# Resample to the month\n",
    "monthly = rides.resample('M', on='start')\n",
    "\n",
    "# Print the average hours between rides each month\n",
    "print(monthly['Time since'].mean() / (60 * 60))"
   ]
  }
 ],
 "metadata": {
  "kernelspec": {
   "display_name": "Python 3",
   "language": "python",
   "name": "python3"
  },
  "language_info": {
   "codemirror_mode": {
    "name": "ipython",
    "version": 3
   },
   "file_extension": ".py",
   "mimetype": "text/x-python",
   "name": "python",
   "nbconvert_exporter": "python",
   "pygments_lexer": "ipython3",
   "version": "3.7.3"
  }
 },
 "nbformat": 4,
 "nbformat_minor": 2
}
