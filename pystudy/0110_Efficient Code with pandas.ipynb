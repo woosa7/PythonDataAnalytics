{
 "cells": [
  {
   "cell_type": "markdown",
   "metadata": {},
   "source": [
    "# Efficient Code with pandas"
   ]
  },
  {
   "cell_type": "markdown",
   "metadata": {},
   "source": [
    "## 1. Selecting columns and rows efficiently"
   ]
  },
  {
   "cell_type": "code",
   "execution_count": 1,
   "metadata": {},
   "outputs": [],
   "source": [
    "import time\n",
    "import pandas as pd\n",
    "import numpy as np"
   ]
  },
  {
   "cell_type": "code",
   "execution_count": 2,
   "metadata": {},
   "outputs": [],
   "source": [
    "import warnings\n",
    "warnings.filterwarnings(\"ignore\")"
   ]
  },
  {
   "cell_type": "code",
   "execution_count": 3,
   "metadata": {},
   "outputs": [
    {
     "data": {
      "text/plain": [
       "(25010, 12)"
      ]
     },
     "execution_count": 3,
     "metadata": {},
     "output_type": "execute_result"
    }
   ],
   "source": [
    "poker_hands = pd.read_csv('data/poker_hands.csv')\n",
    "poker_hands.shape"
   ]
  },
  {
   "cell_type": "code",
   "execution_count": 4,
   "metadata": {},
   "outputs": [
    {
     "name": "stdout",
     "output_type": "stream",
     "text": [
      "Time using .loc[] : 0.0019943714141845703 sec\n",
      "Time using .iloc[]: 0.0010082721710205078 sec\n"
     ]
    }
   ],
   "source": [
    "# Row selection: loc[] vs iloc[]\n",
    "# iloc[] is more efficient\n",
    "\n",
    "row_nums = range(0, 1000)\n",
    "\n",
    "# Select the rows using .loc[] \n",
    "loc_start_time = time.time()\n",
    "rows = poker_hands.loc[row_nums]\n",
    "loc_end_time = time.time()\n",
    "\n",
    "# Select the rows using .iloc[]\n",
    "iloc_start_time = time.time()\n",
    "rows = poker_hands.iloc[row_nums]\n",
    "iloc_end_time = time.time()\n",
    "\n",
    "print(\"Time using .loc[] : {} sec\".format(loc_end_time - loc_start_time))\n",
    "print(\"Time using .iloc[]: {} sec\".format(iloc_end_time - iloc_start_time))"
   ]
  },
  {
   "cell_type": "code",
   "execution_count": 5,
   "metadata": {},
   "outputs": [
    {
     "data": {
      "text/plain": [
       "Index(['S1', 'R1', 'S2', 'R2', 'S3', 'R3', 'S4', 'R4', 'S5', 'R5', 'Class',\n",
       "       'Explanation'],\n",
       "      dtype='object')"
      ]
     },
     "execution_count": 5,
     "metadata": {},
     "output_type": "execute_result"
    }
   ],
   "source": [
    "poker_hands.columns"
   ]
  },
  {
   "cell_type": "code",
   "execution_count": 6,
   "metadata": {},
   "outputs": [
    {
     "name": "stdout",
     "output_type": "stream",
     "text": [
      "Time using .iloc[]           : 0.0009984970092773438 sec\n",
      "Time using selection by name : 0.0029947757720947266 sec\n"
     ]
    }
   ],
   "source": [
    "# Column selection: .iloc[] vs by name\n",
    "\n",
    "# Use .iloc to select the first 6 columns\n",
    "iloc_start_time = time.time()\n",
    "cols = poker_hands.iloc[:, 0:6]\n",
    "iloc_end_time = time.time()\n",
    "\n",
    "# Use simple column selection to select the first 6 columns\n",
    "names_start_time = time.time()\n",
    "cols = poker_hands[['S1', 'R1', 'S2', 'R2', 'S3', 'R3']]\n",
    "names_end_time = time.time()\n",
    "\n",
    "print(\"Time using .iloc[]           : {} sec\".format(iloc_end_time - iloc_start_time))\n",
    "print(\"Time using selection by name : {} sec\".format(names_end_time - names_start_time))"
   ]
  },
  {
   "cell_type": "code",
   "execution_count": 7,
   "metadata": {},
   "outputs": [
    {
     "name": "stdout",
     "output_type": "stream",
     "text": [
      "Time using Numpy  : 0.002993345260620117 sec\n",
      "Time using .sample: 0.003991842269897461 sec\n"
     ]
    }
   ],
   "source": [
    "# Random row selection\n",
    "# sample() is more efficient\n",
    "\n",
    "N = poker_hands.shape[0]\n",
    "\n",
    "# Select and time the selection of the 75% of the dataset's rows\n",
    "rand_start_time = time.time()\n",
    "poker_hands.iloc[np.random.randint(low=0, high=N, size=int(0.75 * N))]\n",
    "print(\"Time using Numpy  : {} sec\".format(time.time() - rand_start_time))\n",
    "\n",
    "# Select and time the selection of the 75% of the dataset's rows using sample()\n",
    "samp_start_time = time.time()\n",
    "poker_hands.sample(int(0.75 * N), axis=0, replace=True)\n",
    "print(\"Time using .sample: {} sec\".format(time.time() - samp_start_time))"
   ]
  },
  {
   "cell_type": "markdown",
   "metadata": {},
   "source": [
    "## 2. Replacing values in a DataFrame"
   ]
  },
  {
   "cell_type": "code",
   "execution_count": 8,
   "metadata": {},
   "outputs": [
    {
     "data": {
      "text/html": [
       "<div>\n",
       "<style scoped>\n",
       "    .dataframe tbody tr th:only-of-type {\n",
       "        vertical-align: middle;\n",
       "    }\n",
       "\n",
       "    .dataframe tbody tr th {\n",
       "        vertical-align: top;\n",
       "    }\n",
       "\n",
       "    .dataframe thead th {\n",
       "        text-align: right;\n",
       "    }\n",
       "</style>\n",
       "<table border=\"1\" class=\"dataframe\">\n",
       "  <thead>\n",
       "    <tr style=\"text-align: right;\">\n",
       "      <th></th>\n",
       "      <th>BRITH_YEAR</th>\n",
       "      <th>GENDER</th>\n",
       "      <th>ETHNICTY</th>\n",
       "      <th>NAME</th>\n",
       "      <th>COUNT</th>\n",
       "      <th>RANK</th>\n",
       "    </tr>\n",
       "  </thead>\n",
       "  <tbody>\n",
       "    <tr>\n",
       "      <th>0</th>\n",
       "      <td>2011</td>\n",
       "      <td>FEMALE</td>\n",
       "      <td>HISPANIC</td>\n",
       "      <td>GERALDINE</td>\n",
       "      <td>13</td>\n",
       "      <td>75</td>\n",
       "    </tr>\n",
       "    <tr>\n",
       "      <th>1</th>\n",
       "      <td>2011</td>\n",
       "      <td>FEMALE</td>\n",
       "      <td>HISPANIC</td>\n",
       "      <td>GIA</td>\n",
       "      <td>21</td>\n",
       "      <td>67</td>\n",
       "    </tr>\n",
       "    <tr>\n",
       "      <th>2</th>\n",
       "      <td>2011</td>\n",
       "      <td>FEMALE</td>\n",
       "      <td>HISPANIC</td>\n",
       "      <td>GIANNA</td>\n",
       "      <td>49</td>\n",
       "      <td>42</td>\n",
       "    </tr>\n",
       "    <tr>\n",
       "      <th>3</th>\n",
       "      <td>2011</td>\n",
       "      <td>FEMALE</td>\n",
       "      <td>HISPANIC</td>\n",
       "      <td>GISELLE</td>\n",
       "      <td>38</td>\n",
       "      <td>51</td>\n",
       "    </tr>\n",
       "    <tr>\n",
       "      <th>4</th>\n",
       "      <td>2011</td>\n",
       "      <td>FEMALE</td>\n",
       "      <td>HISPANIC</td>\n",
       "      <td>GRACE</td>\n",
       "      <td>36</td>\n",
       "      <td>53</td>\n",
       "    </tr>\n",
       "  </tbody>\n",
       "</table>\n",
       "</div>"
      ],
      "text/plain": [
       "   BRITH_YEAR  GENDER  ETHNICTY       NAME  COUNT  RANK\n",
       "0        2011  FEMALE  HISPANIC  GERALDINE     13    75\n",
       "1        2011  FEMALE  HISPANIC        GIA     21    67\n",
       "2        2011  FEMALE  HISPANIC     GIANNA     49    42\n",
       "3        2011  FEMALE  HISPANIC    GISELLE     38    51\n",
       "4        2011  FEMALE  HISPANIC      GRACE     36    53"
      ]
     },
     "execution_count": 8,
     "metadata": {},
     "output_type": "execute_result"
    }
   ],
   "source": [
    "names = pd.read_csv('data/baby_names.csv')\n",
    "names.head()"
   ]
  },
  {
   "cell_type": "code",
   "execution_count": 9,
   "metadata": {},
   "outputs": [
    {
     "data": {
      "text/html": [
       "<div>\n",
       "<style scoped>\n",
       "    .dataframe tbody tr th:only-of-type {\n",
       "        vertical-align: middle;\n",
       "    }\n",
       "\n",
       "    .dataframe tbody tr th {\n",
       "        vertical-align: top;\n",
       "    }\n",
       "\n",
       "    .dataframe thead th {\n",
       "        text-align: right;\n",
       "    }\n",
       "</style>\n",
       "<table border=\"1\" class=\"dataframe\">\n",
       "  <thead>\n",
       "    <tr style=\"text-align: right;\">\n",
       "      <th></th>\n",
       "      <th>BRITH_YEAR</th>\n",
       "      <th>GENDER</th>\n",
       "      <th>ETHNICTY</th>\n",
       "      <th>NAME</th>\n",
       "      <th>COUNT</th>\n",
       "      <th>RANK</th>\n",
       "    </tr>\n",
       "  </thead>\n",
       "  <tbody>\n",
       "    <tr>\n",
       "      <th>0</th>\n",
       "      <td>2011</td>\n",
       "      <td>GIRL</td>\n",
       "      <td>HISPANIC</td>\n",
       "      <td>GERALDINE</td>\n",
       "      <td>13</td>\n",
       "      <td>75</td>\n",
       "    </tr>\n",
       "    <tr>\n",
       "      <th>1</th>\n",
       "      <td>2011</td>\n",
       "      <td>GIRL</td>\n",
       "      <td>HISPANIC</td>\n",
       "      <td>GIA</td>\n",
       "      <td>21</td>\n",
       "      <td>67</td>\n",
       "    </tr>\n",
       "    <tr>\n",
       "      <th>2</th>\n",
       "      <td>2011</td>\n",
       "      <td>GIRL</td>\n",
       "      <td>HISPANIC</td>\n",
       "      <td>GIANNA</td>\n",
       "      <td>49</td>\n",
       "      <td>42</td>\n",
       "    </tr>\n",
       "    <tr>\n",
       "      <th>3</th>\n",
       "      <td>2011</td>\n",
       "      <td>GIRL</td>\n",
       "      <td>HISPANIC</td>\n",
       "      <td>GISELLE</td>\n",
       "      <td>38</td>\n",
       "      <td>51</td>\n",
       "    </tr>\n",
       "    <tr>\n",
       "      <th>4</th>\n",
       "      <td>2011</td>\n",
       "      <td>GIRL</td>\n",
       "      <td>HISPANIC</td>\n",
       "      <td>GRACE</td>\n",
       "      <td>36</td>\n",
       "      <td>53</td>\n",
       "    </tr>\n",
       "  </tbody>\n",
       "</table>\n",
       "</div>"
      ],
      "text/plain": [
       "   BRITH_YEAR GENDER  ETHNICTY       NAME  COUNT  RANK\n",
       "0        2011   GIRL  HISPANIC  GERALDINE     13    75\n",
       "1        2011   GIRL  HISPANIC        GIA     21    67\n",
       "2        2011   GIRL  HISPANIC     GIANNA     49    42\n",
       "3        2011   GIRL  HISPANIC    GISELLE     38    51\n",
       "4        2011   GIRL  HISPANIC      GRACE     36    53"
      ]
     },
     "execution_count": 9,
     "metadata": {},
     "output_type": "execute_result"
    }
   ],
   "source": [
    "# Replacing scalar values\n",
    "\n",
    "# Replace all the entries that has 'FEMALE' as a GENDER with 'GIRL'\n",
    "names['GENDER'].loc[names['GENDER'] == 'FEMALE'] = 'GIRL'\n",
    "\n",
    "# efficient way\n",
    "# Replace all the entries that has 'FEMALE' as a GENDER with 'GIRL'\n",
    "names['GENDER'].replace('FEMALE', 'GIRL', inplace=True)\n",
    "\n",
    "names.head()"
   ]
  },
  {
   "cell_type": "code",
   "execution_count": 10,
   "metadata": {},
   "outputs": [
    {
     "data": {
      "text/html": [
       "<div>\n",
       "<style scoped>\n",
       "    .dataframe tbody tr th:only-of-type {\n",
       "        vertical-align: middle;\n",
       "    }\n",
       "\n",
       "    .dataframe tbody tr th {\n",
       "        vertical-align: top;\n",
       "    }\n",
       "\n",
       "    .dataframe thead th {\n",
       "        text-align: right;\n",
       "    }\n",
       "</style>\n",
       "<table border=\"1\" class=\"dataframe\">\n",
       "  <thead>\n",
       "    <tr style=\"text-align: right;\">\n",
       "      <th></th>\n",
       "      <th>BRITH_YEAR</th>\n",
       "      <th>GENDER</th>\n",
       "      <th>NAME</th>\n",
       "      <th>COUNT</th>\n",
       "      <th>RANK</th>\n",
       "    </tr>\n",
       "    <tr>\n",
       "      <th>ETHNICTY</th>\n",
       "      <th></th>\n",
       "      <th></th>\n",
       "      <th></th>\n",
       "      <th></th>\n",
       "      <th></th>\n",
       "    </tr>\n",
       "  </thead>\n",
       "  <tbody>\n",
       "    <tr>\n",
       "      <th>ASIAN AND PACI</th>\n",
       "      <td>358</td>\n",
       "      <td>358</td>\n",
       "      <td>358</td>\n",
       "      <td>358</td>\n",
       "      <td>358</td>\n",
       "    </tr>\n",
       "    <tr>\n",
       "      <th>ASIAN AND PACIFIC ISLANDER</th>\n",
       "      <td>1952</td>\n",
       "      <td>1952</td>\n",
       "      <td>1952</td>\n",
       "      <td>1952</td>\n",
       "      <td>1952</td>\n",
       "    </tr>\n",
       "    <tr>\n",
       "      <th>BLACK NON HISP</th>\n",
       "      <td>353</td>\n",
       "      <td>353</td>\n",
       "      <td>353</td>\n",
       "      <td>353</td>\n",
       "      <td>353</td>\n",
       "    </tr>\n",
       "    <tr>\n",
       "      <th>BLACK NON HISPANIC</th>\n",
       "      <td>2274</td>\n",
       "      <td>2274</td>\n",
       "      <td>2274</td>\n",
       "      <td>2274</td>\n",
       "      <td>2274</td>\n",
       "    </tr>\n",
       "    <tr>\n",
       "      <th>HISPANIC</th>\n",
       "      <td>4254</td>\n",
       "      <td>4254</td>\n",
       "      <td>4254</td>\n",
       "      <td>4254</td>\n",
       "      <td>4254</td>\n",
       "    </tr>\n",
       "    <tr>\n",
       "      <th>WHITE NON HISP</th>\n",
       "      <td>701</td>\n",
       "      <td>701</td>\n",
       "      <td>701</td>\n",
       "      <td>701</td>\n",
       "      <td>701</td>\n",
       "    </tr>\n",
       "    <tr>\n",
       "      <th>WHITE NON HISPANIC</th>\n",
       "      <td>4070</td>\n",
       "      <td>4070</td>\n",
       "      <td>4070</td>\n",
       "      <td>4070</td>\n",
       "      <td>4070</td>\n",
       "    </tr>\n",
       "  </tbody>\n",
       "</table>\n",
       "</div>"
      ],
      "text/plain": [
       "                            BRITH_YEAR  GENDER  NAME  COUNT  RANK\n",
       "ETHNICTY                                                         \n",
       "ASIAN AND PACI                     358     358   358    358   358\n",
       "ASIAN AND PACIFIC ISLANDER        1952    1952  1952   1952  1952\n",
       "BLACK NON HISP                     353     353   353    353   353\n",
       "BLACK NON HISPANIC                2274    2274  2274   2274  2274\n",
       "HISPANIC                          4254    4254  4254   4254  4254\n",
       "WHITE NON HISP                     701     701   701    701   701\n",
       "WHITE NON HISPANIC                4070    4070  4070   4070  4070"
      ]
     },
     "execution_count": 10,
     "metadata": {},
     "output_type": "execute_result"
    }
   ],
   "source": [
    "names.groupby('ETHNICTY').count()"
   ]
  },
  {
   "cell_type": "code",
   "execution_count": 11,
   "metadata": {},
   "outputs": [
    {
     "data": {
      "text/html": [
       "<div>\n",
       "<style scoped>\n",
       "    .dataframe tbody tr th:only-of-type {\n",
       "        vertical-align: middle;\n",
       "    }\n",
       "\n",
       "    .dataframe tbody tr th {\n",
       "        vertical-align: top;\n",
       "    }\n",
       "\n",
       "    .dataframe thead th {\n",
       "        text-align: right;\n",
       "    }\n",
       "</style>\n",
       "<table border=\"1\" class=\"dataframe\">\n",
       "  <thead>\n",
       "    <tr style=\"text-align: right;\">\n",
       "      <th></th>\n",
       "      <th>BRITH_YEAR</th>\n",
       "      <th>GENDER</th>\n",
       "      <th>NAME</th>\n",
       "      <th>COUNT</th>\n",
       "      <th>RANK</th>\n",
       "    </tr>\n",
       "    <tr>\n",
       "      <th>ETHNICTY</th>\n",
       "      <th></th>\n",
       "      <th></th>\n",
       "      <th></th>\n",
       "      <th></th>\n",
       "      <th></th>\n",
       "    </tr>\n",
       "  </thead>\n",
       "  <tbody>\n",
       "    <tr>\n",
       "      <th>ASIAN AND PACI</th>\n",
       "      <td>358</td>\n",
       "      <td>358</td>\n",
       "      <td>358</td>\n",
       "      <td>358</td>\n",
       "      <td>358</td>\n",
       "    </tr>\n",
       "    <tr>\n",
       "      <th>ASIAN AND PACIFIC ISLANDER</th>\n",
       "      <td>1952</td>\n",
       "      <td>1952</td>\n",
       "      <td>1952</td>\n",
       "      <td>1952</td>\n",
       "      <td>1952</td>\n",
       "    </tr>\n",
       "    <tr>\n",
       "      <th>HISPANIC</th>\n",
       "      <td>4254</td>\n",
       "      <td>4254</td>\n",
       "      <td>4254</td>\n",
       "      <td>4254</td>\n",
       "      <td>4254</td>\n",
       "    </tr>\n",
       "    <tr>\n",
       "      <th>NON HISPANIC</th>\n",
       "      <td>7398</td>\n",
       "      <td>7398</td>\n",
       "      <td>7398</td>\n",
       "      <td>7398</td>\n",
       "      <td>7398</td>\n",
       "    </tr>\n",
       "  </tbody>\n",
       "</table>\n",
       "</div>"
      ],
      "text/plain": [
       "                            BRITH_YEAR  GENDER  NAME  COUNT  RANK\n",
       "ETHNICTY                                                         \n",
       "ASIAN AND PACI                     358     358   358    358   358\n",
       "ASIAN AND PACIFIC ISLANDER        1952    1952  1952   1952  1952\n",
       "HISPANIC                          4254    4254  4254   4254  4254\n",
       "NON HISPANIC                      7398    7398  7398   7398  7398"
      ]
     },
     "execution_count": 11,
     "metadata": {},
     "output_type": "execute_result"
    }
   ],
   "source": [
    "# Replace values using lists\n",
    "\n",
    "# Replace all non-Hispanic ethnicities with 'NON HISPANIC'\n",
    "names['ETHNICTY'].loc[(names[\"ETHNICTY\"] == 'BLACK NON HISP') |\n",
    "                      (names[\"ETHNICTY\"] == 'BLACK NON HISPANIC') |\n",
    "                      (names[\"ETHNICTY\"] == 'WHITE NON HISP') |\n",
    "                      (names[\"ETHNICTY\"] == 'WHITE NON HISPANIC')] = 'NON HISPANIC'\n",
    "\n",
    "# efficient way\n",
    "# Replace all non-Hispanic ethnicities with 'NON HISPANIC'\n",
    "names['ETHNICTY'].replace(['BLACK NON HISP', 'BLACK NON HISPANIC', 'WHITE NON HISP', 'WHITE NON HISPANIC'],\n",
    "                          'NON HISPANIC', \n",
    "                          inplace=True)\n",
    "\n",
    "names.groupby('ETHNICTY').count()"
   ]
  },
  {
   "cell_type": "code",
   "execution_count": 12,
   "metadata": {},
   "outputs": [
    {
     "name": "stdout",
     "output_type": "stream",
     "text": [
      "0    Flush\n",
      "1    Flush\n",
      "2    Flush\n",
      "3    Flush\n",
      "4    Flush\n",
      "Name: Explanation, dtype: object \n",
      "\n",
      "      BRITH_YEAR  GENDER  ETHNICTY  NAME  COUNT\n",
      "RANK                                           \n",
      "4             57      57        57    57     57\n",
      "5             56      56        56    56     56\n",
      "6             58      58        58    58     58\n",
      "7             57      57        57    57     57\n",
      "8             57      57        57    57     57\n",
      "        BRITH_YEAR  GENDER  ETHNICTY  NAME  COUNT\n",
      "RANK                                             \n",
      "101             26      26        26    26     26\n",
      "102             16      16        16    16     16\n",
      "FIRST           56      56        56    56     56\n",
      "SECOND          63      63        63    63     63\n",
      "THIRD           58      58        58    58     58\n"
     ]
    }
   ],
   "source": [
    "# Replace values using dictionaries\n",
    "\n",
    "# Replace string to string\n",
    "poker_hands['Explanation'].replace({'Royal flush': 'Flush', 'Straight flush': 'Flush'}, inplace=True)\n",
    "print(poker_hands['Explanation'].head(), '\\n')\n",
    "\n",
    "# Replace the number by a string\n",
    "names['RANK'].replace({1: 'FIRST', 2: 'SECOND', 3: 'THIRD'}, inplace=True)\n",
    "rank_count = names.groupby('RANK').count()\n",
    "print(rank_count.head())\n",
    "print(rank_count.tail())"
   ]
  },
  {
   "cell_type": "code",
   "execution_count": 13,
   "metadata": {},
   "outputs": [
    {
     "data": {
      "text/html": [
       "<div>\n",
       "<style scoped>\n",
       "    .dataframe tbody tr th:only-of-type {\n",
       "        vertical-align: middle;\n",
       "    }\n",
       "\n",
       "    .dataframe tbody tr th {\n",
       "        vertical-align: top;\n",
       "    }\n",
       "\n",
       "    .dataframe thead th {\n",
       "        text-align: right;\n",
       "    }\n",
       "</style>\n",
       "<table border=\"1\" class=\"dataframe\">\n",
       "  <thead>\n",
       "    <tr style=\"text-align: right;\">\n",
       "      <th></th>\n",
       "      <th>BRITH_YEAR</th>\n",
       "      <th>GENDER</th>\n",
       "      <th>ETHNICTY</th>\n",
       "      <th>NAME</th>\n",
       "      <th>COUNT</th>\n",
       "    </tr>\n",
       "    <tr>\n",
       "      <th>RANK</th>\n",
       "      <th></th>\n",
       "      <th></th>\n",
       "      <th></th>\n",
       "      <th></th>\n",
       "      <th></th>\n",
       "    </tr>\n",
       "  </thead>\n",
       "  <tbody>\n",
       "    <tr>\n",
       "      <th>100</th>\n",
       "      <td>65</td>\n",
       "      <td>65</td>\n",
       "      <td>65</td>\n",
       "      <td>65</td>\n",
       "      <td>65</td>\n",
       "    </tr>\n",
       "    <tr>\n",
       "      <th>101</th>\n",
       "      <td>26</td>\n",
       "      <td>26</td>\n",
       "      <td>26</td>\n",
       "      <td>26</td>\n",
       "      <td>26</td>\n",
       "    </tr>\n",
       "    <tr>\n",
       "      <th>102</th>\n",
       "      <td>16</td>\n",
       "      <td>16</td>\n",
       "      <td>16</td>\n",
       "      <td>16</td>\n",
       "      <td>16</td>\n",
       "    </tr>\n",
       "    <tr>\n",
       "      <th>ALMOST MEDAL</th>\n",
       "      <td>113</td>\n",
       "      <td>113</td>\n",
       "      <td>113</td>\n",
       "      <td>113</td>\n",
       "      <td>113</td>\n",
       "    </tr>\n",
       "    <tr>\n",
       "      <th>MEDAL</th>\n",
       "      <td>177</td>\n",
       "      <td>177</td>\n",
       "      <td>177</td>\n",
       "      <td>177</td>\n",
       "      <td>177</td>\n",
       "    </tr>\n",
       "  </tbody>\n",
       "</table>\n",
       "</div>"
      ],
      "text/plain": [
       "              BRITH_YEAR  GENDER  ETHNICTY  NAME  COUNT\n",
       "RANK                                                   \n",
       "100                   65      65        65    65     65\n",
       "101                   26      26        26    26     26\n",
       "102                   16      16        16    16     16\n",
       "ALMOST MEDAL         113     113       113   113    113\n",
       "MEDAL                177     177       177   177    177"
      ]
     },
     "execution_count": 13,
     "metadata": {},
     "output_type": "execute_result"
    }
   ],
   "source": [
    "# Replace multiple values with just one value\n",
    "names = pd.read_csv('data/baby_names.csv')\n",
    "\n",
    "# Replace the rank of the first three ranked names to 'MEDAL'\n",
    "names.replace({'RANK': {1: 'MEDAL', 2: 'MEDAL', 3: 'MEDAL'}}, inplace=True)\n",
    "\n",
    "# Replace the rank of the 4th and 5th ranked names to 'ALMOST MEDAL'\n",
    "names.replace({'RANK': {4: 'ALMOST MEDAL', 5: 'ALMOST MEDAL'}}, inplace=True)\n",
    "\n",
    "rank_count = names.groupby('RANK').count()\n",
    "rank_count.tail()"
   ]
  },
  {
   "cell_type": "markdown",
   "metadata": {},
   "source": [
    "## 3. Efficient iterating"
   ]
  },
  {
   "cell_type": "code",
   "execution_count": 14,
   "metadata": {},
   "outputs": [],
   "source": [
    "for index, values in poker_hands.iterrows():\n",
    "    \n",
    "    # Check if index is odd\n",
    "    if index % 2 == 1:\n",
    "        # Sum the ranks of all the cards\n",
    "        hand_sum = sum([values[1], values[3], values[5], values[7], values[9]])"
   ]
  },
  {
   "cell_type": "code",
   "execution_count": 15,
   "metadata": {},
   "outputs": [
    {
     "name": "stdout",
     "output_type": "stream",
     "text": [
      "    R1   R2   R3   R4   R5\n",
      "0  100  121  169  144    1\n",
      "1  121  169  100  144    1\n",
      "2  144  121  169  100    1\n",
      "3  100  121    1  169  144\n",
      "4    1  169  144  121  100\n"
     ]
    }
   ],
   "source": [
    "# apply() in every cell\n",
    "\n",
    "poker_rank = poker_hands[['R1', 'R2', 'R3', 'R4', 'R5']]\n",
    "\n",
    "# Define the lambda transformation\n",
    "get_square = lambda x: x ** 2\n",
    "\n",
    "# Apply the transformation\n",
    "data_sum = poker_rank.apply(get_square)\n",
    "print(data_sum.head())"
   ]
  },
  {
   "cell_type": "code",
   "execution_count": 16,
   "metadata": {},
   "outputs": [
    {
     "name": "stdout",
     "output_type": "stream",
     "text": [
      "0    18.64\n",
      "1    18.64\n",
      "2    18.64\n",
      "3    18.64\n",
      "4    18.64\n",
      "dtype: float64 \n",
      "\n",
      "R1    14.060473\n",
      "R2    14.189523\n",
      "R3    14.024270\n",
      "R4    14.040552\n",
      "R5    13.998851\n",
      "dtype: float64\n"
     ]
    }
   ],
   "source": [
    "# apply() for rows iteration\n",
    "\n",
    "get_variance = lambda x: np.var(x)\n",
    "\n",
    "# Apply the transformation\n",
    "data_tr = poker_rank.apply(get_variance, axis=1)\n",
    "print(data_tr.head(), '\\n')\n",
    "\n",
    "data_tr = poker_rank.apply(get_variance, axis=0)\n",
    "print(data_tr.head())"
   ]
  },
  {
   "cell_type": "code",
   "execution_count": 17,
   "metadata": {},
   "outputs": [
    {
     "name": "stdout",
     "output_type": "stream",
     "text": [
      "Time using pandas vectorization for rows: 0.000997304916381836 sec\n",
      "0    9.4\n",
      "1    9.4\n",
      "2    9.4\n",
      "3    9.4\n",
      "4    9.4\n",
      "dtype: float64\n",
      "Time using pandas vectorization for columns: 0.0 sec\n",
      "R1    6.995242\n",
      "R2    7.014194\n",
      "R3    7.014154\n",
      "R4    6.942463\n",
      "R5    6.962735\n",
      "dtype: float64\n"
     ]
    }
   ],
   "source": [
    "# pandas vectorization\n",
    "\n",
    "# Calculate the mean rank in each hand\n",
    "row_start_time = time.time()\n",
    "mean_r = poker_rank.mean(axis=1)\n",
    "print(\"Time using pandas vectorization for rows: {} sec\".format(time.time() - row_start_time))\n",
    "print(mean_r.head())\n",
    "\n",
    "# Calculate the mean rank of each of the 5 card in all hands\n",
    "col_start_time = time.time()\n",
    "mean_c = poker_rank.mean(axis=0)\n",
    "print(\"Time using pandas vectorization for columns: {} sec\".format(time.time() - col_start_time))\n",
    "print(mean_c.head())"
   ]
  },
  {
   "cell_type": "code",
   "execution_count": 18,
   "metadata": {},
   "outputs": [
    {
     "name": "stdout",
     "output_type": "stream",
     "text": [
      "Time using pandas vectorization: 0.001992464065551758 sec\n",
      "0    23.3\n",
      "1    23.3\n",
      "2    23.3\n",
      "3    23.3\n",
      "4    23.3\n",
      "dtype: float64\n",
      "Time using NumPy vectorization: 0.003994464874267578 sec\n",
      "[23.3 23.3 23.3 23.3 23.3]\n"
     ]
    }
   ],
   "source": [
    "# Vectorization methods for looping a DataFrame\n",
    "\n",
    "# Calculate the variance in each hand\n",
    "start_time = time.time()\n",
    "poker_var = poker_rank.var(axis=1)\n",
    "print(\"Time using pandas vectorization: {} sec\".format(time.time() - start_time))\n",
    "print(poker_var.head())\n",
    "\n",
    "# Calculate the variance in each hand\n",
    "start_time = time.time()\n",
    "poker_var = poker_rank.values.var(axis=1, ddof=1)\n",
    "print(\"Time using NumPy vectorization: {} sec\".format(time.time() - start_time))\n",
    "print(poker_var[0:5])"
   ]
  },
  {
   "cell_type": "markdown",
   "metadata": {},
   "source": [
    "## 4. Data manipulation using groupby()"
   ]
  },
  {
   "cell_type": "code",
   "execution_count": 19,
   "metadata": {},
   "outputs": [
    {
     "data": {
      "text/html": [
       "<div>\n",
       "<style scoped>\n",
       "    .dataframe tbody tr th:only-of-type {\n",
       "        vertical-align: middle;\n",
       "    }\n",
       "\n",
       "    .dataframe tbody tr th {\n",
       "        vertical-align: top;\n",
       "    }\n",
       "\n",
       "    .dataframe thead th {\n",
       "        text-align: right;\n",
       "    }\n",
       "</style>\n",
       "<table border=\"1\" class=\"dataframe\">\n",
       "  <thead>\n",
       "    <tr style=\"text-align: right;\">\n",
       "      <th></th>\n",
       "      <th>total_bill</th>\n",
       "      <th>tip</th>\n",
       "      <th>sex</th>\n",
       "      <th>smoker</th>\n",
       "      <th>day</th>\n",
       "      <th>time</th>\n",
       "      <th>size</th>\n",
       "    </tr>\n",
       "  </thead>\n",
       "  <tbody>\n",
       "    <tr>\n",
       "      <th>0</th>\n",
       "      <td>16.99</td>\n",
       "      <td>1.01</td>\n",
       "      <td>Female</td>\n",
       "      <td>No</td>\n",
       "      <td>Sun</td>\n",
       "      <td>Dinner</td>\n",
       "      <td>2</td>\n",
       "    </tr>\n",
       "    <tr>\n",
       "      <th>1</th>\n",
       "      <td>10.34</td>\n",
       "      <td>1.66</td>\n",
       "      <td>Male</td>\n",
       "      <td>No</td>\n",
       "      <td>Sun</td>\n",
       "      <td>Dinner</td>\n",
       "      <td>3</td>\n",
       "    </tr>\n",
       "    <tr>\n",
       "      <th>2</th>\n",
       "      <td>21.01</td>\n",
       "      <td>3.50</td>\n",
       "      <td>Male</td>\n",
       "      <td>No</td>\n",
       "      <td>Sun</td>\n",
       "      <td>Dinner</td>\n",
       "      <td>3</td>\n",
       "    </tr>\n",
       "    <tr>\n",
       "      <th>3</th>\n",
       "      <td>23.68</td>\n",
       "      <td>3.31</td>\n",
       "      <td>Male</td>\n",
       "      <td>No</td>\n",
       "      <td>Sun</td>\n",
       "      <td>Dinner</td>\n",
       "      <td>2</td>\n",
       "    </tr>\n",
       "    <tr>\n",
       "      <th>4</th>\n",
       "      <td>24.59</td>\n",
       "      <td>3.61</td>\n",
       "      <td>Female</td>\n",
       "      <td>No</td>\n",
       "      <td>Sun</td>\n",
       "      <td>Dinner</td>\n",
       "      <td>4</td>\n",
       "    </tr>\n",
       "  </tbody>\n",
       "</table>\n",
       "</div>"
      ],
      "text/plain": [
       "   total_bill   tip     sex smoker  day    time  size\n",
       "0       16.99  1.01  Female     No  Sun  Dinner     2\n",
       "1       10.34  1.66    Male     No  Sun  Dinner     3\n",
       "2       21.01  3.50    Male     No  Sun  Dinner     3\n",
       "3       23.68  3.31    Male     No  Sun  Dinner     2\n",
       "4       24.59  3.61  Female     No  Sun  Dinner     4"
      ]
     },
     "execution_count": 19,
     "metadata": {},
     "output_type": "execute_result"
    }
   ],
   "source": [
    "restaurant_data = pd.read_csv('data/restaurant_data.csv')\n",
    "restaurant_data.head()"
   ]
  },
  {
   "cell_type": "code",
   "execution_count": 20,
   "metadata": {},
   "outputs": [
    {
     "name": "stdout",
     "output_type": "stream",
     "text": [
      "   total_bill       tip  size\n",
      "0    0.291579  0.001111   0.2\n",
      "1    0.152283  0.073333   0.4\n",
      "2    0.375786  0.277778   0.4\n",
      "3    0.431713  0.256667   0.2\n",
      "4    0.450775  0.290000   0.6 \n",
      "\n",
      "   total_bill       tip  size\n",
      "0    0.238025  0.000000  0.00\n",
      "1    0.075513  0.118397  0.25\n",
      "2    0.336266  0.453552  0.25\n",
      "3    0.401515  0.418944  0.00\n",
      "4    0.423754  0.473588  0.50\n"
     ]
    }
   ],
   "source": [
    "# min-max normalization using .transform()\n",
    "\n",
    "min_max_tr = lambda x: (x - x.min()) / (x.max() - x.min())\n",
    "\n",
    "# Group the data according to the 'time'\n",
    "restaurant_grouped = restaurant_data.groupby('time')\n",
    "restaurant_min_max_group = restaurant_grouped.transform(min_max_tr)\n",
    "print(restaurant_min_max_group.head(), '\\n')\n",
    "\n",
    "# Group the data according to the 'day'\n",
    "restaurant_grouped = restaurant_data.groupby('day')\n",
    "restaurant_min_max_group = restaurant_grouped.transform(min_max_tr)\n",
    "print(restaurant_min_max_group.head())"
   ]
  },
  {
   "cell_type": "code",
   "execution_count": 21,
   "metadata": {},
   "outputs": [
    {
     "name": "stdout",
     "output_type": "stream",
     "text": [
      "0    0.135141\n",
      "1    0.017986\n",
      "2    0.000060\n",
      "3    0.000108\n",
      "4    0.000042\n",
      "Name: tip, dtype: float64\n"
     ]
    }
   ],
   "source": [
    "# exponential transformation\n",
    "# exponential distribution : e**(−λ∗x)∗λ\n",
    "# λ (lambda) is the mean of the group that the observation x belongs to.\n",
    "\n",
    "# Define the exponential transformation\n",
    "exp_tr = lambda x: np.exp(-x.mean() * x) * x.mean()\n",
    "\n",
    "restaurant_grouped = restaurant_data.groupby('time')\n",
    "restaurant_exp_group = restaurant_grouped['tip'].transform(exp_tr)\n",
    "print(restaurant_exp_group.head())"
   ]
  },
  {
   "cell_type": "code",
   "execution_count": 22,
   "metadata": {},
   "outputs": [
    {
     "name": "stdout",
     "output_type": "stream",
     "text": [
      "      total_bill    tip   size\n",
      "day                           \n",
      "Fri       -0.285 -0.177 -0.468\n",
      "Sat       -0.039 -0.076 -0.125\n",
      "Sun        0.067  0.106  0.232\n",
      "Thur       0.060  0.031  0.034\n",
      "      total_bill       tip      size\n",
      "day                                 \n",
      "Fri     0.864878  0.710048  0.593099\n",
      "Sat     1.037015  1.135612  0.900063\n",
      "Sun     0.966101  0.859799  1.106675\n",
      "Thur    1.022810  1.028730  1.028002\n"
     ]
    }
   ],
   "source": [
    "# Validation of z-score normalization\n",
    "\n",
    "zscore = lambda x: (x - x.mean()) / x.std()\n",
    "\n",
    "restaurant_grouped = restaurant_data.groupby('time')\n",
    "restaurant_trans = restaurant_grouped.transform(zscore)\n",
    "\n",
    "# Re-group the grouped object\n",
    "restaurant_regrouped = restaurant_trans.groupby(restaurant_data['day'])\n",
    "\n",
    "# print each group's means and standard deviation\n",
    "print(np.round(restaurant_regrouped.mean(), 3))\n",
    "print(restaurant_regrouped.std())"
   ]
  },
  {
   "cell_type": "code",
   "execution_count": 23,
   "metadata": {},
   "outputs": [
    {
     "name": "stdout",
     "output_type": "stream",
     "text": [
      "Number of tables where total_bill is greater than $40: 225 \n",
      "\n",
      "Days of the week that have a mean total_bill greater than $20: ['Sun' 'Sat']\n"
     ]
    }
   ],
   "source": [
    "# filter() function\n",
    "\n",
    "# Filter the days where the count of total_bill is greater than $40\n",
    "total_bill_40 = restaurant_data.groupby('day').filter(lambda x: x['total_bill'].count() > 40)\n",
    "\n",
    "print('Number of tables where total_bill is greater than $40:', total_bill_40.shape[0], '\\n')\n",
    "\n",
    "# the mean amount of money the customers paid\n",
    "# Select only the entries that have a mean total_bill greater than $20\n",
    "total_bill_20 = total_bill_40.groupby('day').filter(lambda x: x['total_bill'].mean() > 20)\n",
    "\n",
    "print('Days of the week that have a mean total_bill greater than $20:', total_bill_20.day.unique())"
   ]
  }
 ],
 "metadata": {
  "kernelspec": {
   "display_name": "Python 3",
   "language": "python",
   "name": "python3"
  },
  "language_info": {
   "codemirror_mode": {
    "name": "ipython",
    "version": 3
   },
   "file_extension": ".py",
   "mimetype": "text/x-python",
   "name": "python",
   "nbconvert_exporter": "python",
   "pygments_lexer": "ipython3",
   "version": "3.7.3"
  }
 },
 "nbformat": 4,
 "nbformat_minor": 2
}
