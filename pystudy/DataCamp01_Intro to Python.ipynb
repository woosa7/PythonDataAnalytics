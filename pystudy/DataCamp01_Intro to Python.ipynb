{
 "cells": [
  {
   "cell_type": "markdown",
   "metadata": {},
   "source": [
    "## Intro to Python for Data Science\n",
    "------------"
   ]
  },
  {
   "cell_type": "code",
   "execution_count": 1,
   "metadata": {},
   "outputs": [
    {
     "name": "stdout",
     "output_type": "stream",
     "text": [
      "Swaroop wrote A Byte of Python\n"
     ]
    }
   ],
   "source": [
    "print ('{name} wrote {book}'.format(name='Swaroop', book='A Byte of Python'))"
   ]
  },
  {
   "cell_type": "code",
   "execution_count": 2,
   "metadata": {},
   "outputs": [
    {
     "name": "stdout",
     "output_type": "stream",
     "text": [
      "Swaroop was 20 years old when he wrote this book\n"
     ]
    }
   ],
   "source": [
    "name = 'Swaroop'\n",
    "age = 20\n",
    "print ('{} was {} years old when he wrote this book'.format(name, age))"
   ]
  },
  {
   "cell_type": "code",
   "execution_count": 3,
   "metadata": {},
   "outputs": [
    {
     "name": "stdout",
     "output_type": "stream",
     "text": [
      "0.333\n"
     ]
    }
   ],
   "source": [
    "print ('{0:.3f}'.format(1.0/3))"
   ]
  },
  {
   "cell_type": "code",
   "execution_count": 4,
   "metadata": {},
   "outputs": [],
   "source": [
    "# global"
   ]
  },
  {
   "cell_type": "code",
   "execution_count": 5,
   "metadata": {},
   "outputs": [
    {
     "name": "stdout",
     "output_type": "stream",
     "text": [
      "x is 50\n",
      "Changed global x to 2\n",
      "Value of x is 2\n"
     ]
    }
   ],
   "source": [
    "x = 50\n",
    "def func():\n",
    "    global x\n",
    "    print ('x is', x)\n",
    "    x = 2\n",
    "    print ('Changed global x to', x)\n",
    "    \n",
    "func()\n",
    "print ('Value of x is', x)"
   ]
  },
  {
   "cell_type": "markdown",
   "metadata": {},
   "source": [
    "## 코드 수행시간 측정 -- %time / %timeit"
   ]
  },
  {
   "cell_type": "code",
   "execution_count": 6,
   "metadata": {},
   "outputs": [],
   "source": [
    "strings = ['Data', 'Camp', 'Last', 'Checkpoint', 'pydata', 'matplot', 'dataframe'] * 100000"
   ]
  },
  {
   "cell_type": "code",
   "execution_count": 7,
   "metadata": {},
   "outputs": [],
   "source": [
    "# 70만개 문자열 중 Data 로 시작하는 문자열만 추출"
   ]
  },
  {
   "cell_type": "code",
   "execution_count": 8,
   "metadata": {},
   "outputs": [
    {
     "name": "stdout",
     "output_type": "stream",
     "text": [
      "Wall time: 44.9 ms\n"
     ]
    }
   ],
   "source": [
    "%time method1 = [x for x in strings if x[:4] == 'Data']"
   ]
  },
  {
   "cell_type": "code",
   "execution_count": 9,
   "metadata": {},
   "outputs": [
    {
     "name": "stdout",
     "output_type": "stream",
     "text": [
      "Wall time: 75.8 ms\n"
     ]
    }
   ],
   "source": [
    "%time method2 = [x for x in strings if x.startswith('Data')]"
   ]
  },
  {
   "cell_type": "code",
   "execution_count": 10,
   "metadata": {},
   "outputs": [
    {
     "name": "stdout",
     "output_type": "stream",
     "text": [
      "42.4 ms ± 2.19 ms per loop (mean ± std. dev. of 7 runs, 10 loops each)\n"
     ]
    }
   ],
   "source": [
    "%timeit [x for x in strings if x[:4] == 'Data']"
   ]
  },
  {
   "cell_type": "code",
   "execution_count": 11,
   "metadata": {},
   "outputs": [
    {
     "name": "stdout",
     "output_type": "stream",
     "text": [
      "71.7 ms ± 1.44 ms per loop (mean ± std. dev. of 7 runs, 10 loops each)\n"
     ]
    }
   ],
   "source": [
    "%timeit [x for x in strings if x.startswith('Data')]"
   ]
  },
  {
   "cell_type": "markdown",
   "metadata": {},
   "source": [
    "# List"
   ]
  },
  {
   "cell_type": "code",
   "execution_count": 12,
   "metadata": {},
   "outputs": [
    {
     "name": "stdout",
     "output_type": "stream",
     "text": [
      "[11.25, 18.0, 20.0, 10.75, 9.5]\n",
      "18.0\n",
      "20.0\n"
     ]
    }
   ],
   "source": [
    "# area variables (in square meters)\n",
    "hall = 11.25\n",
    "kit = 18.0\n",
    "liv = 20.0\n",
    "bed = 10.75\n",
    "bath = 9.50\n",
    "\n",
    "# Create list areas\n",
    "areas = [hall, kit, liv, bed, bath]\n",
    "print(areas)\n",
    "print(areas[1])\n",
    "print(areas[-3])       # 뒤에서 3번째"
   ]
  },
  {
   "cell_type": "code",
   "execution_count": 13,
   "metadata": {},
   "outputs": [
    {
     "name": "stdout",
     "output_type": "stream",
     "text": [
      "2\n",
      "1\n"
     ]
    }
   ],
   "source": [
    "print(areas.index(20.0))\n",
    "print(areas.count(9.50))"
   ]
  },
  {
   "cell_type": "code",
   "execution_count": 14,
   "metadata": {},
   "outputs": [
    {
     "name": "stdout",
     "output_type": "stream",
     "text": [
      "[11.25, 18.0, 20.0, 10.75, 9.5, 24.5, 15.45]\n"
     ]
    }
   ],
   "source": [
    "areas.append(24.5)\n",
    "areas.append(15.45)\n",
    "print(areas)"
   ]
  },
  {
   "cell_type": "code",
   "execution_count": 15,
   "metadata": {},
   "outputs": [
    {
     "data": {
      "text/plain": [
       "[9.5, 10.75, 11.25, 15.45, 18.0, 20.0, 24.5]"
      ]
     },
     "execution_count": 15,
     "metadata": {},
     "output_type": "execute_result"
    }
   ],
   "source": [
    "sorted(areas)"
   ]
  },
  {
   "cell_type": "code",
   "execution_count": 16,
   "metadata": {},
   "outputs": [
    {
     "name": "stdout",
     "output_type": "stream",
     "text": [
      "[15.45, 24.5, 9.5, 10.75, 20.0, 18.0, 11.25]\n"
     ]
    }
   ],
   "source": [
    "areas.reverse()     # Reverse the orders of the elements in list\n",
    "print(areas)"
   ]
  },
  {
   "cell_type": "code",
   "execution_count": 17,
   "metadata": {},
   "outputs": [
    {
     "name": "stdout",
     "output_type": "stream",
     "text": [
      "[['hallway', 11.25], ['kitchen', 18.0], ['living room', 20.0], ['bedroom', 10.75], ['bathroom', 9.5]]\n",
      "living room\n"
     ]
    }
   ],
   "source": [
    "# lists in list\n",
    "house = [[\"hallway\", hall],\n",
    "         [\"kitchen\", kit],\n",
    "         [\"living room\", liv],\n",
    "         [\"bedroom\", bed],\n",
    "         [\"bathroom\", bath]]\n",
    "print(house)\n",
    "print(house[2][0])"
   ]
  },
  {
   "cell_type": "code",
   "execution_count": 18,
   "metadata": {},
   "outputs": [
    {
     "data": {
      "text/plain": [
       "[['hallway', 11.25],\n",
       " ['kitchen', 18.0],\n",
       " ['living room', 20.0],\n",
       " ['bedroom', 10.75],\n",
       " ['bathroom', 9.5],\n",
       " ['rooftop', 22.34]]"
      ]
     },
     "execution_count": 18,
     "metadata": {},
     "output_type": "execute_result"
    }
   ],
   "source": [
    "house = house + [[\"rooftop\", 22.34]]\n",
    "house"
   ]
  },
  {
   "cell_type": "code",
   "execution_count": 19,
   "metadata": {},
   "outputs": [
    {
     "name": "stdout",
     "output_type": "stream",
     "text": [
      "[['hallway', 11.25], ['kitchen', 18.0], ['living room', 20.0]]\n",
      "[['bathroom', 9.5], ['rooftop', 22.34]]\n"
     ]
    }
   ],
   "source": [
    "print(house[:3])\n",
    "print(house[4:])"
   ]
  },
  {
   "cell_type": "code",
   "execution_count": 20,
   "metadata": {},
   "outputs": [
    {
     "data": {
      "text/plain": [
       "[['hallway', 11.25],\n",
       " ['kitchen', 18.0],\n",
       " ['living room', 20.0],\n",
       " ['bedroom', 10.75],\n",
       " ['bathroom', 9.5]]"
      ]
     },
     "execution_count": 20,
     "metadata": {},
     "output_type": "execute_result"
    }
   ],
   "source": [
    "del(house[5])\n",
    "house"
   ]
  },
  {
   "cell_type": "markdown",
   "metadata": {},
   "source": [
    "# NumPy"
   ]
  },
  {
   "cell_type": "code",
   "execution_count": 21,
   "metadata": {},
   "outputs": [],
   "source": [
    "import numpy as np"
   ]
  },
  {
   "cell_type": "code",
   "execution_count": 22,
   "metadata": {},
   "outputs": [
    {
     "data": {
      "text/plain": [
       "30"
      ]
     },
     "execution_count": 22,
     "metadata": {},
     "output_type": "execute_result"
    }
   ],
   "source": [
    "height = [74, 74, 72, 72, 73, 69, 69, 71, 76, 71, 73, 73, 74, 74, 69, 70, 73, 75, 78, 79, 76, 74, 76, 72, 71, 75, 77, 74, 73, 74]\n",
    "weight = [180, 215, 210, 210, 188, 176, 209, 200, 231, 180, 188, 180, 185, 160, 180, 185, 189, 185, 219, 230, 205, 230, 195, 180, 192, 225, 203, 195, 182, 188]\n",
    "len(height)"
   ]
  },
  {
   "cell_type": "code",
   "execution_count": 23,
   "metadata": {},
   "outputs": [
    {
     "name": "stdout",
     "output_type": "stream",
     "text": [
      "<class 'numpy.ndarray'>\n"
     ]
    }
   ],
   "source": [
    "np_height = np.array(height) * 0.0254   # convert inches to meters\n",
    "np_weight = np.array(weight) * 0.453592 # convert pounds to kg\n",
    "print(type(np_height))"
   ]
  },
  {
   "cell_type": "code",
   "execution_count": 24,
   "metadata": {},
   "outputs": [
    {
     "name": "stdout",
     "output_type": "stream",
     "text": [
      "[23.11 27.6  28.48 28.48 24.8  25.99 30.86 27.89 28.12 25.1  24.8  23.75\n",
      " 23.75 20.54 26.58 26.54 24.94 23.12 25.31 25.91 24.95 29.53 23.74 24.41\n",
      " 26.78 28.12 24.07 25.04 24.01 24.14]\n",
      "[20.54]\n",
      "25.99\n",
      "[24.95 29.53 23.74 24.41 26.78 28.12 24.07 25.04 24.01 24.14]\n"
     ]
    }
   ],
   "source": [
    "bmi = np.round(np_weight / (np_height ** 2),2)\n",
    "print(bmi)\n",
    "print(bmi[bmi < 21])\n",
    "\n",
    "print(bmi[5])\n",
    "print(bmi[20:30])"
   ]
  },
  {
   "cell_type": "code",
   "execution_count": 25,
   "metadata": {},
   "outputs": [
    {
     "name": "stdout",
     "output_type": "stream",
     "text": [
      "[1.7526 1.7526 1.7526 1.778 ]\n",
      "[1.7526 1.7526 1.9304 1.7526 1.778  1.905  1.9812 2.0066 1.9304 1.9304\n",
      " 1.905  1.9558]\n"
     ]
    }
   ],
   "source": [
    "# Boolean operators with Numpy\n",
    "print(np_height[np.logical_and(np_height > 1.7, np_height < 1.8)])\n",
    "print(np_height[np.logical_or(np_height > 1.9, np_height < 1.8)])"
   ]
  },
  {
   "cell_type": "code",
   "execution_count": 26,
   "metadata": {},
   "outputs": [
    {
     "data": {
      "text/plain": [
       "10"
      ]
     },
     "execution_count": 26,
     "metadata": {},
     "output_type": "execute_result"
    }
   ],
   "source": [
    "# 2D Numpy Array\n",
    "baseball = [[74, 180], [74, 215], [72, 210], [72, 210], [73, 188], [69, 176], [69, 209], [71, 200], [76, 231], [71, 180]]\n",
    "len(baseball)"
   ]
  },
  {
   "cell_type": "code",
   "execution_count": 27,
   "metadata": {},
   "outputs": [
    {
     "name": "stdout",
     "output_type": "stream",
     "text": [
      "<class 'numpy.ndarray'>\n",
      "(10, 2)\n",
      "[ 71 180]\n",
      "72\n"
     ]
    }
   ],
   "source": [
    "np_baseball = np.array(baseball)\n",
    "\n",
    "print(type(np_baseball))\n",
    "print(np_baseball.shape)\n",
    "\n",
    "print(np_baseball[9,:])        # 10th row\n",
    "print(np_baseball[3,0])        # height of 4th player"
   ]
  },
  {
   "cell_type": "code",
   "execution_count": 28,
   "metadata": {},
   "outputs": [
    {
     "name": "stdout",
     "output_type": "stream",
     "text": [
      "[[  1.8796    81.64656 ]\n",
      " [  1.8796    97.52228 ]\n",
      " [  1.8288    95.25432 ]\n",
      " [  1.8288    95.25432 ]\n",
      " [  1.8542    85.275296]\n",
      " [  1.7526    79.832192]\n",
      " [  1.7526    94.800728]\n",
      " [  1.8034    90.7184  ]\n",
      " [  1.9304   104.779752]\n",
      " [  1.8034    81.64656 ]]\n"
     ]
    }
   ],
   "source": [
    "conversion = np.array([0.0254, 0.453592])   # [height, weight]\n",
    "print(np_baseball * conversion)"
   ]
  },
  {
   "cell_type": "code",
   "execution_count": 29,
   "metadata": {},
   "outputs": [
    {
     "name": "stdout",
     "output_type": "stream",
     "text": [
      "Average: 72.1 / Median: 72.0 / SD: 2.118962010041709\n"
     ]
    }
   ],
   "source": [
    "height = np_baseball[:,0]\n",
    "weight = np_baseball[:,1]\n",
    "\n",
    "avg = np.mean(height)\n",
    "med = np.median(height)\n",
    "stddev = np.std(height)\n",
    "print(\"Average: \" + str(avg) + \" / Median: \" + str(med) + \" / SD: \" + str(stddev))"
   ]
  },
  {
   "cell_type": "code",
   "execution_count": 30,
   "metadata": {},
   "outputs": [
    {
     "name": "stdout",
     "output_type": "stream",
     "text": [
      "[[1.         0.45629209]\n",
      " [0.45629209 1.        ]]\n"
     ]
    }
   ],
   "source": [
    "corr = np.corrcoef(height, weight)\n",
    "print(corr)"
   ]
  },
  {
   "cell_type": "markdown",
   "metadata": {},
   "source": [
    "# Plot"
   ]
  },
  {
   "cell_type": "code",
   "execution_count": 31,
   "metadata": {},
   "outputs": [],
   "source": [
    "%matplotlib inline\n",
    "import matplotlib.pyplot as plt"
   ]
  },
  {
   "cell_type": "markdown",
   "metadata": {},
   "source": [
    "### Line Plot"
   ]
  },
  {
   "cell_type": "code",
   "execution_count": 32,
   "metadata": {},
   "outputs": [
    {
     "data": {
      "text/plain": [
       "[<matplotlib.lines.Line2D at 0x1e2913a59b0>]"
      ]
     },
     "execution_count": 32,
     "metadata": {},
     "output_type": "execute_result"
    },
    {
     "data": {
      "image/png": "[encoded data removed]",
      "text/plain": [
       "<Figure size 432x288 with 1 Axes>"
      ]
     },
     "metadata": {
      "needs_background": "light"
     },
     "output_type": "display_data"
    }
   ],
   "source": [
    "year = [1950, 1951, 1952, 1953, 1954, 1955, 1956, 1957, 1958, 1959, 1960, 1961, 1962, 1963, 1964, 1965, 1966, 1967, 1968, 1969, 1970, 1971, 1972, 1973, 1974, 1975, 1976, 1977, 1978, 1979, 1980, 1981, 1982, 1983, 1984, 1985, 1986, 1987, 1988, 1989, 1990, 1991, 1992, 1993, 1994, 1995, 1996, 1997, 1998, 1999, 2000, 2001, 2002, 2003, 2004, 2005, 2006, 2007, 2008, 2009, 2010, 2011, 2012, 2013, 2014, 2015, 2016, 2017, 2018, 2019, 2020, 2021, 2022, 2023, 2024, 2025, 2026, 2027, 2028, 2029, 2030, 2031, 2032, 2033, 2034, 2035, 2036, 2037, 2038, 2039, 2040, 2041, 2042, 2043, 2044, 2045, 2046, 2047, 2048, 2049, 2050, 2051, 2052, 2053, 2054, 2055, 2056, 2057, 2058, 2059, 2060, 2061, 2062, 2063, 2064, 2065, 2066, 2067, 2068, 2069, 2070, 2071, 2072, 2073, 2074, 2075, 2076, 2077, 2078, 2079, 2080, 2081, 2082, 2083, 2084, 2085, 2086, 2087, 2088, 2089, 2090, 2091, 2092, 2093, 2094, 2095, 2096, 2097, 2098, 2099, 2100]\n",
    "pop = [2.53, 2.57, 2.62, 2.67, 2.71, 2.76, 2.81, 2.86, 2.92, 2.97, 3.03, 3.08, 3.14, 3.2, 3.26, 3.33, 3.4, 3.47, 3.54, 3.62, 3.69, 3.77, 3.84, 3.92, 4.0, 4.07, 4.15, 4.22, 4.3, 4.37, 4.45, 4.53, 4.61, 4.69, 4.78, 4.86, 4.95, 5.05, 5.14, 5.23, 5.32, 5.41, 5.49, 5.58, 5.66, 5.74, 5.82, 5.9, 5.98, 6.05, 6.13, 6.2, 6.28, 6.36, 6.44, 6.51, 6.59, 6.67, 6.75, 6.83, 6.92, 7.0, 7.08, 7.16, 7.24, 7.32, 7.4, 7.48, 7.56, 7.64, 7.72, 7.79, 7.87, 7.94, 8.01, 8.08, 8.15, 8.22, 8.29, 8.36, 8.42, 8.49, 8.56, 8.62, 8.68, 8.74, 8.8, 8.86, 8.92, 8.98, 9.04, 9.09, 9.15, 9.2, 9.26, 9.31, 9.36, 9.41, 9.46, 9.5, 9.55, 9.6, 9.64, 9.68, 9.73, 9.77, 9.81, 9.85, 9.88, 9.92, 9.96, 9.99, 10.03, 10.06, 10.09, 10.13, 10.16, 10.19, 10.22, 10.25, 10.28, 10.31, 10.33, 10.36, 10.38, 10.41, 10.43, 10.46, 10.48, 10.5, 10.52, 10.55, 10.57, 10.59, 10.61, 10.63, 10.65, 10.66, 10.68, 10.7, 10.72, 10.73, 10.75, 10.77, 10.78, 10.79, 10.81, 10.82, 10.83, 10.84, 10.85]\n",
    "\n",
    "plt.plot(year, pop)"
   ]
  },
  {
   "cell_type": "code",
   "execution_count": 33,
   "metadata": {},
   "outputs": [],
   "source": [
    "# Data for Plot\n",
    "gdp_cap = [974.58, 5937.02, 6223.36, 4797.23, 12779.37, 34435.36, 36126.49, 29796.04, 1391.25, 33692.60, 1441.28, 3822.13, 7446.29, 12569.85, 9065.80, 10680.79, 1217.03, 430.07, 1713.77, 2042.09, 36319.23, 706.01, 1704.06, 13171.63, 4959.11, 7006.58, 986.14, 277.55, 3632.55, 9645.06, 1544.75, 14619.22, 8948.10, 22833.30, 35278.41, 2082.48, 6025.37, 6873.26, 5581.18, 5728.35, 12154.08, 641.36, 690.80, 33207.08, 30470.01, 13206.48, 752.74, 32170.37, 1327.60, 27538.41, 5186.05, 942.65, 579.23, 1201.63, 3548.33, 39724.97, 18008.94, 36180.78, 2452.21, 3540.65, 11605.71, 4471.06, 40675.99, 25523.27, 28569.71, 7320.88, 31656.06, 4519.46, 1463.24, 1593.06, 23348.13, 47306.98, 10461.05, 1569.33, 414.50, 12057.49, 1044.77, 759.34, 12451.65, 1042.58, 1803.15, 10956.99, 11977.57, 3095.77, 9253.89, 3820.17, 823.68, 944.0, 4811.06, 1091.35, 36797.93, 25185.01, 2749.32, 619.67, 2013.97, 49357.19, 22316.19, 2605.94, 9809.18, 4172.83, 7408.90, 3190.48, 15389.92, 20509.64, 19328.70, 7670.12, 10808.47, 863.08, 1598.43, 21654.83, 1712.47, 9786.53, 862.54, 47143.17, 18678.31, 25768.25, 926.14, 9269.65, 28821.06, 3970.09, 2602.39, 4513.48, 33859.74, 37506.41, 4184.54, 28718.27, 1107.48, 7458.39, 882.96, 18008.50, 7092.92, 8458.27, 1056.38, 33203.26, 42951.65, 10611.46, 11415.80, 2441.57, 3025.34, 2280.76, 1271.21, 469.70]\n",
    "life_exp = [43.82, 76.42, 72.30, 42.73, 75.31, 81.23, 79.82, 75.63, 64.06, 79.44, 56.72, 65.55, 74.85, 50.72, 72.39, 73.00, 52.29, 49.57, 59.72, 50.43, 80.65, 44.74, 50.65, 78.55, 72.96, 72.88, 65.15, 46.46, 55.32, 78.78, 48.32, 75.74, 78.27, 76.48, 78.33, 54.79, 72.23, 74.99, 71.33, 71.878, 51.57, 58.03, 52.94, 79.31, 80.65, 56.73, 59.44, 79.40, 60.02, 79.48, 70.25, 56.01, 46.38, 60.91, 70.19, 82.20, 73.33, 81.75, 64.69, 70.65, 70.96, 59.54, 78.88, 80.74, 80.54, 72.56, 82.60, 72.53, 54.10, 67.29, 78.62, 77.58, 71.99, 42.59, 45.67, 73.95, 59.44, 48.30, 74.24, 54.46, 64.16, 72.80, 76.19, 66.80, 74.54, 71.16, 42.08, 62.06, 52.90, 63.78, 79.76, 80.20, 72.89, 56.86, 46.85, 80.19, 75.64, 65.48, 75.53, 71.75, 71.42, 71.68, 75.56, 78.09, 78.74, 76.44, 72.47, 46.24, 65.52, 72.77, 63.06, 74.01, 42.56, 79.97, 74.66, 77.92, 48.15, 49.33, 80.94, 72.39, 58.55, 39.61, 80.884, 81.70, 74.14, 78.40, 52.51, 70.61, 58.42, 69.81, 73.92, 71.77, 51.54, 79.42, 78.24, 76.384, 73.747, 74.24, 73.42, 62.69, 42.38, 43.48]\n",
    "popul = [31.88, 3.60, 33.33, 12.42, 40.30, 20.43, 8.19, 0.70, 150.44, 10.39, 8.07, 9.11, 4.55, 1.63, 190.01, 7.32, 14.32, 8.39, 14.13, 17.69, 33.39, 4.36, 10.23, 16.28, 1318.68, 44.22, 0.71, 64.60, 3.80, 4.13, 18.013, 4.49, 11.41, 10.22, 5.46, 0.49, 9.31, 13.75, 80.26, 6.93, 0.55, 4.90, 76.51, 5.23, 61.08, 1.45, 1.68, 82.40, 22.87, 10.70, 12.57, 9.94, 1.47, 8.50, 7.48, 6.98, 9.95, 0.30, 1110.39, 223.54, 69.45, 27.49, 4.10, 6.42, 58.14, 2.78, 127.46, 6.05, 35.61, 23.30, 49.04, 2.50, 3.92, 2.012, 3.19, 6.03, 19.16, 13.32, 24.82, 12.03, 3.27, 1.25, 108.70, 2.87, 0.68, 33.75, 19.95, 47.76, 2.05, 28.90, 16.57, 4.11, 5.67, 12.89, 135.03, 4.62, 3.20, 169.27, 3.24, 6.66, 28.67, 91.07, 38.51, 10.64, 3.94, 0.79, 22.27, 8.86, 0.19, 27.60, 12.26, 10.15, 6.14, 4.55, 5.44, 2.01, 9.11, 43.99, 40.44, 20.37, 42.29, 1.13, 9.03, 7.55, 19.31, 23.17, 38.13, 65.06, 5.70, 1.05, 10.27, 71.15, 29.17, 60.77, 301.13, 3.44, 26.08, 85.26, 4.01, 22.21, 11.74, 12.31]"
   ]
  },
  {
   "cell_type": "markdown",
   "metadata": {},
   "source": [
    "### Histogram"
   ]
  },
  {
   "cell_type": "code",
   "execution_count": 34,
   "metadata": {},
   "outputs": [
    {
     "data": {
      "image/png": "[encoded data removed]",
      "text/plain": [
       "<Figure size 432x288 with 1 Axes>"
      ]
     },
     "metadata": {
      "needs_background": "light"
     },
     "output_type": "display_data"
    }
   ],
   "source": [
    "plt.hist(life_exp)\n",
    "plt.show()"
   ]
  },
  {
   "cell_type": "code",
   "execution_count": 35,
   "metadata": {},
   "outputs": [
    {
     "data": {
      "image/png": "[encoded data removed]",
      "text/plain": [
       "<Figure size 432x288 with 1 Axes>"
      ]
     },
     "metadata": {
      "needs_background": "light"
     },
     "output_type": "display_data"
    }
   ],
   "source": [
    "plt.hist(life_exp, bins = 5)\n",
    "plt.show()"
   ]
  },
  {
   "cell_type": "code",
   "execution_count": 36,
   "metadata": {},
   "outputs": [
    {
     "data": {
      "image/png": "[encoded data removed]",
      "text/plain": [
       "<Figure size 432x288 with 1 Axes>"
      ]
     },
     "metadata": {
      "needs_background": "light"
     },
     "output_type": "display_data"
    }
   ],
   "source": [
    "plt.hist(life_exp, bins = 20)\n",
    "plt.show()"
   ]
  },
  {
   "cell_type": "markdown",
   "metadata": {},
   "source": [
    "### Scatter Plot"
   ]
  },
  {
   "cell_type": "code",
   "execution_count": 37,
   "metadata": {},
   "outputs": [
    {
     "data": {
      "image/png": "[encoded data removed]",
      "text/plain": [
       "<Figure size 432x288 with 1 Axes>"
      ]
     },
     "metadata": {
      "needs_background": "light"
     },
     "output_type": "display_data"
    }
   ],
   "source": [
    "plt.scatter(gdp_cap, life_exp, s = np.array(popul) * 2)     # 인구에 따른 점 크기 표현\n",
    "plt.xscale('log')               # 단위가 크기 때문에 log 변환\n",
    "plt.xlabel('GDP per Capita')\n",
    "plt.ylabel('Life Expectancy')\n",
    "plt.title('World Development in 2007')\n",
    "tick_val = [1000,10000,100000]\n",
    "tick_lab = ['1k','10k','100k']\n",
    "plt.xticks(tick_val, tick_lab)  # Adapt the ticks on the x-axis\n",
    "plt.grid(True)\n",
    "plt.show()"
   ]
  }
 ],
 "metadata": {
  "anaconda-cloud": {},
  "kernelspec": {
   "display_name": "Python 3",
   "language": "python",
   "name": "python3"
  },
  "language_info": {
   "codemirror_mode": {
    "name": "ipython",
    "version": 3
   },
   "file_extension": ".py",
   "mimetype": "text/x-python",
   "name": "python",
   "nbconvert_exporter": "python",
   "pygments_lexer": "ipython3",
   "version": "3.6.7"
  }
 },
 "nbformat": 4,
 "nbformat_minor": 1
}
