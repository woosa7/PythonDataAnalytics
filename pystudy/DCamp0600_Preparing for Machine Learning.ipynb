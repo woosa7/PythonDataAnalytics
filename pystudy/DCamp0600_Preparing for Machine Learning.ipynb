{
 "cells": [
  {
   "cell_type": "markdown",
   "metadata": {},
   "source": [
    "# Preparing for Machine Learning.py"
   ]
  },
  {
   "cell_type": "markdown",
   "metadata": {},
   "source": [
    "### 1. Data Pre-processing and Visualization"
   ]
  },
  {
   "cell_type": "code",
   "execution_count": 1,
   "metadata": {},
   "outputs": [],
   "source": [
    "import numpy as np\n",
    "import pandas as pd"
   ]
  },
  {
   "cell_type": "markdown",
   "metadata": {},
   "source": [
    "### Missing values"
   ]
  },
  {
   "cell_type": "code",
   "execution_count": 2,
   "metadata": {},
   "outputs": [],
   "source": [
    "loan_data = pd.read_csv('data/chap06/loan_missing.csv')"
   ]
  },
  {
   "cell_type": "code",
   "execution_count": 3,
   "metadata": {
    "scrolled": true
   },
   "outputs": [
    {
     "name": "stdout",
     "output_type": "stream",
     "text": [
      "Current Loan Amount                0\n",
      "Credit Score                    1425\n",
      "Years in current job               0\n",
      "Annual Income                      0\n",
      "Monthly Debt                       0\n",
      "Years of Credit History            0\n",
      "Months since last delinquent       0\n",
      "Number of Open Accounts            0\n",
      "Number of Credit Problems          0\n",
      "Current Credit Balance             0\n",
      "Maximum Open Credit                0\n",
      "Bankruptcies                       0\n",
      "Tax Liens                          0\n",
      "dtype: int64\n"
     ]
    }
   ],
   "source": [
    "# Print missing values\n",
    "print(loan_data.isna().sum())"
   ]
  },
  {
   "cell_type": "code",
   "execution_count": 4,
   "metadata": {},
   "outputs": [
    {
     "name": "stdout",
     "output_type": "stream",
     "text": [
      "71.5\n",
      "92.3076923076923 \n",
      "\n"
     ]
    }
   ],
   "source": [
    "# Drop rows with missing values\n",
    "dropNArows = loan_data.dropna(axis=0)\n",
    "print(dropNArows.shape[0]/loan_data.shape[0] * 100)\n",
    "\n",
    "# Drop columns with missing values\n",
    "dropNAcols = loan_data.dropna(axis=1)\n",
    "print(dropNAcols.shape[1]/loan_data.shape[1] * 100, '\\n')"
   ]
  },
  {
   "cell_type": "code",
   "execution_count": 5,
   "metadata": {},
   "outputs": [
    {
     "name": "stdout",
     "output_type": "stream",
     "text": [
      "count    3575.000000\n",
      "mean      726.868531\n",
      "std        13.455373\n",
      "min       700.000000\n",
      "25%       716.000000\n",
      "50%       728.000000\n",
      "75%       738.000000\n",
      "max       751.000000\n",
      "Name: Credit Score, dtype: float64\n",
      "count    5000.000000\n",
      "mean      519.711000\n",
      "std       328.348935\n",
      "min         0.000000\n",
      "25%         0.000000\n",
      "50%       719.000000\n",
      "75%       735.000000\n",
      "max       751.000000\n",
      "Name: Credit Score, dtype: float64\n"
     ]
    }
   ],
   "source": [
    "# Fill missing values with zero\n",
    "loan_data_filled = loan_data.fillna(0)\n",
    "print(loan_data['Credit Score'].describe())\n",
    "print(loan_data_filled['Credit Score'].describe())"
   ]
  },
  {
   "cell_type": "code",
   "execution_count": 6,
   "metadata": {},
   "outputs": [
    {
     "name": "stdout",
     "output_type": "stream",
     "text": [
      "count    5000.000000\n",
      "mean      726.868531\n",
      "std        11.377097\n",
      "min       700.000000\n",
      "25%       721.000000\n",
      "50%       726.868531\n",
      "75%       735.000000\n",
      "max       751.000000\n",
      "Name: Credit Score, dtype: float64\n"
     ]
    }
   ],
   "source": [
    "# Simple imputation\n",
    "\n",
    "from sklearn.impute import SimpleImputer\n",
    "\n",
    "# Subset numeric features\n",
    "numeric_cols = loan_data.select_dtypes(include=[np.number])\n",
    "\n",
    "# Impute with mean\n",
    "imp_mean = SimpleImputer(strategy='mean')\n",
    "loans_imp_mean = imp_mean.fit_transform(numeric_cols)\n",
    "\n",
    "# Convert returned array to DataFrame\n",
    "loans_imp_meanDF = pd.DataFrame(loans_imp_mean, columns=numeric_cols.columns)\n",
    "print(loans_imp_meanDF['Credit Score'].describe())"
   ]
  },
  {
   "cell_type": "code",
   "execution_count": 7,
   "metadata": {},
   "outputs": [
    {
     "name": "stdout",
     "output_type": "stream",
     "text": [
      "count    5000.000000\n",
      "mean      726.571362\n",
      "std        13.313343\n",
      "min       679.050510\n",
      "25%       716.412105\n",
      "50%       727.310815\n",
      "75%       737.000000\n",
      "max       762.422352\n",
      "Name: Credit Score, dtype: float64\n"
     ]
    }
   ],
   "source": [
    "# Iterative imputation\n",
    "\n",
    "# Explicitly require this experimental feature\n",
    "from sklearn.experimental import enable_iterative_imputer\n",
    "from sklearn.impute import IterativeImputer\n",
    "\n",
    "# Subset numeric features: numeric_cols\n",
    "numeric_cols = loan_data.select_dtypes(include=[np.number])\n",
    "\n",
    "# Iteratively impute\n",
    "imp_iter = IterativeImputer(max_iter=5, sample_posterior=True, random_state=123)\n",
    "loans_imp_iter = imp_iter.fit_transform(numeric_cols)\n",
    "\n",
    "# Convert returned array to DataFrame\n",
    "loans_imp_iterDF = pd.DataFrame(loans_imp_iter, columns=numeric_cols.columns)\n",
    "\n",
    "# Check the DataFrame's info\n",
    "print(loans_imp_iterDF['Credit Score'].describe())"
   ]
  },
  {
   "cell_type": "markdown",
   "metadata": {},
   "source": [
    "### Data distribution & transformation\n",
    "\n",
    "poor model performance can result if the distributions of training and test datasets differ."
   ]
  },
  {
   "cell_type": "code",
   "execution_count": 8,
   "metadata": {},
   "outputs": [],
   "source": [
    "from sklearn.model_selection import train_test_split\n",
    "import matplotlib.pyplot as plt\n",
    "import seaborn as sns\n",
    "%matplotlib inline"
   ]
  },
  {
   "cell_type": "markdown",
   "metadata": {},
   "source": [
    "`loan_data = pd.read_csv('data/chap06/loan_missing_filled.csv')\n",
    "loan_data['Loan Status'] = 'Fully Paid'\n",
    "aa = loan_data[(loan_data['Current Loan Amount'] > 0) & (loan_data[\"Monthly Debt\"] > 700) & (loan_data['Annual Income']%2 == 0)].index\n",
    "loan_data.loc[aa, 'Loan Status'] = 'Charged Off'\n",
    "cc = loan_data.groupby(['Loan Status']).count()['Credit Score']\n",
    "print(cc)\n",
    "loan_data.to_csv('data/chap06/loan_data.csv', index=False)`"
   ]
  },
  {
   "cell_type": "code",
   "execution_count": 9,
   "metadata": {},
   "outputs": [],
   "source": [
    "loan_data = pd.read_csv('data/chap06/loan_data.csv')\n",
    "\n",
    "loan_data_subset = loan_data[['Credit Score','Annual Income','Loan Status']]"
   ]
  },
  {
   "cell_type": "code",
   "execution_count": 10,
   "metadata": {},
   "outputs": [],
   "source": [
    "# Create train and test sets\n",
    "trainingSet, testSet = train_test_split(loan_data_subset, test_size=0.2, random_state=123)"
   ]
  },
  {
   "cell_type": "code",
   "execution_count": 11,
   "metadata": {},
   "outputs": [
    {
     "data": {
      "image/png": "[encoded data removed]",
      "text/plain": [
       "<Figure size 456.5x360 with 6 Axes>"
      ]
     },
     "metadata": {
      "needs_background": "light"
     },
     "output_type": "display_data"
    }
   ],
   "source": [
    "sns.pairplot(trainingSet, hue='Loan Status', palette='RdBu')\n",
    "plt.title('Training set')\n",
    "plt.show()"
   ]
  },
  {
   "cell_type": "code",
   "execution_count": 12,
   "metadata": {},
   "outputs": [
    {
     "data": {
      "image/png": "[encoded data removed]",
      "text/plain": [
       "<Figure size 456.5x360 with 6 Axes>"
      ]
     },
     "metadata": {
      "needs_background": "light"
     },
     "output_type": "display_data"
    }
   ],
   "source": [
    "sns.pairplot(testSet, hue='Loan Status', palette='RdBu')\n",
    "plt.title('Test set')\n",
    "plt.show()"
   ]
  },
  {
   "cell_type": "code",
   "execution_count": 13,
   "metadata": {},
   "outputs": [],
   "source": [
    "# Log and power transformations\n",
    "\n",
    "from scipy import stats\n",
    "from scipy.stats import mstats"
   ]
  },
  {
   "cell_type": "code",
   "execution_count": 14,
   "metadata": {},
   "outputs": [
    {
     "data": {
      "image/png": "[encoded data removed]",
      "text/plain": [
       "<Figure size 720x288 with 3 Axes>"
      ]
     },
     "metadata": {
      "needs_background": "light"
     },
     "output_type": "display_data"
    }
   ],
   "source": [
    "fig, ax = plt.subplots(1,3, figsize=(10, 4))\n",
    "\n",
    "cr_yrs = loan_data['Years of Credit History']\n",
    "sns.distplot(cr_yrs, ax=ax[0])\n",
    "\n",
    "# log transformation\n",
    "cr_yrs_log = stats.boxcox(cr_yrs, lmbda=0.0)\n",
    "sns.distplot(cr_yrs_log, ax=ax[1])\n",
    "plt.xlabel('log')\n",
    "\n",
    "# Square root transform\n",
    "cr_yrs_sqrt = stats.boxcox(cr_yrs, lmbda=0.5)\n",
    "sns.distplot(cr_yrs_sqrt, ax=ax[2])\n",
    "plt.xlabel('sqrt')\n",
    "plt.tight_layout()\n",
    "plt.show()"
   ]
  },
  {
   "cell_type": "markdown",
   "metadata": {},
   "source": [
    "### Outlier handling"
   ]
  },
  {
   "cell_type": "code",
   "execution_count": 15,
   "metadata": {},
   "outputs": [
    {
     "data": {
      "image/png": "[encoded data removed]",
      "text/plain": [
       "<Figure size 576x432 with 2 Axes>"
      ]
     },
     "metadata": {
      "needs_background": "light"
     },
     "output_type": "display_data"
    },
    {
     "data": {
      "image/png": "[encoded data removed]",
      "text/plain": [
       "<Figure size 576x432 with 2 Axes>"
      ]
     },
     "metadata": {
      "needs_background": "light"
     },
     "output_type": "display_data"
    },
    {
     "data": {
      "image/png": "[encoded data removed]",
      "text/plain": [
       "<Figure size 576x432 with 2 Axes>"
      ]
     },
     "metadata": {
      "needs_background": "light"
     },
     "output_type": "display_data"
    }
   ],
   "source": [
    "# Outlier detection : Inter-quartile range (IQR)\n",
    "\n",
    "fig, ax = plt.subplots(1,2, figsize=(8, 6))\n",
    "sns.boxplot(y=loan_data['Annual Income'], ax=ax[0])\n",
    "sns.boxplot(x='Loan Status', y='Annual Income', data=loan_data, ax=ax[1])\n",
    "plt.show()\n",
    "\n",
    "fig, ax = plt.subplots(1,2, figsize=(8, 6))\n",
    "sns.boxplot(y=loan_data['Monthly Debt'], ax=ax[0])\n",
    "sns.boxplot(x='Loan Status', y='Monthly Debt', data=loan_data, ax=ax[1])\n",
    "plt.show()\n",
    "\n",
    "fig, ax = plt.subplots(1,2, figsize=(8, 6))\n",
    "sns.boxplot(x=loan_data['Years of Credit History'], ax=ax[0])\n",
    "sns.boxplot(x='Loan Status', y='Years of Credit History', data=loan_data, ax=ax[1])\n",
    "plt.show()"
   ]
  },
  {
   "cell_type": "code",
   "execution_count": 16,
   "metadata": {},
   "outputs": [
    {
     "name": "stdout",
     "output_type": "stream",
     "text": [
      "count    88910.000000\n",
      "mean       963.102059\n",
      "std        637.524064\n",
      "min          0.000000\n",
      "25%        532.220000\n",
      "50%        843.925000\n",
      "75%       1250.527500\n",
      "max      22939.120000\n",
      "Name: Monthly Debt, dtype: float64\n"
     ]
    }
   ],
   "source": [
    "# Handling outliers\n",
    "\n",
    "numeric_cols = loan_data.select_dtypes(include=[np.number])\n",
    "categoric_cols = loan_data.select_dtypes(include=object)\n",
    "\n",
    "print(numeric_cols['Monthly Debt'].describe())"
   ]
  },
  {
   "cell_type": "code",
   "execution_count": 17,
   "metadata": {},
   "outputs": [
    {
     "name": "stdout",
     "output_type": "stream",
     "text": [
      "count    80624.000000\n",
      "mean       907.364200\n",
      "std        530.022029\n",
      "min          0.000000\n",
      "25%        519.357500\n",
      "50%        821.385000\n",
      "75%       1204.790000\n",
      "max       2875.310000\n",
      "Name: Monthly Debt, dtype: float64\n"
     ]
    }
   ],
   "source": [
    "# ver 1 - zscore\n",
    "\n",
    "# Create index of rows to keep (inner 3sigma)\n",
    "idx = (np.abs(stats.zscore(numeric_cols)) < 3).all(axis=1)\n",
    "# Concatenate numeric and categoric subsets\n",
    "ld_out_drop = pd.concat([numeric_cols.loc[idx], categoric_cols.loc[idx]], axis=1)\n",
    "\n",
    "print(ld_out_drop['Monthly Debt'].describe())"
   ]
  },
  {
   "cell_type": "code",
   "execution_count": 18,
   "metadata": {},
   "outputs": [
    {
     "name": "stdout",
     "output_type": "stream",
     "text": [
      "count    88910.000000\n",
      "mean       935.371257\n",
      "std        524.958889\n",
      "min        193.460000\n",
      "25%        532.220000\n",
      "50%        843.925000\n",
      "75%       1250.527500\n",
      "max       2115.520000\n",
      "Name: Monthly Debt, dtype: float64\n"
     ]
    }
   ],
   "source": [
    "# ver 2 - mstats.winsorize\n",
    "\n",
    "# Winsorize numeric columns (5% upper and lower limits)\n",
    "debt_win = mstats.winsorize(loan_data['Monthly Debt'], limits=[0.05, 0.05])\n",
    "# Convert to DataFrame, reassign column name\n",
    "debt_out = pd.DataFrame(debt_win, columns=['Monthly Debt'])\n",
    "\n",
    "print(debt_out['Monthly Debt'].describe())"
   ]
  },
  {
   "cell_type": "markdown",
   "metadata": {},
   "source": [
    "Standardization vs. Normalization\n",
    "\n",
    "* Standardization\n",
    "    - z-score standardization\n",
    "    - scles to mean 0 & std 1\n",
    "\n",
    "* Normalization\n",
    "    - Min/max normalization\n",
    "    - scales to 0 ~ 1 range"
   ]
  },
  {
   "cell_type": "code",
   "execution_count": 19,
   "metadata": {},
   "outputs": [
    {
     "name": "stdout",
     "output_type": "stream",
     "text": [
      "   Current Loan Amount  Credit Score  Years in current job  Annual Income  \\\n",
      "0             0.032520      0.281670             -1.312259      -0.493295   \n",
      "1             1.444549      0.488729              1.189261       0.157771   \n",
      "2             0.461696      0.116023              0.911314      -0.232631   \n",
      "3            -0.024483      0.778611             -0.756366      -0.728961   \n",
      "4            -0.237359     -1.457623              1.189261      -0.486493   \n",
      "\n",
      "   Monthly Debt  Years of Credit History  Months since last delinquent  \\\n",
      "0     -0.291304                -0.044731                     -1.681931   \n",
      "1     -0.111388                 1.189463                     -0.042509   \n",
      "2      0.440641                -0.229151                     -0.235202   \n",
      "3      0.043666                -1.179622                      0.142336   \n",
      "4     -0.720592                -0.229151                     -0.695525   \n",
      "\n",
      "   Number of Open Accounts  Number of Credit Problems  Current Credit Balance  \\\n",
      "0                 0.178701                  -0.338742               -0.441228   \n",
      "1                 0.580434                  -0.338742                1.031104   \n",
      "2                -0.022165                   1.772105               -0.211660   \n",
      "3                 1.986499                  -0.338742               -0.428664   \n",
      "4                 0.379568                   1.772105                0.075136   \n",
      "\n",
      "   Maximum Open Credit  Bankruptcies  Tax Liens  Loan Status  \n",
      "0            -0.097522     -0.327934  -0.109589   Fully Paid  \n",
      "1             0.168967     -0.327934  -0.109589   Fully Paid  \n",
      "2            -0.071377      2.587350  -0.109589  Charged Off  \n",
      "3             0.037928     -0.327934  -0.109589   Fully Paid  \n",
      "4            -0.053344      2.587350  -0.109589   Fully Paid  \n"
     ]
    }
   ],
   "source": [
    "from sklearn.preprocessing import StandardScaler\n",
    "\n",
    "scaler = StandardScaler()\n",
    "\n",
    "# Fit and transform, convert to DF\n",
    "numeric_cols_scaled = scaler.fit_transform(numeric_cols)\n",
    "numeric_cols_scaledDF = pd.DataFrame(numeric_cols_scaled, columns=numeric_cols.columns)\n",
    "\n",
    "# Concatenate categoric columns to scaled numeric columns\n",
    "final_DF = pd.concat([numeric_cols_scaledDF, categoric_cols], axis=1)\n",
    "print(final_DF.head())"
   ]
  },
  {
   "cell_type": "markdown",
   "metadata": {},
   "source": [
    "## 2. Supervised Learning"
   ]
  },
  {
   "cell_type": "markdown",
   "metadata": {},
   "source": [
    "1. Selecting the correct features \n",
    "    - Reduces overfitting\n",
    "    - Improve accuracy\n",
    "    - Increase interpretability\n",
    "    - Reduces training time.\n",
    "\n",
    "\n",
    "2. Feature selection methods\n",
    "    - Filter: Rank features based on statistical performance\n",
    "    - Wrapper: Use an ML method to evaluate performance\n",
    "    - Embedded: Iterative model training to extract features\n",
    "    - Feature importance: tree-based ML models`"
   ]
  },
  {
   "cell_type": "markdown",
   "metadata": {},
   "source": [
    "Correlation coefficient statistical tests<br>\n",
    "    \n",
    "    feature/target    continuous                 categorical\n",
    "    continuous        Pearsons Correlation       LDA\n",
    "    categorical       ANOVA                      Chi-Square"
   ]
  },
  {
   "cell_type": "markdown",
   "metadata": {},
   "source": [
    "### Feature selection - Filter and wrapper methods"
   ]
  },
  {
   "cell_type": "code",
   "execution_count": 20,
   "metadata": {},
   "outputs": [
    {
     "name": "stdout",
     "output_type": "stream",
     "text": [
      "                  age       sex       bmi        bp        s1        s2  \\\n",
      "age          1.000000  0.173737  0.185085  0.335427  0.260061  0.219243   \n",
      "sex          0.173737  1.000000  0.088161  0.241013  0.035277  0.142637   \n",
      "bmi          0.185085  0.088161  1.000000  0.395415  0.249777  0.261170   \n",
      "bp           0.335427  0.241013  0.395415  1.000000  0.242470  0.185558   \n",
      "s1           0.260061  0.035277  0.249777  0.242470  1.000000  0.896663   \n",
      "s2           0.219243  0.142637  0.261170  0.185558  0.896663  1.000000   \n",
      "s3          -0.075181 -0.379090 -0.366811 -0.178761  0.051519 -0.196455   \n",
      "s4           0.203841  0.332115  0.413807  0.257653  0.542207  0.659817   \n",
      "s5           0.270777  0.149918  0.446159  0.393478  0.515501  0.318353   \n",
      "s6           0.301731  0.208133  0.388680  0.390429  0.325717  0.290600   \n",
      "progression  0.187889  0.043062  0.586450  0.441484  0.212022  0.174054   \n",
      "\n",
      "                   s3        s4        s5        s6  progression  \n",
      "age         -0.075181  0.203841  0.270777  0.301731     0.187889  \n",
      "sex         -0.379090  0.332115  0.149918  0.208133     0.043062  \n",
      "bmi         -0.366811  0.413807  0.446159  0.388680     0.586450  \n",
      "bp          -0.178761  0.257653  0.393478  0.390429     0.441484  \n",
      "s1           0.051519  0.542207  0.515501  0.325717     0.212022  \n",
      "s2          -0.196455  0.659817  0.318353  0.290600     0.174054  \n",
      "s3           1.000000 -0.738493 -0.398577 -0.273697    -0.394789  \n",
      "s4          -0.738493  1.000000  0.617857  0.417212     0.430453  \n",
      "s5          -0.398577  0.617857  1.000000  0.464670     0.565883  \n",
      "s6          -0.273697  0.417212  0.464670  1.000000     0.382483  \n",
      "progression -0.394789  0.430453  0.565883  0.382483     1.000000  \n"
     ]
    }
   ],
   "source": [
    "diabetes = pd.read_csv('data/chap06/diabetes.csv')\n",
    "\n",
    "# correlation matrix\n",
    "cor = diabetes.corr()\n",
    "print(cor)"
   ]
  },
  {
   "cell_type": "code",
   "execution_count": 21,
   "metadata": {},
   "outputs": [
    {
     "data": {
      "image/png": "[encoded data removed]",
      "text/plain": [
       "<Figure size 432x288 with 2 Axes>"
      ]
     },
     "metadata": {
      "needs_background": "light"
     },
     "output_type": "display_data"
    }
   ],
   "source": [
    "# Correlation matrix heatmap\n",
    "sns.heatmap(cor, annot=True, cmap=plt.cm.Reds)\n",
    "plt.show()"
   ]
  },
  {
   "cell_type": "code",
   "execution_count": 22,
   "metadata": {},
   "outputs": [
    {
     "name": "stdout",
     "output_type": "stream",
     "text": [
      "bmi            0.586450\n",
      "s5             0.565883\n",
      "progression    1.000000\n",
      "Name: progression, dtype: float64\n"
     ]
    }
   ],
   "source": [
    "# Selecting highly correlated features\n",
    "\n",
    "cor_target = abs(cor[\"progression\"])\n",
    "best_features = cor_target[cor_target > 0.5]\n",
    "print(best_features)"
   ]
  },
  {
   "cell_type": "code",
   "execution_count": 23,
   "metadata": {},
   "outputs": [
    {
     "name": "stdout",
     "output_type": "stream",
     "text": [
      "[ True False  True  True  True  True  True  True  True  True]\n",
      "[1 2 1 1 1 1 1 1 1 1]\n",
      "Index(['age', 'sex', 'bmi', 'bp', 's1', 's2', 's3', 's4', 's5', 's6'], dtype='object') \n",
      "\n",
      "0.4982900996498095\n",
      "0.052268622851592804\n"
     ]
    }
   ],
   "source": [
    "from sklearn.svm import SVR\n",
    "from sklearn.feature_selection import RFECV\n",
    "from sklearn.linear_model import LarsCV\n",
    "\n",
    "y = diabetes.pop('progression')\n",
    "X = diabetes\n",
    "\n",
    "# Feature selector\n",
    "svr = SVR(kernel=\"linear\")\n",
    "feat_selector = RFECV(svr, cv=5)\n",
    "\n",
    "feat_selector = feat_selector.fit(X, y)\n",
    "\n",
    "print(feat_selector.support_)\n",
    "print(feat_selector.ranking_)\n",
    "print(X.columns, '\\n')\n",
    "\n",
    "# Drop feature suggested not important in step 2\n",
    "X = X.drop('sex', axis=1)\n",
    "\n",
    "# Fit\n",
    "lars_mod = LarsCV(cv=5, normalize=False)\n",
    "feat_selector = lars_mod.fit(X, y)\n",
    "\n",
    "# Print r-squared score and estimated alpha\n",
    "print(lars_mod.score(X, y))\n",
    "print(lars_mod.alpha_)"
   ]
  },
  {
   "cell_type": "markdown",
   "metadata": {},
   "source": [
    "### Feature selection through feature importance"
   ]
  },
  {
   "cell_type": "code",
   "execution_count": 24,
   "metadata": {},
   "outputs": [
    {
     "name": "stdout",
     "output_type": "stream",
     "text": [
      "Index(['age', 'sex', 'bmi', 'bp', 's1', 's2', 's3', 's4', 's5', 's6'], dtype='object')\n",
      "[0.         0.39961579 0.03085607 0.         0.00128948 0.00700339\n",
      " 0.00417891 0.53899467 0.01806168]\n"
     ]
    }
   ],
   "source": [
    "from sklearn.ensemble import RandomForestRegressor\n",
    "\n",
    "rf_mod = RandomForestRegressor(max_depth=2, n_estimators=100, oob_score=True, random_state=123)\n",
    "rf_mod.fit(X, y)\n",
    "\n",
    "print(diabetes.columns)\n",
    "print(rf_mod.feature_importances_)"
   ]
  },
  {
   "cell_type": "code",
   "execution_count": 25,
   "metadata": {},
   "outputs": [
    {
     "name": "stdout",
     "output_type": "stream",
     "text": [
      "Index(['age', 'sex', 'bmi', 'bp', 's1', 's2', 's3', 's4', 's5', 's6'], dtype='object')\n",
      "[0.06085823 0.27407933 0.11333223 0.05033989 0.05421232 0.06531443\n",
      " 0.06910603 0.23248041 0.08027712]\n"
     ]
    }
   ],
   "source": [
    "from sklearn.ensemble import ExtraTreesRegressor\n",
    "\n",
    "xt_mod = ExtraTreesRegressor(n_estimators=100)\n",
    "xt_mod.fit(X, y)\n",
    "\n",
    "print(diabetes.columns)\n",
    "print(xt_mod.feature_importances_)"
   ]
  },
  {
   "cell_type": "markdown",
   "metadata": {},
   "source": [
    "### Regularization - Lasso (L1), Ridge (L2)"
   ]
  },
  {
   "cell_type": "markdown",
   "metadata": {},
   "source": [
    "Lasso uses the L1 norm corresponding to the penalty parameter and the absolute value of the coefficients.\n",
    "\n",
    "\n",
    "Ridge regression performs L2 regularization, which adds a penalty term to ordinary least squares using the penalty parameter and the sum of the squared coefficients."
   ]
  },
  {
   "cell_type": "code",
   "execution_count": 26,
   "metadata": {},
   "outputs": [
    {
     "data": {
      "text/html": [
       "<div>\n",
       "<style scoped>\n",
       "    .dataframe tbody tr th:only-of-type {\n",
       "        vertical-align: middle;\n",
       "    }\n",
       "\n",
       "    .dataframe tbody tr th {\n",
       "        vertical-align: top;\n",
       "    }\n",
       "\n",
       "    .dataframe thead th {\n",
       "        text-align: right;\n",
       "    }\n",
       "</style>\n",
       "<table border=\"1\" class=\"dataframe\">\n",
       "  <thead>\n",
       "    <tr style=\"text-align: right;\">\n",
       "      <th></th>\n",
       "      <th>age</th>\n",
       "      <th>bmi</th>\n",
       "      <th>bp</th>\n",
       "      <th>s1</th>\n",
       "      <th>s2</th>\n",
       "      <th>s3</th>\n",
       "      <th>s4</th>\n",
       "      <th>s5</th>\n",
       "      <th>s6</th>\n",
       "    </tr>\n",
       "  </thead>\n",
       "  <tbody>\n",
       "    <tr>\n",
       "      <th>374</th>\n",
       "      <td>-0.107226</td>\n",
       "      <td>-0.034229</td>\n",
       "      <td>-0.067642</td>\n",
       "      <td>-0.063487</td>\n",
       "      <td>-0.070520</td>\n",
       "      <td>0.008142</td>\n",
       "      <td>-0.039493</td>\n",
       "      <td>-0.000609</td>\n",
       "      <td>-0.079778</td>\n",
       "    </tr>\n",
       "    <tr>\n",
       "      <th>420</th>\n",
       "      <td>0.023546</td>\n",
       "      <td>-0.036385</td>\n",
       "      <td>0.000068</td>\n",
       "      <td>0.001183</td>\n",
       "      <td>0.034698</td>\n",
       "      <td>-0.043401</td>\n",
       "      <td>0.034309</td>\n",
       "      <td>-0.033249</td>\n",
       "      <td>0.061054</td>\n",
       "    </tr>\n",
       "    <tr>\n",
       "      <th>204</th>\n",
       "      <td>0.110727</td>\n",
       "      <td>0.006728</td>\n",
       "      <td>0.028758</td>\n",
       "      <td>-0.027712</td>\n",
       "      <td>-0.007264</td>\n",
       "      <td>-0.047082</td>\n",
       "      <td>0.034309</td>\n",
       "      <td>0.002008</td>\n",
       "      <td>0.077622</td>\n",
       "    </tr>\n",
       "    <tr>\n",
       "      <th>263</th>\n",
       "      <td>-0.074533</td>\n",
       "      <td>-0.077342</td>\n",
       "      <td>-0.046985</td>\n",
       "      <td>-0.046975</td>\n",
       "      <td>-0.032629</td>\n",
       "      <td>0.004460</td>\n",
       "      <td>-0.039493</td>\n",
       "      <td>-0.072128</td>\n",
       "      <td>-0.017646</td>\n",
       "    </tr>\n",
       "    <tr>\n",
       "      <th>285</th>\n",
       "      <td>0.012648</td>\n",
       "      <td>-0.020218</td>\n",
       "      <td>-0.015999</td>\n",
       "      <td>0.012191</td>\n",
       "      <td>0.021233</td>\n",
       "      <td>-0.076536</td>\n",
       "      <td>0.108111</td>\n",
       "      <td>0.059881</td>\n",
       "      <td>-0.021788</td>\n",
       "    </tr>\n",
       "  </tbody>\n",
       "</table>\n",
       "</div>"
      ],
      "text/plain": [
       "          age       bmi        bp        s1        s2        s3        s4  \\\n",
       "374 -0.107226 -0.034229 -0.067642 -0.063487 -0.070520  0.008142 -0.039493   \n",
       "420  0.023546 -0.036385  0.000068  0.001183  0.034698 -0.043401  0.034309   \n",
       "204  0.110727  0.006728  0.028758 -0.027712 -0.007264 -0.047082  0.034309   \n",
       "263 -0.074533 -0.077342 -0.046985 -0.046975 -0.032629  0.004460 -0.039493   \n",
       "285  0.012648 -0.020218 -0.015999  0.012191  0.021233 -0.076536  0.108111   \n",
       "\n",
       "           s5        s6  \n",
       "374 -0.000609 -0.079778  \n",
       "420 -0.033249  0.061054  \n",
       "204  0.002008  0.077622  \n",
       "263 -0.072128 -0.017646  \n",
       "285  0.059881 -0.021788  "
      ]
     },
     "execution_count": 26,
     "metadata": {},
     "output_type": "execute_result"
    }
   ],
   "source": [
    "X_train, X_test, y_train, y_test = train_test_split(X, y, random_state=123, test_size=0.3)\n",
    "X_train.head()"
   ]
  },
  {
   "cell_type": "code",
   "execution_count": 27,
   "metadata": {},
   "outputs": [
    {
     "name": "stdout",
     "output_type": "stream",
     "text": [
      "2977.4320945626737\n"
     ]
    }
   ],
   "source": [
    "# Lasso regularization\n",
    "\n",
    "from sklearn.linear_model import Lasso, LassoCV\n",
    "from sklearn.metrics import mean_squared_error\n",
    "\n",
    "# Instantiate cross-validated lasso, fit\n",
    "lasso_cv = LassoCV(alphas=None, cv=10, max_iter=10000)\n",
    "lasso_cv.fit(X_train, y_train) \n",
    "\n",
    "# Instantiate lasso, fit, predict and print MSE\n",
    "lasso = Lasso(alpha = lasso_cv.alpha_)\n",
    "lasso.fit(X_train, y_train)\n",
    "\n",
    "print(mean_squared_error(y_true=y_test, y_pred=lasso.predict(X_test)))"
   ]
  },
  {
   "cell_type": "code",
   "execution_count": 28,
   "metadata": {},
   "outputs": [
    {
     "name": "stdout",
     "output_type": "stream",
     "text": [
      "3037.383332513441\n"
     ]
    }
   ],
   "source": [
    "# Ridge regularization\n",
    "\n",
    "from sklearn.linear_model import Ridge, RidgeCV\n",
    "\n",
    "# Instantiate cross-validated ridge, fit\n",
    "ridge_cv = RidgeCV(alphas=np.logspace(-6, 6, 13))\n",
    "ridge_cv.fit(X_train, y_train)\n",
    "\n",
    "# Instantiate ridge, fit, predict and print MSE\n",
    "ridge = Ridge(alpha = ridge_cv.alpha_)\n",
    "ridge.fit(X_train, y_train)\n",
    "\n",
    "print(mean_squared_error(y_true=y_test, y_pred=ridge.predict(X_test)))"
   ]
  },
  {
   "cell_type": "markdown",
   "metadata": {},
   "source": [
    "### Classification: feature engineering\n",
    "\n",
    "target과 correlation이 높은 새로운 feature 생성"
   ]
  },
  {
   "cell_type": "code",
   "execution_count": 29,
   "metadata": {},
   "outputs": [],
   "source": [
    "# Logistic regression baseline classifier\n",
    "\n",
    "loan_data = pd.read_csv('data/chap06/loan_data.csv')\n",
    "\n",
    "X = loan_data.drop(\"Loan Status\", axis=1)\n",
    "y = loan_data[\"Loan Status\"]\n",
    "\n",
    "X_train, X_test, y_train, y_test = train_test_split(X, y, test_size=0.3, random_state=123)"
   ]
  },
  {
   "cell_type": "code",
   "execution_count": 30,
   "metadata": {},
   "outputs": [
    {
     "name": "stderr",
     "output_type": "stream",
     "text": [
      "C:\\Anaconda3\\lib\\site-packages\\sklearn\\linear_model\\logistic.py:432: FutureWarning: Default solver will be changed to 'lbfgs' in 0.22. Specify a solver to silence this warning.\n",
      "  FutureWarning)\n"
     ]
    },
    {
     "name": "stdout",
     "output_type": "stream",
     "text": [
      "0.7673677501593371\n"
     ]
    }
   ],
   "source": [
    "from sklearn.linear_model import LogisticRegression\n",
    "from sklearn.metrics import accuracy_score\n",
    "\n",
    "logistic = LogisticRegression()\n",
    "logistic.fit(X_train, y_train)\n",
    "\n",
    "# Predict and accuracy\n",
    "print(accuracy_score(y_true=y_test, y_pred=logistic.predict(X_test)))"
   ]
  },
  {
   "cell_type": "code",
   "execution_count": 31,
   "metadata": {},
   "outputs": [],
   "source": [
    "# Create dti_ratio variable\n",
    "monthly_income = loan_data[\"Annual Income\"]/12\n",
    "loan_data[\"dti_ratio\"] = loan_data[\"Monthly Debt\"]/monthly_income * 100\n",
    "loan_data = loan_data.drop([\"Monthly Debt\",\"Annual Income\"], axis=1)\n",
    "\n",
    "# Replace target variable levels\n",
    "loan_data[\"Loan Status\"] = loan_data[\"Loan Status\"].replace({'Fully Paid': 0, \n",
    "                                                             'Charged Off': 1})\n",
    "\n",
    "# One-hot encode categorical variables\n",
    "loans_dti = pd.get_dummies(data=loan_data)\n",
    "# print(loans_dti.head())"
   ]
  },
  {
   "cell_type": "code",
   "execution_count": 32,
   "metadata": {},
   "outputs": [
    {
     "name": "stderr",
     "output_type": "stream",
     "text": [
      "C:\\Anaconda3\\lib\\site-packages\\sklearn\\linear_model\\logistic.py:432: FutureWarning: Default solver will be changed to 'lbfgs' in 0.22. Specify a solver to silence this warning.\n",
      "  FutureWarning)\n"
     ]
    },
    {
     "name": "stdout",
     "output_type": "stream",
     "text": [
      "0.7751658980992014\n"
     ]
    }
   ],
   "source": [
    "# dti_ratio feature 적용\n",
    "X = loans_dti.drop(\"Loan Status\", axis=1)\n",
    "y = loans_dti[\"Loan Status\"]\n",
    "\n",
    "X_train, X_test, y_train, y_test = train_test_split(X, y, test_size=0.3, random_state=123)\n",
    "\n",
    "logistic_dti = LogisticRegression()\n",
    "logistic_dti.fit(X_train, y_train)\n",
    "\n",
    "print(accuracy_score(y_true=y_test, y_pred=logistic_dti.predict(X_test)))"
   ]
  },
  {
   "cell_type": "markdown",
   "metadata": {},
   "source": [
    "### Ensemble methods"
   ]
  },
  {
   "cell_type": "code",
   "execution_count": 33,
   "metadata": {},
   "outputs": [],
   "source": [
    "from sklearn.ensemble import BaggingClassifier, AdaBoostClassifier"
   ]
  },
  {
   "cell_type": "code",
   "execution_count": 34,
   "metadata": {},
   "outputs": [
    {
     "name": "stdout",
     "output_type": "stream",
     "text": [
      "0.7979229932890939\n"
     ]
    }
   ],
   "source": [
    "# Bootstrap aggregation (bagging)\n",
    "\n",
    "bagged_model = BaggingClassifier(n_estimators=50, random_state=123)\n",
    "\n",
    "bagged_model.fit(X_train, y_train)\n",
    "bagged_pred = bagged_model.predict(X_test)\n",
    "\n",
    "print(accuracy_score(y_test, bagged_pred))"
   ]
  },
  {
   "cell_type": "code",
   "execution_count": 35,
   "metadata": {},
   "outputs": [
    {
     "name": "stdout",
     "output_type": "stream",
     "text": [
      "0.7895999700071233\n"
     ]
    }
   ],
   "source": [
    "# Boosting\n",
    "\n",
    "boosted_model = AdaBoostClassifier(n_estimators=50, random_state=123)\n",
    "boosted_fit = boosted_model.fit(X_train, y_train)\n",
    "boosted_pred = boosted_model.predict(X_test)\n",
    "\n",
    "print(accuracy_score(y_test, boosted_pred))"
   ]
  },
  {
   "cell_type": "code",
   "execution_count": 36,
   "metadata": {},
   "outputs": [
    {
     "name": "stdout",
     "output_type": "stream",
     "text": [
      "Final prediction score: [0.78097702]\n"
     ]
    }
   ],
   "source": [
    "# pip install xgboost\n",
    "from xgboost import XGBClassifier\n",
    "\n",
    "xgb = XGBClassifier(random_state=123, learning_rate=0.1, n_estimators=10, max_depth=3)\n",
    "xgb_fit = xgb.fit(X_train, y_train)\n",
    "xgb_pred = xgb.predict(X_test)\n",
    "\n",
    "print('Final prediction score: [%.8f]' % accuracy_score(y_test, xgb_pred))"
   ]
  },
  {
   "cell_type": "markdown",
   "metadata": {},
   "source": [
    "### Dimensionality reduction"
   ]
  },
  {
   "cell_type": "code",
   "execution_count": 37,
   "metadata": {},
   "outputs": [],
   "source": [
    "X = loan_data.drop(\"Loan Status\", axis=1)\n",
    "y = loan_data[\"Loan Status\"]"
   ]
  },
  {
   "cell_type": "code",
   "execution_count": 38,
   "metadata": {},
   "outputs": [
    {
     "name": "stdout",
     "output_type": "stream",
     "text": [
      "[9.93445508e-01 5.46734807e-03 1.08713039e-03 7.97458826e-09\n",
      " 3.29315599e-09 8.72907071e-10 6.75381330e-10 2.82997625e-10\n",
      " 1.78111901e-10 4.35113530e-12]\n"
     ]
    }
   ],
   "source": [
    "# PCA\n",
    "from sklearn.decomposition import PCA\n",
    "\n",
    "pca = PCA(n_components=10)\n",
    "\n",
    "X_proj = pca.fit_transform(X)\n",
    "\n",
    "# Print ratio of variance explained\n",
    "var = pca.explained_variance_ratio_\n",
    "print(var)"
   ]
  },
  {
   "cell_type": "code",
   "execution_count": 39,
   "metadata": {},
   "outputs": [
    {
     "data": {
      "image/png": "[encoded data removed]",
      "text/plain": [
       "<Figure size 432x288 with 1 Axes>"
      ]
     },
     "metadata": {
      "needs_background": "light"
     },
     "output_type": "display_data"
    }
   ],
   "source": [
    "cumulative_var = np.cumsum(var)*100\n",
    "plt.plot(cumulative_var,'k-o',markerfacecolor='None',markeredgecolor='k')\n",
    "plt.title('Principal Component Analysis',fontsize=12)\n",
    "plt.xlabel(\"Principal Component\",fontsize=12)\n",
    "plt.ylabel(\"Cumulative Proportion of Variance Explained\",fontsize=12)\n",
    "plt.show()"
   ]
  },
  {
   "cell_type": "code",
   "execution_count": 40,
   "metadata": {},
   "outputs": [
    {
     "name": "stdout",
     "output_type": "stream",
     "text": [
      "            PC1           PC2           PC3  class\n",
      "0 -25737.505610  -8190.599711  -1520.487737      0\n",
      "1  44683.624021  21324.901096 -10060.654063      0\n",
      "2 -18802.098678  -3261.954825  -4722.384987      1\n",
      "3   9848.782329  -8507.366090   -993.600408      0\n",
      "4 -13996.748323   1345.695873   2345.646344      0\n"
     ]
    }
   ],
   "source": [
    "df_pc = pd.DataFrame(data=X_proj[:, :3], columns=['PC1','PC2','PC3'])\n",
    "df_pc['class'] = y\n",
    "print(df_pc.head())"
   ]
  },
  {
   "cell_type": "code",
   "execution_count": 41,
   "metadata": {},
   "outputs": [
    {
     "data": {
      "text/plain": [
       "<seaborn.axisgrid.FacetGrid at 0x1ad33f655f8>"
      ]
     },
     "execution_count": 41,
     "metadata": {},
     "output_type": "execute_result"
    },
    {
     "data": {
      "image/png": "[encoded data removed]",
      "text/plain": [
       "<Figure size 402.375x360 with 1 Axes>"
      ]
     },
     "metadata": {
      "needs_background": "light"
     },
     "output_type": "display_data"
    }
   ],
   "source": [
    "sns.lmplot(x='PC1', y='PC2', data=df_pc, fit_reg=False, \n",
    "           hue='class',\n",
    "           legend=True,\n",
    "           scatter_kws={\"s\": 10})"
   ]
  },
  {
   "cell_type": "code",
   "execution_count": 42,
   "metadata": {},
   "outputs": [
    {
     "name": "stdout",
     "output_type": "stream",
     "text": [
      "[0.99335994 0.00519312 0.00144522]\n"
     ]
    }
   ],
   "source": [
    "# Singular value decomposition (SVD)\n",
    "from sklearn.decomposition import TruncatedSVD\n",
    "\n",
    "svd = TruncatedSVD(n_components=3)\n",
    "X_proj = svd.fit_transform(X)\n",
    "\n",
    "# Print ratio of variance explained\n",
    "print(svd.explained_variance_ratio_)"
   ]
  },
  {
   "cell_type": "markdown",
   "metadata": {},
   "source": [
    "### Decision Tree"
   ]
  },
  {
   "cell_type": "code",
   "execution_count": 43,
   "metadata": {},
   "outputs": [],
   "source": [
    "from sklearn.tree import DecisionTreeClassifier\n",
    "from sklearn.ensemble import RandomForestClassifier\n",
    "from sklearn.model_selection import GridSearchCV\n",
    "from sklearn.metrics import accuracy_score\n",
    "\n",
    "X = loan_data.drop(\"Loan Status\", axis=1)\n",
    "y = loan_data[\"Loan Status\"]\n",
    "\n",
    "X_train, X_test, y_train, y_test = train_test_split(X, y, test_size=0.30, random_state=123)"
   ]
  },
  {
   "cell_type": "code",
   "execution_count": 44,
   "metadata": {},
   "outputs": [
    {
     "name": "stdout",
     "output_type": "stream",
     "text": [
      "Decision Tree Accuracy: 0.7536835001687099\n"
     ]
    }
   ],
   "source": [
    "# Decision Tree\n",
    "\n",
    "loans_clf = DecisionTreeClassifier() \n",
    "loans_clf.fit(X_train, y_train)\n",
    "y_pred = loans_clf.predict(X_test)\n",
    "\n",
    "print(\"Decision Tree Accuracy: {}\".format(accuracy_score(y_test,y_pred)))"
   ]
  },
  {
   "cell_type": "code",
   "execution_count": 45,
   "metadata": {},
   "outputs": [
    {
     "name": "stdout",
     "output_type": "stream",
     "text": [
      "Tuned Decision Tree Parameter: {'criterion': 'gini', 'max_depth': 5, 'min_samples_split': 2}\n",
      "Tuned Decision Tree Accuracy: 0.785915130870704\n"
     ]
    }
   ],
   "source": [
    "# Create the hyperparameter grid\n",
    "param_grid = {\"criterion\": [\"gini\"], \"min_samples_split\": [2, 10, 20], \"max_depth\": [None, 2, 5, 10]}\n",
    "\n",
    "loans_clf = DecisionTreeClassifier()\n",
    "dtree_cv = GridSearchCV(loans_clf, param_grid, cv=5)\n",
    "fit = dtree_cv.fit(X_train, y_train)\n",
    "\n",
    "# Print the optimal parameters and best score\n",
    "print(\"Tuned Decision Tree Parameter: {}\".format(dtree_cv.best_params_))\n",
    "print(\"Tuned Decision Tree Accuracy: {}\".format(dtree_cv.best_score_))"
   ]
  },
  {
   "cell_type": "code",
   "execution_count": 46,
   "metadata": {},
   "outputs": [
    {
     "name": "stderr",
     "output_type": "stream",
     "text": [
      "C:\\Anaconda3\\lib\\site-packages\\sklearn\\ensemble\\forest.py:245: FutureWarning: The default value of n_estimators will change from 10 in version 0.20 to 100 in 0.22.\n",
      "  \"10 in version 0.20 to 100 in 0.22.\", FutureWarning)\n"
     ]
    },
    {
     "name": "stdout",
     "output_type": "stream",
     "text": [
      "Random Forest Accuracy: 0.7870130843924568\n"
     ]
    }
   ],
   "source": [
    "# Random Forest\n",
    "\n",
    "loans_rf = RandomForestClassifier() \n",
    "loans_rf.fit(X_train, y_train)\n",
    "y_pred = loans_rf.predict(X_test)\n",
    "\n",
    "# Evaluation metric\n",
    "print(\"Random Forest Accuracy: {}\".format(accuracy_score(y_test,y_pred)))"
   ]
  },
  {
   "cell_type": "markdown",
   "metadata": {},
   "source": [
    "### Imbalanced class metrics"
   ]
  },
  {
   "cell_type": "code",
   "execution_count": 47,
   "metadata": {},
   "outputs": [
    {
     "name": "stdout",
     "output_type": "stream",
     "text": [
      "Loan Status\n",
      "0    68777\n",
      "1    20133\n",
      "Name: Credit Score, dtype: int64\n"
     ]
    }
   ],
   "source": [
    "cc = loan_data.groupby(['Loan Status']).count()['Credit Score']  # 0 Fully paid, 1 Charged off\n",
    "print(cc)"
   ]
  },
  {
   "cell_type": "code",
   "execution_count": 48,
   "metadata": {},
   "outputs": [
    {
     "name": "stdout",
     "output_type": "stream",
     "text": [
      "Confusion matrix:\n",
      " [[19567  1118]\n",
      " [ 4879  1109]]\n",
      "Accuracy: 0.7751658980992014\n",
      "Precision: 0.4979793444095195\n",
      "Recall: 0.18520374081496327\n",
      "F1: 0.26999391357273284\n"
     ]
    }
   ],
   "source": [
    "from sklearn.linear_model import LogisticRegression\n",
    "from sklearn.metrics import confusion_matrix, accuracy_score, precision_score, recall_score, f1_score\n",
    "\n",
    "lr = LogisticRegression(solver='liblinear')\n",
    "lr.fit(X_train, y_train)\n",
    "y_pred = lr.predict(X_test)\n",
    "\n",
    "# Print evaluation metrics\n",
    "print(\"Confusion matrix:\\n {}\".format(confusion_matrix(y_test, y_pred)))\n",
    "print(\"Accuracy: {}\".format(accuracy_score(y_test, y_pred)))\n",
    "print(\"Precision: {}\".format(precision_score(y_test, y_pred)))\n",
    "print(\"Recall: {}\".format(recall_score(y_test, y_pred)))\n",
    "print(\"F1: {}\".format(f1_score(y_test, y_pred)))"
   ]
  },
  {
   "cell_type": "code",
   "execution_count": 49,
   "metadata": {},
   "outputs": [
    {
     "name": "stdout",
     "output_type": "stream",
     "text": [
      "(68777, 13)\n",
      "(20133, 13)\n",
      "(68777, 13)\n",
      "(20133, 13)\n"
     ]
    }
   ],
   "source": [
    "# Resampling techniques\n",
    "\n",
    "from sklearn.utils import resample\n",
    "\n",
    "approve = loan_data.loc[loan_data['Loan Status'] == 0]\n",
    "deny = loan_data.loc[loan_data['Loan Status'] == 1]\n",
    "\n",
    "print(approve.shape)\n",
    "print(deny.shape)\n",
    "\n",
    "# Upsample minority and combine with majority\n",
    "loans_upsampled = resample(deny, replace=True, n_samples=len(approve), random_state=123)\n",
    "print(loans_upsampled.shape)\n",
    "upsampled = pd.concat([approve, loans_upsampled])\n",
    "\n",
    "# Downsample majority and combine with minority\n",
    "loans_downsampled = resample(approve, replace = False,  n_samples = len(deny), random_state = 123)\n",
    "print(loans_downsampled.shape)\n",
    "downsampled = pd.concat([loans_downsampled, deny])"
   ]
  },
  {
   "cell_type": "code",
   "execution_count": 50,
   "metadata": {},
   "outputs": [
    {
     "name": "stdout",
     "output_type": "stream",
     "text": [
      "Confusion matrix:\n",
      " [[14347  6338]\n",
      " [ 1909  4079]]\n",
      "Accuracy: 0.6908109324035542\n",
      "Precision: 0.3915714697129692\n",
      "Recall: 0.6811957247828991\n",
      "F1: 0.4972874123742761\n"
     ]
    }
   ],
   "source": [
    "# Upsampled feature matrix and target array\n",
    "X_train_up = upsampled.drop('Loan Status', axis=1)\n",
    "y_train_up = upsampled['Loan Status']\n",
    "\n",
    "# Instantiate logistic regression, fit, predict\n",
    "loan_lr_up = LogisticRegression(solver='liblinear')\n",
    "loan_lr_up.fit(X_train_up, y_train_up)\n",
    "upsampled_y_pred = loan_lr_up.predict(X_test)\n",
    "\n",
    "# Print evaluation metrics\n",
    "print(\"Confusion matrix:\\n {}\".format(confusion_matrix(y_test, upsampled_y_pred)))\n",
    "print(\"Accuracy: {}\".format(accuracy_score(y_test, upsampled_y_pred)))\n",
    "print(\"Precision: {}\".format(precision_score(y_test, upsampled_y_pred)))\n",
    "print(\"Recall: {}\".format(recall_score(y_test, upsampled_y_pred)))\n",
    "print(\"F1: {}\".format(f1_score(y_test, upsampled_y_pred)))"
   ]
  },
  {
   "cell_type": "code",
   "execution_count": 51,
   "metadata": {},
   "outputs": [
    {
     "name": "stdout",
     "output_type": "stream",
     "text": [
      "Confusion matrix:\n",
      " [[14338  6347]\n",
      " [ 1908  4080]]\n",
      "Accuracy: 0.6905110036366363\n",
      "Precision: 0.39129183849621174\n",
      "Recall: 0.6813627254509018\n",
      "F1: 0.49710630520865073\n"
     ]
    }
   ],
   "source": [
    "# Downsampled feature matrix and target array\n",
    "X_train_down = downsampled.drop('Loan Status', axis=1)\n",
    "y_train_down = downsampled['Loan Status']\n",
    "\n",
    "# Instantiate, fit, predict\n",
    "loan_lr_down = LogisticRegression(solver='liblinear')\n",
    "loan_lr_down.fit(X_train_down, y_train_down)\n",
    "downsampled_y_pred = loan_lr_down.predict(X_test)\n",
    "\n",
    "# Print evaluation metrics\n",
    "print(\"Confusion matrix:\\n {}\".format(confusion_matrix(y_test, downsampled_y_pred)))\n",
    "print(\"Accuracy: {}\".format(accuracy_score(y_test, downsampled_y_pred)))\n",
    "print(\"Precision: {}\".format(precision_score(y_test, downsampled_y_pred)))\n",
    "print(\"Recall: {}\".format(recall_score(y_test, downsampled_y_pred)))\n",
    "print(\"F1: {}\".format(f1_score(y_test, downsampled_y_pred)))"
   ]
  }
 ],
 "metadata": {
  "kernelspec": {
   "display_name": "Python 3",
   "language": "python",
   "name": "python3"
  },
  "language_info": {
   "codemirror_mode": {
    "name": "ipython",
    "version": 3
   },
   "file_extension": ".py",
   "mimetype": "text/x-python",
   "name": "python",
   "nbconvert_exporter": "python",
   "pygments_lexer": "ipython3",
   "version": "3.7.3"
  }
 },
 "nbformat": 4,
 "nbformat_minor": 2
}
