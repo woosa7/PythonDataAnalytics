{
 "cells": [
  {
   "cell_type": "markdown",
   "metadata": {},
   "source": [
    "# pandas Foundations\n",
    "----"
   ]
  },
  {
   "cell_type": "code",
   "execution_count": 1,
   "metadata": {
    "collapsed": true
   },
   "outputs": [],
   "source": [
    "import pandas as pd\n",
    "import numpy as np"
   ]
  },
  {
   "cell_type": "code",
   "execution_count": 2,
   "metadata": {
    "collapsed": true
   },
   "outputs": [],
   "source": [
    "%matplotlib inline\n",
    "import matplotlib.pyplot as plt"
   ]
  },
  {
   "cell_type": "code",
   "execution_count": 3,
   "metadata": {},
   "outputs": [
    {
     "name": "stdout",
     "output_type": "stream",
     "text": [
      "Populating the interactive namespace from numpy and matplotlib\n"
     ]
    }
   ],
   "source": [
    "# setting plot defatult size\n",
    "%pylab inline\n",
    "pylab.rcParams['figure.figsize'] = (12, 6)"
   ]
  },
  {
   "cell_type": "code",
   "execution_count": 4,
   "metadata": {},
   "outputs": [
    {
     "data": {
      "text/html": [
       "<div>\n",
       "<table border=\"1\" class=\"dataframe\">\n",
       "  <thead>\n",
       "    <tr style=\"text-align: right;\">\n",
       "      <th></th>\n",
       "      <th>CountryName</th>\n",
       "      <th>CountryCode</th>\n",
       "      <th>Year</th>\n",
       "      <th>TotalPop</th>\n",
       "      <th>UrbanPopRatio</th>\n",
       "    </tr>\n",
       "  </thead>\n",
       "  <tbody>\n",
       "    <tr>\n",
       "      <th>0</th>\n",
       "      <td>Afghanistan</td>\n",
       "      <td>AFG</td>\n",
       "      <td>1960</td>\n",
       "      <td>8990000.0</td>\n",
       "      <td>8.22</td>\n",
       "    </tr>\n",
       "    <tr>\n",
       "      <th>1</th>\n",
       "      <td>Afghanistan</td>\n",
       "      <td>AFG</td>\n",
       "      <td>1961</td>\n",
       "      <td>9160000.0</td>\n",
       "      <td>8.51</td>\n",
       "    </tr>\n",
       "    <tr>\n",
       "      <th>2</th>\n",
       "      <td>Afghanistan</td>\n",
       "      <td>AFG</td>\n",
       "      <td>1962</td>\n",
       "      <td>9340000.0</td>\n",
       "      <td>8.81</td>\n",
       "    </tr>\n",
       "    <tr>\n",
       "      <th>3</th>\n",
       "      <td>Afghanistan</td>\n",
       "      <td>AFG</td>\n",
       "      <td>1963</td>\n",
       "      <td>9530000.0</td>\n",
       "      <td>9.11</td>\n",
       "    </tr>\n",
       "    <tr>\n",
       "      <th>4</th>\n",
       "      <td>Afghanistan</td>\n",
       "      <td>AFG</td>\n",
       "      <td>1964</td>\n",
       "      <td>9730000.0</td>\n",
       "      <td>9.43</td>\n",
       "    </tr>\n",
       "  </tbody>\n",
       "</table>\n",
       "</div>"
      ],
      "text/plain": [
       "   CountryName CountryCode  Year   TotalPop  UrbanPopRatio\n",
       "0  Afghanistan         AFG  1960  8990000.0           8.22\n",
       "1  Afghanistan         AFG  1961  9160000.0           8.51\n",
       "2  Afghanistan         AFG  1962  9340000.0           8.81\n",
       "3  Afghanistan         AFG  1963  9530000.0           9.11\n",
       "4  Afghanistan         AFG  1964  9730000.0           9.43"
      ]
     },
     "execution_count": 4,
     "metadata": {},
     "output_type": "execute_result"
    }
   ],
   "source": [
    "df = pd.read_csv('data/ind_pop_data.csv')\n",
    "df.head()"
   ]
  },
  {
   "cell_type": "code",
   "execution_count": 5,
   "metadata": {},
   "outputs": [
    {
     "data": {
      "text/plain": [
       "array([['Afghanistan', 'AFG', 1960, 8990000.0, 8.22],\n",
       "       ['Afghanistan', 'AFG', 1961, 9160000.0, 8.51],\n",
       "       ['Afghanistan', 'AFG', 1962, 9340000.0, 8.81],\n",
       "       ..., \n",
       "       ['Zimbabwe', 'ZWE', 2013, 14900000.0, 32.7],\n",
       "       ['Zimbabwe', 'ZWE', 2014, 15200000.0, 32.5],\n",
       "       ['Zimbabwe', 'ZWE', 2015, 15600000.0, 32.4]], dtype=object)"
      ]
     },
     "execution_count": 5,
     "metadata": {},
     "output_type": "execute_result"
    }
   ],
   "source": [
    "df.values"
   ]
  },
  {
   "cell_type": "code",
   "execution_count": 6,
   "metadata": {},
   "outputs": [
    {
     "data": {
      "text/plain": [
       "RangeIndex(start=0, stop=14612, step=1)"
      ]
     },
     "execution_count": 6,
     "metadata": {},
     "output_type": "execute_result"
    }
   ],
   "source": [
    "df.index"
   ]
  },
  {
   "cell_type": "markdown",
   "metadata": {},
   "source": [
    "------\n",
    "### create dataframe from dictionary"
   ]
  },
  {
   "cell_type": "code",
   "execution_count": 7,
   "metadata": {
    "collapsed": true
   },
   "outputs": [],
   "source": [
    "#1. by zip lists"
   ]
  },
  {
   "cell_type": "code",
   "execution_count": 8,
   "metadata": {
    "collapsed": true
   },
   "outputs": [],
   "source": [
    "list_keys = ['country', 'population']\n",
    "list_values = [['targaryen', 'stark'], [579, 973]]"
   ]
  },
  {
   "cell_type": "code",
   "execution_count": 9,
   "metadata": {},
   "outputs": [
    {
     "data": {
      "text/html": [
       "<div>\n",
       "<table border=\"1\" class=\"dataframe\">\n",
       "  <thead>\n",
       "    <tr style=\"text-align: right;\">\n",
       "      <th></th>\n",
       "      <th>country</th>\n",
       "      <th>population</th>\n",
       "    </tr>\n",
       "  </thead>\n",
       "  <tbody>\n",
       "    <tr>\n",
       "      <th>0</th>\n",
       "      <td>targaryen</td>\n",
       "      <td>579</td>\n",
       "    </tr>\n",
       "    <tr>\n",
       "      <th>1</th>\n",
       "      <td>stark</td>\n",
       "      <td>973</td>\n",
       "    </tr>\n",
       "  </tbody>\n",
       "</table>\n",
       "</div>"
      ],
      "text/plain": [
       "     country  population\n",
       "0  targaryen         579\n",
       "1      stark         973"
      ]
     },
     "execution_count": 9,
     "metadata": {},
     "output_type": "execute_result"
    }
   ],
   "source": [
    "zipped = list(zip(list_keys,list_values))\n",
    "data = dict(zipped)\n",
    "df_zip = pd.DataFrame(data)\n",
    "df_zip"
   ]
  },
  {
   "cell_type": "code",
   "execution_count": 10,
   "metadata": {},
   "outputs": [
    {
     "data": {
      "text/html": [
       "<div>\n",
       "<table border=\"1\" class=\"dataframe\">\n",
       "  <thead>\n",
       "    <tr style=\"text-align: right;\">\n",
       "      <th></th>\n",
       "      <th>kingdom</th>\n",
       "      <th>army</th>\n",
       "    </tr>\n",
       "  </thead>\n",
       "  <tbody>\n",
       "    <tr>\n",
       "      <th>0</th>\n",
       "      <td>targaryen</td>\n",
       "      <td>579</td>\n",
       "    </tr>\n",
       "    <tr>\n",
       "      <th>1</th>\n",
       "      <td>stark</td>\n",
       "      <td>973</td>\n",
       "    </tr>\n",
       "  </tbody>\n",
       "</table>\n",
       "</div>"
      ],
      "text/plain": [
       "     kingdom  army\n",
       "0  targaryen   579\n",
       "1      stark   973"
      ]
     },
     "execution_count": 10,
     "metadata": {},
     "output_type": "execute_result"
    }
   ],
   "source": [
    "df_zip.columns = ['kingdom', 'army'];   # change column labels\n",
    "df_zip"
   ]
  },
  {
   "cell_type": "code",
   "execution_count": 11,
   "metadata": {
    "collapsed": true
   },
   "outputs": [],
   "source": [
    "# 2. by broadcasting"
   ]
  },
  {
   "cell_type": "code",
   "execution_count": 12,
   "metadata": {},
   "outputs": [
    {
     "data": {
      "text/html": [
       "<div>\n",
       "<table border=\"1\" class=\"dataframe\">\n",
       "  <thead>\n",
       "    <tr style=\"text-align: right;\">\n",
       "      <th></th>\n",
       "      <th>babies</th>\n",
       "      <th>kingdom</th>\n",
       "    </tr>\n",
       "  </thead>\n",
       "  <tbody>\n",
       "    <tr>\n",
       "      <th>0</th>\n",
       "      <td>579</td>\n",
       "      <td>targaryen</td>\n",
       "    </tr>\n",
       "    <tr>\n",
       "      <th>1</th>\n",
       "      <td>973</td>\n",
       "      <td>stark</td>\n",
       "    </tr>\n",
       "  </tbody>\n",
       "</table>\n",
       "</div>"
      ],
      "text/plain": [
       "   babies    kingdom\n",
       "0     579  targaryen\n",
       "1     973      stark"
      ]
     },
     "execution_count": 12,
     "metadata": {},
     "output_type": "execute_result"
    }
   ],
   "source": [
    "data = {'kingdom':list_values[0], 'babies':list_values[1]}\n",
    "df_dict = pd.DataFrame(data)\n",
    "df_dict"
   ]
  },
  {
   "cell_type": "markdown",
   "metadata": {},
   "source": [
    "------------------\n",
    "## Importing & Exporting"
   ]
  },
  {
   "cell_type": "markdown",
   "metadata": {},
   "source": [
    "#### 데이터가 깔끔하지 않은 파일에서 데이터 가져오기"
   ]
  },
  {
   "cell_type": "code",
   "execution_count": 13,
   "metadata": {},
   "outputs": [],
   "source": [
    "# df1 = pd.read_csv(file_messy, header=0, names=new_col_names)\n",
    "# df2 = pd.read_csv(file_messy, delimiter=' ', header=3, comment='#')"
   ]
  },
  {
   "cell_type": "markdown",
   "metadata": {},
   "source": [
    "#### 데이터 저장하기"
   ]
  },
  {
   "cell_type": "code",
   "execution_count": 14,
   "metadata": {},
   "outputs": [],
   "source": [
    "# df2.to_csv(file_clean, index=False)              # Save the DataFrame to a CSV file without the index\n",
    "# df2.to_excel('file_clean.xlsx', index=False)   # Save the DataFrame to an excel file without the index"
   ]
  },
  {
   "cell_type": "markdown",
   "metadata": {},
   "source": [
    "---------------\n",
    "## Ploting with pandas"
   ]
  },
  {
   "cell_type": "code",
   "execution_count": 15,
   "metadata": {},
   "outputs": [
    {
     "data": {
      "text/html": [
       "<div>\n",
       "<table border=\"1\" class=\"dataframe\">\n",
       "  <thead>\n",
       "    <tr style=\"text-align: right;\">\n",
       "      <th></th>\n",
       "      <th>CountryName</th>\n",
       "      <th>CountryCode</th>\n",
       "      <th>Year</th>\n",
       "      <th>TotalPop</th>\n",
       "      <th>UrbanPopRatio</th>\n",
       "    </tr>\n",
       "  </thead>\n",
       "  <tbody>\n",
       "    <tr>\n",
       "      <th>0</th>\n",
       "      <td>Afghanistan</td>\n",
       "      <td>AFG</td>\n",
       "      <td>1960</td>\n",
       "      <td>8990000.0</td>\n",
       "      <td>8.22</td>\n",
       "    </tr>\n",
       "    <tr>\n",
       "      <th>1</th>\n",
       "      <td>Afghanistan</td>\n",
       "      <td>AFG</td>\n",
       "      <td>1961</td>\n",
       "      <td>9160000.0</td>\n",
       "      <td>8.51</td>\n",
       "    </tr>\n",
       "    <tr>\n",
       "      <th>2</th>\n",
       "      <td>Afghanistan</td>\n",
       "      <td>AFG</td>\n",
       "      <td>1962</td>\n",
       "      <td>9340000.0</td>\n",
       "      <td>8.81</td>\n",
       "    </tr>\n",
       "    <tr>\n",
       "      <th>3</th>\n",
       "      <td>Afghanistan</td>\n",
       "      <td>AFG</td>\n",
       "      <td>1963</td>\n",
       "      <td>9530000.0</td>\n",
       "      <td>9.11</td>\n",
       "    </tr>\n",
       "    <tr>\n",
       "      <th>4</th>\n",
       "      <td>Afghanistan</td>\n",
       "      <td>AFG</td>\n",
       "      <td>1964</td>\n",
       "      <td>9730000.0</td>\n",
       "      <td>9.43</td>\n",
       "    </tr>\n",
       "  </tbody>\n",
       "</table>\n",
       "</div>"
      ],
      "text/plain": [
       "   CountryName CountryCode  Year   TotalPop  UrbanPopRatio\n",
       "0  Afghanistan         AFG  1960  8990000.0           8.22\n",
       "1  Afghanistan         AFG  1961  9160000.0           8.51\n",
       "2  Afghanistan         AFG  1962  9340000.0           8.81\n",
       "3  Afghanistan         AFG  1963  9530000.0           9.11\n",
       "4  Afghanistan         AFG  1964  9730000.0           9.43"
      ]
     },
     "execution_count": 15,
     "metadata": {},
     "output_type": "execute_result"
    }
   ],
   "source": [
    "df_pop = pd.read_csv('data/ind_pop_data.csv')\n",
    "df_pop.head()"
   ]
  },
  {
   "cell_type": "code",
   "execution_count": 16,
   "metadata": {
    "collapsed": true
   },
   "outputs": [],
   "source": [
    "# example 1"
   ]
  },
  {
   "cell_type": "code",
   "execution_count": 17,
   "metadata": {},
   "outputs": [
    {
     "data": {
      "text/html": [
       "<div>\n",
       "<table border=\"1\" class=\"dataframe\">\n",
       "  <thead>\n",
       "    <tr style=\"text-align: right;\">\n",
       "      <th></th>\n",
       "      <th>TotalPop</th>\n",
       "      <th>UrbanPopRatio</th>\n",
       "    </tr>\n",
       "  </thead>\n",
       "  <tbody>\n",
       "    <tr>\n",
       "      <th>2240</th>\n",
       "      <td>91.4</td>\n",
       "      <td>44.5</td>\n",
       "    </tr>\n",
       "    <tr>\n",
       "      <th>2241</th>\n",
       "      <td>92.2</td>\n",
       "      <td>45.2</td>\n",
       "    </tr>\n",
       "    <tr>\n",
       "      <th>2242</th>\n",
       "      <td>93.0</td>\n",
       "      <td>45.9</td>\n",
       "    </tr>\n",
       "    <tr>\n",
       "      <th>2243</th>\n",
       "      <td>93.8</td>\n",
       "      <td>46.5</td>\n",
       "    </tr>\n",
       "    <tr>\n",
       "      <th>2244</th>\n",
       "      <td>94.7</td>\n",
       "      <td>47.2</td>\n",
       "    </tr>\n",
       "  </tbody>\n",
       "</table>\n",
       "</div>"
      ],
      "text/plain": [
       "      TotalPop  UrbanPopRatio\n",
       "2240      91.4           44.5\n",
       "2241      92.2           45.2\n",
       "2242      93.0           45.9\n",
       "2243      93.8           46.5\n",
       "2244      94.7           47.2"
      ]
     },
     "execution_count": 17,
     "metadata": {},
     "output_type": "execute_result"
    }
   ],
   "source": [
    "df_c = df_pop[df_pop['CountryCode'] == 'CEB'].loc[:,['TotalPop','UrbanPopRatio']]\n",
    "df_c.TotalPop = df_c.TotalPop / 1000000\n",
    "df_c.head()"
   ]
  },
  {
   "cell_type": "code",
   "execution_count": 18,
   "metadata": {},
   "outputs": [
    {
     "data": {
      "text/plain": [
       "<matplotlib.axes._subplots.AxesSubplot at 0x10d612198>"
      ]
     },
     "execution_count": 18,
     "metadata": {},
     "output_type": "execute_result"
    },
    {
     "data": {
      "image/png": "[encoded data removed]",
      "text/plain": [
       "<matplotlib.figure.Figure at 0x10d612630>"
      ]
     },
     "metadata": {},
     "output_type": "display_data"
    }
   ],
   "source": [
    "df_c.plot()"
   ]
  },
  {
   "cell_type": "code",
   "execution_count": 19,
   "metadata": {
    "collapsed": true
   },
   "outputs": [],
   "source": [
    "# example 2"
   ]
  },
  {
   "cell_type": "code",
   "execution_count": 20,
   "metadata": {},
   "outputs": [
    {
     "data": {
      "text/html": [
       "<div>\n",
       "<table border=\"1\" class=\"dataframe\">\n",
       "  <thead>\n",
       "    <tr style=\"text-align: right;\">\n",
       "      <th></th>\n",
       "      <th>Year</th>\n",
       "      <th>TotalPop</th>\n",
       "      <th>UrbanPopRatio</th>\n",
       "    </tr>\n",
       "  </thead>\n",
       "  <tbody>\n",
       "    <tr>\n",
       "      <th>6884</th>\n",
       "      <td>1960</td>\n",
       "      <td>25.0</td>\n",
       "      <td>27.7</td>\n",
       "    </tr>\n",
       "    <tr>\n",
       "      <th>6885</th>\n",
       "      <td>1961</td>\n",
       "      <td>25.8</td>\n",
       "      <td>28.5</td>\n",
       "    </tr>\n",
       "    <tr>\n",
       "      <th>6886</th>\n",
       "      <td>1962</td>\n",
       "      <td>26.5</td>\n",
       "      <td>29.5</td>\n",
       "    </tr>\n",
       "    <tr>\n",
       "      <th>6887</th>\n",
       "      <td>1963</td>\n",
       "      <td>27.3</td>\n",
       "      <td>30.4</td>\n",
       "    </tr>\n",
       "    <tr>\n",
       "      <th>6888</th>\n",
       "      <td>1964</td>\n",
       "      <td>28.0</td>\n",
       "      <td>31.4</td>\n",
       "    </tr>\n",
       "  </tbody>\n",
       "</table>\n",
       "</div>"
      ],
      "text/plain": [
       "      Year  TotalPop  UrbanPopRatio\n",
       "6884  1960      25.0           27.7\n",
       "6885  1961      25.8           28.5\n",
       "6886  1962      26.5           29.5\n",
       "6887  1963      27.3           30.4\n",
       "6888  1964      28.0           31.4"
      ]
     },
     "execution_count": 20,
     "metadata": {},
     "output_type": "execute_result"
    }
   ],
   "source": [
    "df_k = df_pop[df_pop['CountryCode'] == 'KOR'].loc[:,['Year','TotalPop','UrbanPopRatio']]\n",
    "df_k.TotalPop = df_k.TotalPop / 1000000\n",
    "df_k.head()"
   ]
  },
  {
   "cell_type": "code",
   "execution_count": 21,
   "metadata": {},
   "outputs": [
    {
     "data": {
      "text/plain": [
       "<matplotlib.text.Text at 0x111580320>"
      ]
     },
     "execution_count": 21,
     "metadata": {},
     "output_type": "execute_result"
    },
    {
     "data": {
      "image/png": "[encoded data removed]",
      "text/plain": [
       "<matplotlib.figure.Figure at 0x1115283c8>"
      ]
     },
     "metadata": {},
     "output_type": "display_data"
    }
   ],
   "source": [
    "plt.scatter(df_k['Year'], df_k['TotalPop'])\n",
    "plt.scatter(df_k['Year'], df_k['UrbanPopRatio'])\n",
    "plt.legend()\n",
    "plt.title('Increase population in Korea')\n",
    "plt.xlabel('Year')"
   ]
  },
  {
   "cell_type": "code",
   "execution_count": 22,
   "metadata": {
    "collapsed": true
   },
   "outputs": [],
   "source": [
    "# example 3"
   ]
  },
  {
   "cell_type": "code",
   "execution_count": 23,
   "metadata": {},
   "outputs": [
    {
     "data": {
      "text/html": [
       "<div>\n",
       "<table border=\"1\" class=\"dataframe\">\n",
       "  <thead>\n",
       "    <tr style=\"text-align: right;\">\n",
       "      <th></th>\n",
       "      <th>Year</th>\n",
       "      <th>KOR</th>\n",
       "      <th>CEB</th>\n",
       "    </tr>\n",
       "  </thead>\n",
       "  <tbody>\n",
       "    <tr>\n",
       "      <th>0</th>\n",
       "      <td>1960</td>\n",
       "      <td>27.7</td>\n",
       "      <td>44.5</td>\n",
       "    </tr>\n",
       "    <tr>\n",
       "      <th>1</th>\n",
       "      <td>1961</td>\n",
       "      <td>28.5</td>\n",
       "      <td>45.2</td>\n",
       "    </tr>\n",
       "    <tr>\n",
       "      <th>2</th>\n",
       "      <td>1962</td>\n",
       "      <td>29.5</td>\n",
       "      <td>45.9</td>\n",
       "    </tr>\n",
       "    <tr>\n",
       "      <th>3</th>\n",
       "      <td>1963</td>\n",
       "      <td>30.4</td>\n",
       "      <td>46.5</td>\n",
       "    </tr>\n",
       "    <tr>\n",
       "      <th>4</th>\n",
       "      <td>1964</td>\n",
       "      <td>31.4</td>\n",
       "      <td>47.2</td>\n",
       "    </tr>\n",
       "  </tbody>\n",
       "</table>\n",
       "</div>"
      ],
      "text/plain": [
       "   Year   KOR   CEB\n",
       "0  1960  27.7  44.5\n",
       "1  1961  28.5  45.2\n",
       "2  1962  29.5  45.9\n",
       "3  1963  30.4  46.5\n",
       "4  1964  31.4  47.2"
      ]
     },
     "execution_count": 23,
     "metadata": {},
     "output_type": "execute_result"
    }
   ],
   "source": [
    "year_s = pd.Series(list(df_k['Year']))\n",
    "kor_s = pd.Series(list(df_k['UrbanPopRatio']))\n",
    "ceb_s = pd.Series(list(df_c['UrbanPopRatio']))\n",
    "\n",
    "df_new = pd.DataFrame()\n",
    "df_new['Year'] = year_s\n",
    "df_new['KOR'] = kor_s\n",
    "df_new['CEB'] = ceb_s\n",
    "\n",
    "df_new.head()"
   ]
  },
  {
   "cell_type": "code",
   "execution_count": 24,
   "metadata": {},
   "outputs": [
    {
     "data": {
      "text/plain": [
       "<matplotlib.axes._subplots.AxesSubplot at 0x111583eb8>"
      ]
     },
     "execution_count": 24,
     "metadata": {},
     "output_type": "execute_result"
    },
    {
     "data": {
      "image/png": "[encoded data removed]",
      "text/plain": [
       "<matplotlib.figure.Figure at 0x11159c048>"
      ]
     },
     "metadata": {},
     "output_type": "display_data"
    }
   ],
   "source": [
    "df_new.plot(x='Year', y=['KOR','CEB'])"
   ]
  },
  {
   "cell_type": "markdown",
   "metadata": {},
   "source": [
    "### boxplot"
   ]
  },
  {
   "cell_type": "code",
   "execution_count": 25,
   "metadata": {},
   "outputs": [
    {
     "data": {
      "text/html": [
       "<div>\n",
       "<table border=\"1\" class=\"dataframe\">\n",
       "  <thead>\n",
       "    <tr style=\"text-align: right;\">\n",
       "      <th></th>\n",
       "      <th>KOR</th>\n",
       "      <th>CEB</th>\n",
       "    </tr>\n",
       "  </thead>\n",
       "  <tbody>\n",
       "    <tr>\n",
       "      <th>0</th>\n",
       "      <td>25.0</td>\n",
       "      <td>91.4</td>\n",
       "    </tr>\n",
       "    <tr>\n",
       "      <th>1</th>\n",
       "      <td>25.8</td>\n",
       "      <td>92.2</td>\n",
       "    </tr>\n",
       "    <tr>\n",
       "      <th>2</th>\n",
       "      <td>26.5</td>\n",
       "      <td>93.0</td>\n",
       "    </tr>\n",
       "    <tr>\n",
       "      <th>3</th>\n",
       "      <td>27.3</td>\n",
       "      <td>93.8</td>\n",
       "    </tr>\n",
       "    <tr>\n",
       "      <th>4</th>\n",
       "      <td>28.0</td>\n",
       "      <td>94.7</td>\n",
       "    </tr>\n",
       "  </tbody>\n",
       "</table>\n",
       "</div>"
      ],
      "text/plain": [
       "    KOR   CEB\n",
       "0  25.0  91.4\n",
       "1  25.8  92.2\n",
       "2  26.5  93.0\n",
       "3  27.3  93.8\n",
       "4  28.0  94.7"
      ]
     },
     "execution_count": 25,
     "metadata": {},
     "output_type": "execute_result"
    }
   ],
   "source": [
    "kor_s = pd.Series(list(df_k['TotalPop']))\n",
    "ceb_s = pd.Series(list(df_c['TotalPop']))\n",
    "\n",
    "df_new = pd.DataFrame()\n",
    "df_new['KOR'] = kor_s\n",
    "df_new['CEB'] = ceb_s\n",
    "\n",
    "df_new.head()"
   ]
  },
  {
   "cell_type": "code",
   "execution_count": 26,
   "metadata": {},
   "outputs": [
    {
     "data": {
      "text/plain": [
       "<matplotlib.axes._subplots.AxesSubplot at 0x111624198>"
      ]
     },
     "execution_count": 26,
     "metadata": {},
     "output_type": "execute_result"
    },
    {
     "data": {
      "image/png": "[encoded data removed]",
      "text/plain": [
       "<matplotlib.figure.Figure at 0x11166f438>"
      ]
     },
     "metadata": {},
     "output_type": "display_data"
    }
   ],
   "source": [
    "cols = ['KOR', 'CEB']\n",
    "df_new[cols].plot(kind='box')"
   ]
  },
  {
   "cell_type": "code",
   "execution_count": 27,
   "metadata": {},
   "outputs": [
    {
     "data": {
      "text/plain": [
       "KOR       Axes(0.125,0.125;0.352273x0.755)\n",
       "CEB    Axes(0.547727,0.125;0.352273x0.755)\n",
       "dtype: object"
      ]
     },
     "execution_count": 27,
     "metadata": {},
     "output_type": "execute_result"
    },
    {
     "data": {
      "image/png": "[encoded data removed]",
      "text/plain": [
       "<matplotlib.figure.Figure at 0x1116888d0>"
      ]
     },
     "metadata": {},
     "output_type": "display_data"
    }
   ],
   "source": [
    "cols = ['KOR', 'CEB']\n",
    "df_new[cols].plot(kind='box', subplots=True)   # Generate the box plots"
   ]
  },
  {
   "cell_type": "markdown",
   "metadata": {},
   "source": [
    "### histogram"
   ]
  },
  {
   "cell_type": "markdown",
   "metadata": {},
   "source": [
    "* histogram, scatter plot  -- [pandas04.ipynb](https://github.com/woosa7/Python_DataAnalysis/blob/master/pandas/pandas04.ipynb) 참조"
   ]
  },
  {
   "cell_type": "code",
   "execution_count": 28,
   "metadata": {},
   "outputs": [
    {
     "data": {
      "text/html": [
       "<div>\n",
       "<table border=\"1\" class=\"dataframe\">\n",
       "  <thead>\n",
       "    <tr style=\"text-align: right;\">\n",
       "      <th></th>\n",
       "      <th>gdp_cap</th>\n",
       "      <th>life_exp</th>\n",
       "      <th>popul</th>\n",
       "    </tr>\n",
       "  </thead>\n",
       "  <tbody>\n",
       "    <tr>\n",
       "      <th>0</th>\n",
       "      <td>974.58</td>\n",
       "      <td>43.82</td>\n",
       "      <td>31.88</td>\n",
       "    </tr>\n",
       "    <tr>\n",
       "      <th>1</th>\n",
       "      <td>5937.02</td>\n",
       "      <td>76.42</td>\n",
       "      <td>3.60</td>\n",
       "    </tr>\n",
       "    <tr>\n",
       "      <th>2</th>\n",
       "      <td>6223.36</td>\n",
       "      <td>72.30</td>\n",
       "      <td>33.33</td>\n",
       "    </tr>\n",
       "    <tr>\n",
       "      <th>3</th>\n",
       "      <td>4797.23</td>\n",
       "      <td>42.73</td>\n",
       "      <td>12.42</td>\n",
       "    </tr>\n",
       "    <tr>\n",
       "      <th>4</th>\n",
       "      <td>12779.37</td>\n",
       "      <td>75.31</td>\n",
       "      <td>40.30</td>\n",
       "    </tr>\n",
       "  </tbody>\n",
       "</table>\n",
       "</div>"
      ],
      "text/plain": [
       "    gdp_cap  life_exp  popul\n",
       "0    974.58     43.82  31.88\n",
       "1   5937.02     76.42   3.60\n",
       "2   6223.36     72.30  33.33\n",
       "3   4797.23     42.73  12.42\n",
       "4  12779.37     75.31  40.30"
      ]
     },
     "execution_count": 28,
     "metadata": {},
     "output_type": "execute_result"
    }
   ],
   "source": [
    "df = pd.read_csv('data/worldreport.csv', index_col=0)\n",
    "df.head()"
   ]
  },
  {
   "cell_type": "code",
   "execution_count": 29,
   "metadata": {},
   "outputs": [
    {
     "data": {
      "text/html": [
       "<div>\n",
       "<table border=\"1\" class=\"dataframe\">\n",
       "  <thead>\n",
       "    <tr style=\"text-align: right;\">\n",
       "      <th></th>\n",
       "      <th>gdp_cap</th>\n",
       "      <th>life_exp</th>\n",
       "      <th>popul</th>\n",
       "    </tr>\n",
       "  </thead>\n",
       "  <tbody>\n",
       "    <tr>\n",
       "      <th>count</th>\n",
       "      <td>142.000000</td>\n",
       "      <td>142.000000</td>\n",
       "      <td>142.000000</td>\n",
       "    </tr>\n",
       "    <tr>\n",
       "      <th>mean</th>\n",
       "      <td>11680.066831</td>\n",
       "      <td>67.002908</td>\n",
       "      <td>44.016514</td>\n",
       "    </tr>\n",
       "    <tr>\n",
       "      <th>std</th>\n",
       "      <td>12859.936734</td>\n",
       "      <td>12.073475</td>\n",
       "      <td>147.621369</td>\n",
       "    </tr>\n",
       "    <tr>\n",
       "      <th>min</th>\n",
       "      <td>277.550000</td>\n",
       "      <td>39.610000</td>\n",
       "      <td>0.190000</td>\n",
       "    </tr>\n",
       "    <tr>\n",
       "      <th>25%</th>\n",
       "      <td>1624.837500</td>\n",
       "      <td>57.152500</td>\n",
       "      <td>4.505000</td>\n",
       "    </tr>\n",
       "    <tr>\n",
       "      <th>50%</th>\n",
       "      <td>6124.365000</td>\n",
       "      <td>71.934000</td>\n",
       "      <td>10.515000</td>\n",
       "    </tr>\n",
       "    <tr>\n",
       "      <th>75%</th>\n",
       "      <td>18008.830000</td>\n",
       "      <td>76.411000</td>\n",
       "      <td>31.202500</td>\n",
       "    </tr>\n",
       "    <tr>\n",
       "      <th>max</th>\n",
       "      <td>49357.190000</td>\n",
       "      <td>82.600000</td>\n",
       "      <td>1318.680000</td>\n",
       "    </tr>\n",
       "  </tbody>\n",
       "</table>\n",
       "</div>"
      ],
      "text/plain": [
       "            gdp_cap    life_exp        popul\n",
       "count    142.000000  142.000000   142.000000\n",
       "mean   11680.066831   67.002908    44.016514\n",
       "std    12859.936734   12.073475   147.621369\n",
       "min      277.550000   39.610000     0.190000\n",
       "25%     1624.837500   57.152500     4.505000\n",
       "50%     6124.365000   71.934000    10.515000\n",
       "75%    18008.830000   76.411000    31.202500\n",
       "max    49357.190000   82.600000  1318.680000"
      ]
     },
     "execution_count": 29,
     "metadata": {},
     "output_type": "execute_result"
    }
   ],
   "source": [
    "df.describe()"
   ]
  },
  {
   "cell_type": "code",
   "execution_count": 30,
   "metadata": {},
   "outputs": [
    {
     "data": {
      "text/plain": [
       "<matplotlib.axes._subplots.AxesSubplot at 0x111ab67b8>"
      ]
     },
     "execution_count": 30,
     "metadata": {},
     "output_type": "execute_result"
    },
    {
     "data": {
      "image/png": "[encoded data removed]",
      "text/plain": [
       "<matplotlib.figure.Figure at 0x111abc128>"
      ]
     },
     "metadata": {},
     "output_type": "display_data"
    }
   ],
   "source": [
    "df['life_exp'].plot(kind='hist', normed=True, bins=30)"
   ]
  },
  {
   "cell_type": "code",
   "execution_count": 31,
   "metadata": {},
   "outputs": [
    {
     "data": {
      "text/plain": [
       "<matplotlib.axes._subplots.AxesSubplot at 0x111ca2400>"
      ]
     },
     "execution_count": 31,
     "metadata": {},
     "output_type": "execute_result"
    },
    {
     "data": {
      "image/png": "[encoded data removed]",
      "text/plain": [
       "<matplotlib.figure.Figure at 0x111cb0320>"
      ]
     },
     "metadata": {},
     "output_type": "display_data"
    }
   ],
   "source": [
    "# 누적 히스토그램\n",
    "df['life_exp'].plot(kind='hist', normed=True, cumulative=True, bins=30, range=(35,95))"
   ]
  },
  {
   "cell_type": "markdown",
   "metadata": {},
   "source": [
    "### boxplot"
   ]
  },
  {
   "cell_type": "code",
   "execution_count": 32,
   "metadata": {},
   "outputs": [
    {
     "data": {
      "text/plain": [
       "<matplotlib.axes._subplots.AxesSubplot at 0x111e37fd0>"
      ]
     },
     "execution_count": 32,
     "metadata": {},
     "output_type": "execute_result"
    },
    {
     "data": {
      "image/png": "[encoded data removed]",
      "text/plain": [
       "<matplotlib.figure.Figure at 0x111e7aa58>"
      ]
     },
     "metadata": {},
     "output_type": "display_data"
    }
   ],
   "source": [
    "df['life_exp'].plot(kind='box', figsize=(6,6))"
   ]
  },
  {
   "cell_type": "code",
   "execution_count": 33,
   "metadata": {
    "collapsed": true
   },
   "outputs": [],
   "source": [
    "# subplot 분리"
   ]
  },
  {
   "cell_type": "code",
   "execution_count": 34,
   "metadata": {},
   "outputs": [
    {
     "data": {
      "text/plain": [
       "<matplotlib.axes._subplots.AxesSubplot at 0x1123d0c50>"
      ]
     },
     "execution_count": 34,
     "metadata": {},
     "output_type": "execute_result"
    },
    {
     "data": {
      "image/png": "[encoded data removed]",
      "text/plain": [
       "<matplotlib.figure.Figure at 0x111ea9518>"
      ]
     },
     "metadata": {},
     "output_type": "display_data"
    }
   ],
   "source": [
    "fig, axes = plt.subplots(nrows=1, ncols=3)\n",
    "df_pop.loc[df_pop['Year'] == 1960].plot(ax=axes[0], y='UrbanPopRatio', kind='box', label='UrbanPopRatio 1960')\n",
    "df_pop.loc[df_pop['Year'] == 1970].plot(ax=axes[1], y='UrbanPopRatio', kind='box', label='UrbanPopRatio 1970')\n",
    "df_pop.loc[df_pop['Year'] == 1980].plot(ax=axes[2], y='UrbanPopRatio', kind='box', label='UrbanPopRatio 1980')"
   ]
  },
  {
   "cell_type": "markdown",
   "metadata": {
    "collapsed": true
   },
   "source": [
    "-------------\n",
    "# Time Series"
   ]
  },
  {
   "cell_type": "markdown",
   "metadata": {},
   "source": [
    "[pandas03.ipynb](https://github.com/woosa7/Python_DataAnalysis/blob/master/pandas/pandas03.ipynb) 참조"
   ]
  },
  {
   "cell_type": "code",
   "execution_count": 35,
   "metadata": {
    "collapsed": true
   },
   "outputs": [],
   "source": [
    "# df = pd.read_csv(filename, index_col='Date', parse_dates=True)"
   ]
  },
  {
   "cell_type": "code",
   "execution_count": 36,
   "metadata": {},
   "outputs": [
    {
     "data": {
      "text/html": [
       "<div>\n",
       "<table border=\"1\" class=\"dataframe\">\n",
       "  <thead>\n",
       "    <tr style=\"text-align: right;\">\n",
       "      <th></th>\n",
       "      <th>PRODUCT_ID</th>\n",
       "      <th>AIR_DATE</th>\n",
       "      <th>PRODUCT_AIRTIME_MINS</th>\n",
       "      <th>PRODUCT_START_TMS</th>\n",
       "      <th>PRODUCT_STOP_TMS</th>\n",
       "    </tr>\n",
       "  </thead>\n",
       "  <tbody>\n",
       "    <tr>\n",
       "      <th>0</th>\n",
       "      <td>2186</td>\n",
       "      <td>2012-10-16 0:00</td>\n",
       "      <td>0.38</td>\n",
       "      <td>2012-10-16 0:43</td>\n",
       "      <td>2012-10-16 0:44</td>\n",
       "    </tr>\n",
       "    <tr>\n",
       "      <th>1</th>\n",
       "      <td>2186</td>\n",
       "      <td>2012-10-16 0:00</td>\n",
       "      <td>5.08</td>\n",
       "      <td>2012-10-16 0:48</td>\n",
       "      <td>2012-10-16 0:53</td>\n",
       "    </tr>\n",
       "    <tr>\n",
       "      <th>2</th>\n",
       "      <td>2478</td>\n",
       "      <td>2012-10-16 0:00</td>\n",
       "      <td>0.50</td>\n",
       "      <td>2012-10-16 0:25</td>\n",
       "      <td>2012-10-16 0:26</td>\n",
       "    </tr>\n",
       "    <tr>\n",
       "      <th>3</th>\n",
       "      <td>2478</td>\n",
       "      <td>2012-10-16 0:00</td>\n",
       "      <td>12.53</td>\n",
       "      <td>2012-10-16 0:31</td>\n",
       "      <td>2012-10-16 0:43</td>\n",
       "    </tr>\n",
       "    <tr>\n",
       "      <th>4</th>\n",
       "      <td>6283</td>\n",
       "      <td>2012-10-16 0:00</td>\n",
       "      <td>0.43</td>\n",
       "      <td>2012-10-16 0:47</td>\n",
       "      <td>2012-10-16 0:48</td>\n",
       "    </tr>\n",
       "  </tbody>\n",
       "</table>\n",
       "</div>"
      ],
      "text/plain": [
       "   PRODUCT_ID         AIR_DATE  PRODUCT_AIRTIME_MINS PRODUCT_START_TMS  \\\n",
       "0        2186  2012-10-16 0:00                  0.38   2012-10-16 0:43   \n",
       "1        2186  2012-10-16 0:00                  5.08   2012-10-16 0:48   \n",
       "2        2478  2012-10-16 0:00                  0.50   2012-10-16 0:25   \n",
       "3        2478  2012-10-16 0:00                 12.53   2012-10-16 0:31   \n",
       "4        6283  2012-10-16 0:00                  0.43   2012-10-16 0:47   \n",
       "\n",
       "  PRODUCT_STOP_TMS  \n",
       "0  2012-10-16 0:44  \n",
       "1  2012-10-16 0:53  \n",
       "2  2012-10-16 0:26  \n",
       "3  2012-10-16 0:43  \n",
       "4  2012-10-16 0:48  "
      ]
     },
     "execution_count": 36,
     "metadata": {},
     "output_type": "execute_result"
    }
   ],
   "source": [
    "df_time = pd.read_csv('data/Product_airtime.csv')\n",
    "df_time.head()"
   ]
  },
  {
   "cell_type": "code",
   "execution_count": 37,
   "metadata": {},
   "outputs": [
    {
     "data": {
      "text/plain": [
       "0    2012-10-16 0:43\n",
       "1    2012-10-16 0:48\n",
       "2    2012-10-16 0:25\n",
       "3    2012-10-16 0:31\n",
       "4    2012-10-16 0:47\n",
       "5    2012-10-16 0:53\n",
       "6    2012-10-16 0:00\n",
       "7    2012-10-16 0:53\n",
       "8    2012-10-16 0:59\n",
       "9    2012-10-16 0:19\n",
       "Name: PRODUCT_START_TMS, dtype: object"
      ]
     },
     "execution_count": 37,
     "metadata": {},
     "output_type": "execute_result"
    }
   ],
   "source": [
    "date_list = df_time['PRODUCT_START_TMS']\n",
    "date_list[0:10]"
   ]
  },
  {
   "cell_type": "code",
   "execution_count": 38,
   "metadata": {},
   "outputs": [
    {
     "data": {
      "text/plain": [
       "0   2012-10-16 00:43:00\n",
       "1   2012-10-16 00:48:00\n",
       "2   2012-10-16 00:25:00\n",
       "3   2012-10-16 00:31:00\n",
       "4   2012-10-16 00:47:00\n",
       "5   2012-10-16 00:53:00\n",
       "6   2012-10-16 00:00:00\n",
       "7   2012-10-16 00:53:00\n",
       "8   2012-10-16 00:59:00\n",
       "9   2012-10-16 00:19:00\n",
       "Name: PRODUCT_START_TMS, dtype: datetime64[ns]"
      ]
     },
     "execution_count": 38,
     "metadata": {},
     "output_type": "execute_result"
    }
   ],
   "source": [
    "# Convert date_list into a datetime object\n",
    "time_format = '%Y-%m-%d %H:%M'\n",
    "my_datetimes = pd.to_datetime(date_list, format=time_format)\n",
    "my_datetimes[0:10]"
   ]
  },
  {
   "cell_type": "code",
   "execution_count": 39,
   "metadata": {},
   "outputs": [
    {
     "data": {
      "text/html": [
       "<div>\n",
       "<table border=\"1\" class=\"dataframe\">\n",
       "  <thead>\n",
       "    <tr style=\"text-align: right;\">\n",
       "      <th></th>\n",
       "      <th>PRODUCT_ID</th>\n",
       "      <th>AIR_DATE</th>\n",
       "      <th>PRODUCT_AIRTIME_MINS</th>\n",
       "      <th>PRODUCT_STOP_TMS</th>\n",
       "    </tr>\n",
       "    <tr>\n",
       "      <th>PRODUCT_START_TMS</th>\n",
       "      <th></th>\n",
       "      <th></th>\n",
       "      <th></th>\n",
       "      <th></th>\n",
       "    </tr>\n",
       "  </thead>\n",
       "  <tbody>\n",
       "    <tr>\n",
       "      <th>2012-10-16 00:43:00</th>\n",
       "      <td>2186</td>\n",
       "      <td>2012-10-16 0:00</td>\n",
       "      <td>0.38</td>\n",
       "      <td>2012-10-16 0:44</td>\n",
       "    </tr>\n",
       "    <tr>\n",
       "      <th>2012-10-16 00:48:00</th>\n",
       "      <td>2186</td>\n",
       "      <td>2012-10-16 0:00</td>\n",
       "      <td>5.08</td>\n",
       "      <td>2012-10-16 0:53</td>\n",
       "    </tr>\n",
       "    <tr>\n",
       "      <th>2012-10-16 00:25:00</th>\n",
       "      <td>2478</td>\n",
       "      <td>2012-10-16 0:00</td>\n",
       "      <td>0.50</td>\n",
       "      <td>2012-10-16 0:26</td>\n",
       "    </tr>\n",
       "    <tr>\n",
       "      <th>2012-10-16 00:31:00</th>\n",
       "      <td>2478</td>\n",
       "      <td>2012-10-16 0:00</td>\n",
       "      <td>12.53</td>\n",
       "      <td>2012-10-16 0:43</td>\n",
       "    </tr>\n",
       "    <tr>\n",
       "      <th>2012-10-16 00:47:00</th>\n",
       "      <td>6283</td>\n",
       "      <td>2012-10-16 0:00</td>\n",
       "      <td>0.43</td>\n",
       "      <td>2012-10-16 0:48</td>\n",
       "    </tr>\n",
       "  </tbody>\n",
       "</table>\n",
       "</div>"
      ],
      "text/plain": [
       "                     PRODUCT_ID         AIR_DATE  PRODUCT_AIRTIME_MINS  \\\n",
       "PRODUCT_START_TMS                                                        \n",
       "2012-10-16 00:43:00        2186  2012-10-16 0:00                  0.38   \n",
       "2012-10-16 00:48:00        2186  2012-10-16 0:00                  5.08   \n",
       "2012-10-16 00:25:00        2478  2012-10-16 0:00                  0.50   \n",
       "2012-10-16 00:31:00        2478  2012-10-16 0:00                 12.53   \n",
       "2012-10-16 00:47:00        6283  2012-10-16 0:00                  0.43   \n",
       "\n",
       "                    PRODUCT_STOP_TMS  \n",
       "PRODUCT_START_TMS                     \n",
       "2012-10-16 00:43:00  2012-10-16 0:44  \n",
       "2012-10-16 00:48:00  2012-10-16 0:53  \n",
       "2012-10-16 00:25:00  2012-10-16 0:26  \n",
       "2012-10-16 00:31:00  2012-10-16 0:43  \n",
       "2012-10-16 00:47:00  2012-10-16 0:48  "
      ]
     },
     "execution_count": 39,
     "metadata": {},
     "output_type": "execute_result"
    }
   ],
   "source": [
    "df_time = pd.read_csv('data/Product_airtime.csv', index_col='PRODUCT_START_TMS', parse_dates=True)\n",
    "df_time.head()"
   ]
  },
  {
   "cell_type": "markdown",
   "metadata": {},
   "source": [
    "### TimeSeries 생성"
   ]
  },
  {
   "cell_type": "code",
   "execution_count": 40,
   "metadata": {},
   "outputs": [
    {
     "data": {
      "text/plain": [
       "2017-03-01    0\n",
       "2017-03-02    1\n",
       "2017-03-03    2\n",
       "2017-03-04    3\n",
       "2017-03-05    4\n",
       "2017-03-06    5\n",
       "2017-03-07    6\n",
       "2017-03-08    7\n",
       "2017-03-09    8\n",
       "2017-03-10    9\n",
       "Freq: D, dtype: int64"
      ]
     },
     "execution_count": 40,
     "metadata": {},
     "output_type": "execute_result"
    }
   ],
   "source": [
    "dateRange = pd.date_range('2017/03/01', periods=20, freq='D')\n",
    "ts = pd.Series(range(len(dateRange)), index=dateRange)\n",
    "ts[0:10]"
   ]
  },
  {
   "cell_type": "code",
   "execution_count": 41,
   "metadata": {},
   "outputs": [
    {
     "data": {
      "text/plain": [
       "8"
      ]
     },
     "execution_count": 41,
     "metadata": {},
     "output_type": "execute_result"
    }
   ],
   "source": [
    "ts1 = ts.loc['2017-03-09']\n",
    "ts1"
   ]
  },
  {
   "cell_type": "code",
   "execution_count": 42,
   "metadata": {},
   "outputs": [
    {
     "data": {
      "text/plain": [
       "2017-03-05    4\n",
       "2017-03-06    5\n",
       "2017-03-07    6\n",
       "2017-03-08    7\n",
       "2017-03-09    8\n",
       "2017-03-10    9\n",
       "Freq: D, dtype: int64"
      ]
     },
     "execution_count": 42,
     "metadata": {},
     "output_type": "execute_result"
    }
   ],
   "source": [
    "ts2 = ts.loc['2017-03-05':'2017-03-10']\n",
    "ts2"
   ]
  },
  {
   "cell_type": "code",
   "execution_count": 43,
   "metadata": {},
   "outputs": [
    {
     "data": {
      "text/plain": [
       "2017-03-05    12\n",
       "2017-03-06    13\n",
       "2017-03-07    14\n",
       "2017-03-08    15\n",
       "2017-03-09    16\n",
       "2017-03-10    17\n",
       "Freq: D, dtype: int64"
      ]
     },
     "execution_count": 43,
     "metadata": {},
     "output_type": "execute_result"
    }
   ],
   "source": [
    "sum12 = ts1 + ts2\n",
    "sum12"
   ]
  },
  {
   "cell_type": "code",
   "execution_count": 44,
   "metadata": {},
   "outputs": [
    {
     "data": {
      "text/plain": [
       "2017-03-01    NaN\n",
       "2017-03-02    NaN\n",
       "2017-03-03    NaN\n",
       "2017-03-04    NaN\n",
       "2017-03-05    4.0\n",
       "2017-03-06    5.0\n",
       "2017-03-07    6.0\n",
       "2017-03-08    7.0\n",
       "2017-03-09    8.0\n",
       "2017-03-10    9.0\n",
       "2017-03-11    NaN\n",
       "2017-03-12    NaN\n",
       "2017-03-13    NaN\n",
       "2017-03-14    NaN\n",
       "2017-03-15    NaN\n",
       "2017-03-16    NaN\n",
       "2017-03-17    NaN\n",
       "2017-03-18    NaN\n",
       "2017-03-19    NaN\n",
       "2017-03-20    NaN\n",
       "Freq: D, dtype: float64"
      ]
     },
     "execution_count": 44,
     "metadata": {},
     "output_type": "execute_result"
    }
   ],
   "source": [
    "ts3 = ts2.reindex(ts.index)\n",
    "ts3"
   ]
  },
  {
   "cell_type": "code",
   "execution_count": 45,
   "metadata": {},
   "outputs": [
    {
     "data": {
      "text/plain": [
       "2017-03-01    NaN\n",
       "2017-03-02    NaN\n",
       "2017-03-03    NaN\n",
       "2017-03-04    NaN\n",
       "2017-03-05    4.0\n",
       "2017-03-06    5.0\n",
       "2017-03-07    6.0\n",
       "2017-03-08    7.0\n",
       "2017-03-09    8.0\n",
       "2017-03-10    9.0\n",
       "2017-03-11    9.0\n",
       "2017-03-12    9.0\n",
       "2017-03-13    9.0\n",
       "2017-03-14    9.0\n",
       "2017-03-15    9.0\n",
       "2017-03-16    9.0\n",
       "2017-03-17    9.0\n",
       "2017-03-18    9.0\n",
       "2017-03-19    9.0\n",
       "2017-03-20    9.0\n",
       "Freq: D, dtype: float64"
      ]
     },
     "execution_count": 45,
     "metadata": {},
     "output_type": "execute_result"
    }
   ],
   "source": [
    "ts4 = ts2.reindex(ts.index, method='ffill')\n",
    "ts4"
   ]
  },
  {
   "cell_type": "code",
   "execution_count": 46,
   "metadata": {},
   "outputs": [
    {
     "data": {
      "text/plain": [
       "2017-03-01     NaN\n",
       "2017-03-02     NaN\n",
       "2017-03-03     NaN\n",
       "2017-03-04     NaN\n",
       "2017-03-05     8.0\n",
       "2017-03-06    10.0\n",
       "2017-03-07    12.0\n",
       "2017-03-08    14.0\n",
       "2017-03-09    16.0\n",
       "2017-03-10    18.0\n",
       "2017-03-11     NaN\n",
       "2017-03-12     NaN\n",
       "2017-03-13     NaN\n",
       "2017-03-14     NaN\n",
       "2017-03-15     NaN\n",
       "2017-03-16     NaN\n",
       "2017-03-17     NaN\n",
       "2017-03-18     NaN\n",
       "2017-03-19     NaN\n",
       "2017-03-20     NaN\n",
       "Freq: D, dtype: float64"
      ]
     },
     "execution_count": 46,
     "metadata": {},
     "output_type": "execute_result"
    }
   ],
   "source": [
    "sum23 = ts2 + ts3\n",
    "sum23"
   ]
  },
  {
   "cell_type": "markdown",
   "metadata": {},
   "source": [
    "### Time Series Resample"
   ]
  },
  {
   "cell_type": "code",
   "execution_count": 47,
   "metadata": {},
   "outputs": [
    {
     "data": {
      "text/html": [
       "<div>\n",
       "<table border=\"1\" class=\"dataframe\">\n",
       "  <thead>\n",
       "    <tr style=\"text-align: right;\">\n",
       "      <th></th>\n",
       "      <th>PRODUCT_ID</th>\n",
       "      <th>AIR_DATE</th>\n",
       "      <th>PRODUCT_AIRTIME_MINS</th>\n",
       "      <th>PRODUCT_STOP_TMS</th>\n",
       "    </tr>\n",
       "    <tr>\n",
       "      <th>PRODUCT_START_TMS</th>\n",
       "      <th></th>\n",
       "      <th></th>\n",
       "      <th></th>\n",
       "      <th></th>\n",
       "    </tr>\n",
       "  </thead>\n",
       "  <tbody>\n",
       "    <tr>\n",
       "      <th>2012-10-16 00:43:00</th>\n",
       "      <td>2186</td>\n",
       "      <td>2012-10-16 0:00</td>\n",
       "      <td>0.38</td>\n",
       "      <td>2012-10-16 0:44</td>\n",
       "    </tr>\n",
       "    <tr>\n",
       "      <th>2012-10-16 00:48:00</th>\n",
       "      <td>2186</td>\n",
       "      <td>2012-10-16 0:00</td>\n",
       "      <td>5.08</td>\n",
       "      <td>2012-10-16 0:53</td>\n",
       "    </tr>\n",
       "    <tr>\n",
       "      <th>2012-10-16 00:25:00</th>\n",
       "      <td>2478</td>\n",
       "      <td>2012-10-16 0:00</td>\n",
       "      <td>0.50</td>\n",
       "      <td>2012-10-16 0:26</td>\n",
       "    </tr>\n",
       "    <tr>\n",
       "      <th>2012-10-16 00:31:00</th>\n",
       "      <td>2478</td>\n",
       "      <td>2012-10-16 0:00</td>\n",
       "      <td>12.53</td>\n",
       "      <td>2012-10-16 0:43</td>\n",
       "    </tr>\n",
       "    <tr>\n",
       "      <th>2012-10-16 00:47:00</th>\n",
       "      <td>6283</td>\n",
       "      <td>2012-10-16 0:00</td>\n",
       "      <td>0.43</td>\n",
       "      <td>2012-10-16 0:48</td>\n",
       "    </tr>\n",
       "  </tbody>\n",
       "</table>\n",
       "</div>"
      ],
      "text/plain": [
       "                     PRODUCT_ID         AIR_DATE  PRODUCT_AIRTIME_MINS  \\\n",
       "PRODUCT_START_TMS                                                        \n",
       "2012-10-16 00:43:00        2186  2012-10-16 0:00                  0.38   \n",
       "2012-10-16 00:48:00        2186  2012-10-16 0:00                  5.08   \n",
       "2012-10-16 00:25:00        2478  2012-10-16 0:00                  0.50   \n",
       "2012-10-16 00:31:00        2478  2012-10-16 0:00                 12.53   \n",
       "2012-10-16 00:47:00        6283  2012-10-16 0:00                  0.43   \n",
       "\n",
       "                    PRODUCT_STOP_TMS  \n",
       "PRODUCT_START_TMS                     \n",
       "2012-10-16 00:43:00  2012-10-16 0:44  \n",
       "2012-10-16 00:48:00  2012-10-16 0:53  \n",
       "2012-10-16 00:25:00  2012-10-16 0:26  \n",
       "2012-10-16 00:31:00  2012-10-16 0:43  \n",
       "2012-10-16 00:47:00  2012-10-16 0:48  "
      ]
     },
     "execution_count": 47,
     "metadata": {},
     "output_type": "execute_result"
    }
   ],
   "source": [
    "df_time = pd.read_csv('data/Product_airtime.csv', index_col='PRODUCT_START_TMS', parse_dates=True)\n",
    "df_time.head()"
   ]
  },
  {
   "cell_type": "code",
   "execution_count": 48,
   "metadata": {},
   "outputs": [
    {
     "name": "stdout",
     "output_type": "stream",
     "text": [
      "PRODUCT_START_TMS\n",
      "2012-10-01    17.05\n",
      "2012-10-02    19.10\n",
      "2012-10-03    21.63\n",
      "2012-10-04    40.77\n",
      "2012-10-05    12.23\n",
      "2012-10-06    36.63\n",
      "2012-10-07    56.57\n",
      "2012-10-08    13.18\n",
      "2012-10-09    25.47\n",
      "2012-10-10    45.93\n",
      "2012-10-11    29.10\n",
      "2012-10-12    18.92\n",
      "2012-10-13    18.27\n",
      "2012-10-14    40.62\n",
      "2012-10-15    14.78\n",
      "2012-10-16    17.80\n",
      "2012-10-17    31.70\n",
      "2012-10-18    23.42\n",
      "2012-10-19    22.32\n",
      "2012-10-20    21.20\n",
      "2012-10-21    36.72\n",
      "2012-10-22    16.38\n",
      "2012-10-23    22.35\n",
      "2012-10-24    25.68\n",
      "2012-10-25    21.08\n",
      "2012-10-26    43.05\n",
      "2012-10-27    35.77\n",
      "2012-10-28    44.75\n",
      "2012-10-29    17.37\n",
      "2012-10-30    21.82\n",
      "2012-10-31    30.13\n",
      "Freq: D, Name: PRODUCT_AIRTIME_MINS, dtype: float64\n"
     ]
    }
   ],
   "source": [
    "october = df_time['PRODUCT_AIRTIME_MINS']['2012-10']\n",
    "\n",
    "# Downsample to obtain only the daily highest temperatures in August: august_highs\n",
    "october_highs = october.resample('D').max()\n",
    "print(october_highs)"
   ]
  },
  {
   "cell_type": "code",
   "execution_count": 49,
   "metadata": {
    "collapsed": true
   },
   "outputs": [],
   "source": [
    "# Rolling means (or moving averages) "
   ]
  },
  {
   "cell_type": "code",
   "execution_count": 50,
   "metadata": {},
   "outputs": [
    {
     "data": {
      "image/png": "[encoded data removed]",
      "text/plain": [
       "<matplotlib.figure.Figure at 0x11248c4e0>"
      ]
     },
     "metadata": {},
     "output_type": "display_data"
    }
   ],
   "source": [
    "unsmoothed = df_time['PRODUCT_AIRTIME_MINS']['2012-10-01':'2012-10-10']\n",
    "\n",
    "# Apply a rolling mean with a 24 hour window: smoothed\n",
    "smoothed = unsmoothed.rolling(window=24).mean()\n",
    "\n",
    "# Create a new DataFrame with columns smoothed and unsmoothed: august\n",
    "august = pd.DataFrame({'smoothed':smoothed, 'unsmoothed':unsmoothed})\n",
    "\n",
    "# Plot both smoothed and unsmoothed data using august.plot().\n",
    "august.plot()\n",
    "plt.show()"
   ]
  },
  {
   "cell_type": "code",
   "execution_count": 51,
   "metadata": {
    "collapsed": true
   },
   "outputs": [],
   "source": [
    "# Plotting time series, datetime indexing"
   ]
  },
  {
   "cell_type": "code",
   "execution_count": 52,
   "metadata": {},
   "outputs": [
    {
     "data": {
      "text/plain": [
       "<matplotlib.text.Text at 0x111e7f240>"
      ]
     },
     "execution_count": 52,
     "metadata": {},
     "output_type": "execute_result"
    },
    {
     "data": {
      "image/png": "[encoded data removed]",
      "text/plain": [
       "<matplotlib.figure.Figure at 0x111eea208>"
      ]
     },
     "metadata": {},
     "output_type": "display_data"
    }
   ],
   "source": [
    "october_highs.plot()\n",
    "plt.legend()\n",
    "plt.xlabel('Date')"
   ]
  },
  {
   "cell_type": "code",
   "execution_count": 53,
   "metadata": {},
   "outputs": [
    {
     "data": {
      "text/plain": [
       "<matplotlib.text.Text at 0x10e0029e8>"
      ]
     },
     "execution_count": 53,
     "metadata": {},
     "output_type": "execute_result"
    },
    {
     "data": {
      "image/png": "[encoded data removed]",
      "text/plain": [
       "<matplotlib.figure.Figure at 0x10e007828>"
      ]
     },
     "metadata": {},
     "output_type": "display_data"
    }
   ],
   "source": [
    "october_highs['2012-10-01':'2012-10-10'].plot()\n",
    "plt.legend()\n",
    "plt.xlabel('Date')"
   ]
  }
 ],
 "metadata": {
  "anaconda-cloud": {},
  "kernelspec": {
   "display_name": "Python 3",
   "language": "python",
   "name": "python3"
  },
  "language_info": {
   "codemirror_mode": {
    "name": "ipython",
    "version": 3
   },
   "file_extension": ".py",
   "mimetype": "text/x-python",
   "name": "python",
   "nbconvert_exporter": "python",
   "pygments_lexer": "ipython3",
   "version": "3.6.7"
  }
 },
 "nbformat": 4,
 "nbformat_minor": 1
}
