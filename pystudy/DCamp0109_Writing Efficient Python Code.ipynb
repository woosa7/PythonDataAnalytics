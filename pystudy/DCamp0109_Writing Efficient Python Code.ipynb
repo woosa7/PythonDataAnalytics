{
 "cells": [
  {
   "cell_type": "markdown",
   "metadata": {},
   "source": [
    "## Writing Efficient Python Code"
   ]
  },
  {
   "cell_type": "code",
   "execution_count": 1,
   "metadata": {},
   "outputs": [],
   "source": [
    "import warnings\n",
    "warnings.filterwarnings(action='ignore')"
   ]
  },
  {
   "cell_type": "markdown",
   "metadata": {},
   "source": [
    "### 1. Foundations for efficiencies"
   ]
  },
  {
   "cell_type": "code",
   "execution_count": 2,
   "metadata": {},
   "outputs": [
    {
     "name": "stdout",
     "output_type": "stream",
     "text": [
      "['Kramer', 'Elaine', 'George', 'Newman']\n"
     ]
    }
   ],
   "source": [
    "names = ['Jerry', 'Kramer', 'Elaine', 'George', 'Newman']\n",
    "\n",
    "# 1. Non-Pythonic approach\n",
    "i = 0\n",
    "new_list= []\n",
    "while i < len(names):\n",
    "    if len(names[i]) >= 6:\n",
    "        new_list.append(names[i])\n",
    "    i += 1\n",
    "\n",
    "\n",
    "# 2. better way\n",
    "better_list = []\n",
    "for name in names:\n",
    "    if len(name) >= 6:\n",
    "        better_list.append(name)\n",
    "\n",
    "\n",
    "# 3. list comprehension\n",
    "best_list = [name for name in names if len(name) >= 6]\n",
    "\n",
    "print(best_list)"
   ]
  },
  {
   "cell_type": "code",
   "execution_count": 3,
   "metadata": {},
   "outputs": [
    {
     "name": "stdout",
     "output_type": "stream",
     "text": [
      "<class 'range'>\n",
      "[0, 1, 2, 3, 4, 5]\n",
      "[1, 3, 5, 7, 9, 11]\n"
     ]
    }
   ],
   "source": [
    "# range()\n",
    "\n",
    "# Create a range object that goes from 0 to 5\n",
    "nums = range(6)\n",
    "print(type(nums))   # range object\n",
    "\n",
    "# Convert nums to a list\n",
    "nums_list = list(nums)\n",
    "print(nums_list)\n",
    "\n",
    "# Unpacking\n",
    "\n",
    "# Create a new list of odd numbers from 1 to 11 by unpacking a range object\n",
    "nums_list2 = [*range(1,12,2)]\n",
    "print(nums_list2)"
   ]
  },
  {
   "cell_type": "code",
   "execution_count": 4,
   "metadata": {},
   "outputs": [
    {
     "name": "stdout",
     "output_type": "stream",
     "text": [
      "[(0, 'Jerry'), (1, 'Kramer'), (2, 'Elaine'), (3, 'George'), (4, 'Newman')]\n",
      "[(0, 'Jerry'), (1, 'Kramer'), (2, 'Elaine'), (3, 'George'), (4, 'Newman')]\n",
      "[(1, 'Jerry'), (2, 'Kramer'), (3, 'Elaine'), (4, 'George'), (5, 'Newman')]\n"
     ]
    }
   ],
   "source": [
    "# enumerate()\n",
    "\n",
    "# 1. loop to use enumerate\n",
    "indexed_names = []\n",
    "for i,name in enumerate(names):\n",
    "    index_name = (i,name)\n",
    "    indexed_names.append(index_name)\n",
    "print(indexed_names)\n",
    "\n",
    "# 2. using list comprehension\n",
    "indexed_names_comp = [(i,name) for i,name in enumerate(names)]\n",
    "print(indexed_names_comp)\n",
    "\n",
    "# 3. Unpack an enumerate object and starting number\n",
    "indexed_names_unpack = [*enumerate(names, 1)]\n",
    "print(indexed_names_unpack)"
   ]
  },
  {
   "cell_type": "code",
   "execution_count": 5,
   "metadata": {},
   "outputs": [
    {
     "name": "stdout",
     "output_type": "stream",
     "text": [
      "<class 'map'>\n",
      "['JERRY', 'KRAMER', 'ELAINE', 'GEORGE', 'NEWMAN']\n"
     ]
    }
   ],
   "source": [
    "# map()\n",
    "\n",
    "# map object\n",
    "names_map  = map(str.upper, names)\n",
    "print(type(names_map))\n",
    "\n",
    "# Unpack map into a list\n",
    "names_uppercase = [*names_map]\n",
    "print(names_uppercase)"
   ]
  },
  {
   "cell_type": "code",
   "execution_count": 6,
   "metadata": {},
   "outputs": [
    {
     "name": "stdout",
     "output_type": "stream",
     "text": [
      "[ 7 17 27 37 47]\n",
      "[('Jerry', 7), ('Kramer', 17), ('Elaine', 27), ('George', 37), ('Newman', 47)]\n",
      "['Welcome Jerry... You are 7 min late.']\n",
      "['Welcome Kramer... You are 17 min late.']\n",
      "['Welcome Elaine... You are 27 min late.']\n",
      "['Welcome George... You are 37 min late.']\n",
      "['Welcome Newman... You are 47 min late.']\n"
     ]
    }
   ],
   "source": [
    "import numpy as np\n",
    "\n",
    "arrival_times = [*range(10,60,10)]\n",
    "\n",
    "# Convert arrival_times to an array and update the times\n",
    "arrival_times_np = np.array(arrival_times)\n",
    "new_times = arrival_times_np - 3\n",
    "print(new_times)\n",
    "\n",
    "# Use list comprehension and enumerate to pair guests to new times\n",
    "guest_arrivals = [(names[i],time) for i,time in enumerate(new_times)]\n",
    "print(guest_arrivals)\n",
    "\n",
    "# Map the welcome_guest function to each (guest,time) pair\n",
    "def welcome_guest(*args):\n",
    "    message_list = ['Welcome {}... You are {} min late.'.format(guest, time) for guest, time in args]\n",
    "    return message_list\n",
    "\n",
    "welcome_map = map(welcome_guest, guest_arrivals)\n",
    "\n",
    "guest_welcomes = [*welcome_map]\n",
    "\n",
    "print(*guest_welcomes, sep='\\n')"
   ]
  },
  {
   "cell_type": "markdown",
   "metadata": {},
   "source": [
    "### 2. Timing and profiling code"
   ]
  },
  {
   "cell_type": "code",
   "execution_count": 7,
   "metadata": {},
   "outputs": [
    {
     "data": {
      "text/plain": [
       "'\\n%timeit\\n\\n%%timeit\\n\\n%lprun : find the bottleneck\\n\\n%mprun : memory usage\\n\\n'"
      ]
     },
     "execution_count": 7,
     "metadata": {},
     "output_type": "execute_result"
    }
   ],
   "source": [
    "\"\"\"\n",
    "%timeit\n",
    "\n",
    "%%timeit\n",
    "\n",
    "%lprun : find the bottleneck\n",
    "\n",
    "%mprun : memory usage\n",
    "\n",
    "\"\"\""
   ]
  },
  {
   "cell_type": "markdown",
   "metadata": {},
   "source": [
    "### 3. Gaining efficiencies"
   ]
  },
  {
   "cell_type": "code",
   "execution_count": 8,
   "metadata": {},
   "outputs": [],
   "source": [
    "# Pokemon data\n",
    "with open('data/chap01/pokemon_name.txt', 'r') as f:\n",
    "    names = f.readlines()\n",
    "    names = [n.replace('\\n','') for n in names]\n",
    "\n",
    "with open('data/chap01/pokemon_type1.txt', 'r') as f:\n",
    "    primary_types = f.readlines()\n",
    "    primary_types = [n.replace('\\n','') for n in primary_types]\n",
    "\n",
    "with open('data/chap01/pokemon_type2.txt', 'r') as f:\n",
    "    secondary_types = f.readlines()\n",
    "    secondary_types = [n.replace('\\n','') for n in secondary_types]\n",
    "\n",
    "with open('data/chap01/pokemon_gen.txt', 'r') as f:\n",
    "    generations = f.readlines()\n",
    "    generations = [n.replace('\\n','') for n in generations]"
   ]
  },
  {
   "cell_type": "code",
   "execution_count": 9,
   "metadata": {},
   "outputs": [
    {
     "name": "stdout",
     "output_type": "stream",
     "text": [
      "('Abomasnow', 'Grass', 'Ice')\n",
      "('Abra', 'Psychic', 'nan')\n",
      "('Absol', 'Dark', 'nan')\n",
      "('Accelgor', 'Bug', 'nan')\n",
      "('Aerodactyl', 'Rock', 'Flying')\n",
      "\n",
      "('Abomasnow', 'Grass')\n",
      "('Abra', 'Psychic')\n",
      "('Absol', 'Dark')\n"
     ]
    }
   ],
   "source": [
    "# Combine lists\n",
    "\n",
    "names_types = [*zip(names, primary_types, secondary_types)]\n",
    "print(*names_types[:5], sep='\\n')\n",
    "print()\n",
    "\n",
    "# Combine five items from names and three items from primary_types\n",
    "differing_lengths = [*zip(names[:5], primary_types[:3])]\n",
    "print(*differing_lengths, sep='\\n')"
   ]
  },
  {
   "cell_type": "code",
   "execution_count": 10,
   "metadata": {},
   "outputs": [
    {
     "name": "stdout",
     "output_type": "stream",
     "text": [
      "Counter({'Water': 105, 'Normal': 92, 'Bug': 65, 'Grass': 64, 'Fire': 48, 'Psychic': 46, 'Rock': 41, 'Electric': 40, 'Ground': 30, 'Dark': 28, 'Poison': 28, 'Dragon': 25, 'Fighting': 25, 'Ice': 23, 'Steel': 21, 'Ghost': 20, 'Fairy': 17, 'Flying': 2}) \n",
      "\n",
      "Counter({'5': 122, '3': 103, '1': 99, '4': 78, '2': 51, '6': 47}) \n",
      "\n",
      "Counter({'S': 102, 'M': 58, 'C': 55, 'P': 47, 'G': 46, 'D': 41, 'B': 39, 'T': 35, 'L': 33, 'A': 32, 'R': 30, 'H': 27, 'F': 26, 'K': 25, 'W': 23, 'V': 22, 'E': 21, 'N': 16, 'Z': 9, 'J': 7, 'O': 6, 'I': 5, 'U': 5, 'Q': 4, 'Y': 4, 'X': 2})\n"
     ]
    }
   ],
   "source": [
    "# Counting from a sample\n",
    "\n",
    "from collections import Counter\n",
    "\n",
    "# Collect the count of primary types\n",
    "type_count = Counter(primary_types)\n",
    "print(type_count, '\\n')\n",
    "\n",
    "# Collect the count of generations\n",
    "gen_count = Counter(generations)\n",
    "print(gen_count, '\\n')\n",
    "\n",
    "# Collect the count of Pokémon for each starting_letter\n",
    "starting_letters = [name[0] for name in names]\n",
    "starting_letters_count = Counter(starting_letters)\n",
    "print(starting_letters_count)"
   ]
  },
  {
   "cell_type": "code",
   "execution_count": 11,
   "metadata": {},
   "outputs": [
    {
     "name": "stdout",
     "output_type": "stream",
     "text": [
      "<class 'itertools.combinations'> \n",
      "\n",
      "[('Glalie', 'Sandslash'), ('Glalie', 'Medicham'), ('Glalie', 'Buneary'), ('Glalie', 'Shelmet'), ('Sandslash', 'Medicham'), ('Sandslash', 'Buneary'), ('Sandslash', 'Shelmet'), ('Medicham', 'Buneary'), ('Medicham', 'Shelmet'), ('Buneary', 'Shelmet')] \n",
      "\n",
      "[('Glalie', 'Sandslash', 'Medicham', 'Buneary'), ('Glalie', 'Sandslash', 'Medicham', 'Shelmet'), ('Glalie', 'Sandslash', 'Buneary', 'Shelmet'), ('Glalie', 'Medicham', 'Buneary', 'Shelmet'), ('Sandslash', 'Medicham', 'Buneary', 'Shelmet')]\n"
     ]
    }
   ],
   "source": [
    "# Combinations\n",
    "\n",
    "from itertools import combinations\n",
    "import random\n",
    "\n",
    "pokemon = random.sample(names, 5)   # select 5 samples\n",
    "\n",
    "# Create a combination object with pairs of Pokémon\n",
    "combos_obj = combinations(pokemon, 2)\n",
    "print(type(combos_obj), '\\n')\n",
    "\n",
    "# Convert combos_obj to a list by unpacking\n",
    "combos_2 = [*combos_obj]\n",
    "print(combos_2, '\\n')\n",
    "\n",
    "# Collect all possible combinations of 4 Pokémon directly into a list\n",
    "combos_4 = [*combinations(pokemon, 4)]\n",
    "print(combos_4)"
   ]
  },
  {
   "cell_type": "code",
   "execution_count": 12,
   "metadata": {},
   "outputs": [
    {
     "name": "stdout",
     "output_type": "stream",
     "text": [
      "{'Squirtle', 'Psyduck'}\n",
      "{'Spearow', 'Pikachu', 'Bulbasaur', 'Rattata', 'Vulpix', 'Zubat', 'Wigglytuff', 'Koffing'}\n",
      "{'Krabby', 'Spearow', 'Horsea', 'Pikachu', 'Bulbasaur', 'Rattata', 'Magikarp', 'Wigglytuff', 'Slowbro', 'Vulpix', 'Vaporeon', 'Poliwag', 'Zubat', 'Starmie', 'Tentacool', 'Koffing'}\n"
     ]
    }
   ],
   "source": [
    "# Set\n",
    "\n",
    "ash_pokedex = ['Pikachu', 'Bulbasaur', 'Koffing', 'Spearow', 'Vulpix', 'Wigglytuff', 'Zubat', 'Rattata', 'Psyduck', 'Squirtle']\n",
    "misty_pokedex = ['Krabby', 'Horsea', 'Slowbro', 'Tentacool', 'Vaporeon', 'Magikarp', 'Poliwag', 'Starmie', 'Psyduck', 'Squirtle']\n",
    "\n",
    "ash_set = set(ash_pokedex)\n",
    "misty_set = set(misty_pokedex)\n",
    "\n",
    "# Find the Pokémon that exist in both sets\n",
    "both = ash_set.intersection(misty_set)\n",
    "print(both)\n",
    "\n",
    "# Find the Pokémon that Ash has, and Misty does not have\n",
    "ash_only = ash_set.difference(misty_set)\n",
    "print(ash_only)\n",
    "\n",
    "# Find the Pokémon that are in only one set (not both)\n",
    "unique_to_set = ash_set.symmetric_difference(misty_set)\n",
    "print(unique_to_set)"
   ]
  },
  {
   "cell_type": "code",
   "execution_count": 13,
   "metadata": {},
   "outputs": [
    {
     "name": "stdout",
     "output_type": "stream",
     "text": [
      "True\n",
      "False\n"
     ]
    }
   ],
   "source": [
    "# Searching from set\n",
    "\n",
    "print('Pikachu' in ash_pokedex)\n",
    "print('Pikachu' in misty_set)"
   ]
  },
  {
   "cell_type": "code",
   "execution_count": 14,
   "metadata": {},
   "outputs": [
    {
     "name": "stdout",
     "output_type": "stream",
     "text": [
      "720\n",
      "720\n",
      "True\n"
     ]
    }
   ],
   "source": [
    "# Gathering unique item\n",
    "\n",
    "def find_unique_items(data):\n",
    "    uniques = []\n",
    "\n",
    "    for item in data:\n",
    "        if item not in uniques:\n",
    "            uniques.append(item)\n",
    "\n",
    "    return uniques\n",
    "\n",
    "\n",
    "# collect unique Pokémon names\n",
    "uniq_names_func = find_unique_items(names)\n",
    "print(len(uniq_names_func))\n",
    "\n",
    "# set is faster !!!\n",
    "uniq_names_set = set(names)\n",
    "print(len(uniq_names_set))\n",
    "\n",
    "# Check that both unique collections are equivalent\n",
    "print(sorted(uniq_names_func) == sorted(uniq_names_set))"
   ]
  },
  {
   "cell_type": "code",
   "execution_count": 15,
   "metadata": {},
   "outputs": [
    {
     "name": "stdout",
     "output_type": "stream",
     "text": [
      "{'Dark', 'Fire', 'Ghost', 'Electric', 'Ice', 'Ground', 'Dragon', 'Fighting', 'Poison', 'Psychic', 'Grass', 'Bug', 'Normal', 'Water', 'Flying', 'Steel', 'Rock', 'Fairy'}\n",
      "{'4', '2', '3', '1', '6', '5'}\n"
     ]
    }
   ],
   "source": [
    "# Use the best approach to collect unique primary types and generations\n",
    "uniq_types = set(primary_types)\n",
    "uniq_gens = set(generations)\n",
    "print(uniq_types, uniq_gens, sep='\\n')"
   ]
  },
  {
   "cell_type": "code",
   "execution_count": 16,
   "metadata": {},
   "outputs": [
    {
     "name": "stdout",
     "output_type": "stream",
     "text": [
      "[('Abomasnow', 9), ('Abra', 4), ('Absol', 5), ('Aipom', 5), ('Alomomola', 9)]\n",
      "[('Abomasnow', 9), ('Abra', 4), ('Absol', 5), ('Aipom', 5), ('Alomomola', 9)]\n"
     ]
    }
   ],
   "source": [
    "# Eliminating loops\n",
    "\n",
    "# Loop\n",
    "gen1_gen2_name_lengths_loop = []\n",
    "\n",
    "for name, gen in zip(names, generations):\n",
    "    if int(gen) < 3:\n",
    "        name_length = len(name)\n",
    "        poke_tuple = (name, name_length)\n",
    "        gen1_gen2_name_lengths_loop.append(poke_tuple)\n",
    "\n",
    "\n",
    "# Effective code\n",
    "gen1_gen2_pokemon = [name for name, gen in zip(names, generations) if int(gen) < 3]\n",
    "name_lengths_map = map(len, gen1_gen2_pokemon)\n",
    "gen1_gen2_name_lengths = [*zip(gen1_gen2_pokemon, name_lengths_map)]\n",
    "\n",
    "print(gen1_gen2_name_lengths_loop[:5])\n",
    "print(gen1_gen2_name_lengths[:5])"
   ]
  },
  {
   "cell_type": "code",
   "execution_count": 17,
   "metadata": {},
   "outputs": [
    {
     "name": "stdout",
     "output_type": "stream",
     "text": [
      "True \n",
      "\n",
      "[('Abomasnow', 253.0, 50.6), ('Abra', 325.0, 65.0), ('Absol', 503.0, 100.6)]\n",
      "[('Abomasnow', 253.0, 50.6), ('Abra', 325.0, 65.0), ('Absol', 503.0, 100.6)] \n",
      "\n",
      "3 strongest Pokémon:\n",
      "[('Zoroark', 623.0, 124.6), ('Marshtomp', 620.0, 124.0), ('Gothorita', 605.0, 121.0)]\n"
     ]
    }
   ],
   "source": [
    "# totals and averages without a loop\n",
    "\n",
    "# hp, attack, defense, sp_attack, sp_defense - numpy array\n",
    "stats = np.loadtxt('data/chap01/pokemon_stat.txt')\n",
    "\n",
    "# Loop\n",
    "poke_list = []\n",
    "\n",
    "for pokemon, row in zip(names, stats):\n",
    "    total_stats = np.sum(row)\n",
    "    avg_stats = np.mean(row)\n",
    "    poke_list.append((pokemon, total_stats, avg_stats))\n",
    "\n",
    "\n",
    "# Effective code\n",
    "total_stats_np = stats.sum(axis=1)\n",
    "avg_stats_np = stats.mean(axis=1)\n",
    "poke_list_np = [*zip(names, total_stats_np, avg_stats_np)]\n",
    "\n",
    "print(poke_list_np == poke_list, '\\n')\n",
    "print(poke_list_np[:3])\n",
    "print(poke_list[:3], '\\n')\n",
    "\n",
    "\n",
    "top_3 = sorted(poke_list_np, key=lambda x: x[1], reverse=True)[:3]\n",
    "print('3 strongest Pokémon:\\n{}'.format(top_3))"
   ]
  },
  {
   "cell_type": "code",
   "execution_count": 18,
   "metadata": {},
   "outputs": [
    {
     "name": "stdout",
     "output_type": "stream",
     "text": [
      "generation 1: count =  99, percentage = 19.8\n",
      "generation 5: count = 122, percentage = 24.4\n",
      "generation 3: count = 103, percentage = 20.6\n",
      "generation 6: count =  47, percentage = 9.4\n",
      "generation 4: count =  78, percentage = 15.6\n",
      "generation 2: count =  51, percentage = 10.2\n"
     ]
    }
   ],
   "source": [
    "# One-time calculation loop\n",
    "\n",
    "from collections import Counter\n",
    "\n",
    "# Collect the count of each generation\n",
    "gen_counts = Counter(generations)\n",
    "\n",
    "total_count = len(generations)\n",
    "\n",
    "for gen, count in gen_counts.items():\n",
    "    gen_percent = round(count / total_count * 100, 2)\n",
    "    print('generation {}: count = {:3}, percentage = {}'.format(gen, count, gen_percent))"
   ]
  },
  {
   "cell_type": "code",
   "execution_count": 19,
   "metadata": {},
   "outputs": [
    {
     "name": "stdout",
     "output_type": "stream",
     "text": [
      "['Bug', 'Dark', 'Dragon', 'Electric', 'Fairy', 'Fighting', 'Fire', 'Flying', 'Ghost', 'Grass', 'Ground', 'Ice', 'Normal', 'Poison', 'Psychic', 'Rock', 'Steel', 'Water'] \n",
      "\n",
      "[[1, 'Bug', 'Dark'], [2, 'Bug', 'Dragon'], [3, 'Bug', 'Electric'], [4, 'Bug', 'Fairy'], [5, 'Bug', 'Fighting'], [6, 'Bug', 'Fire'], [7, 'Bug', 'Flying'], [8, 'Bug', 'Ghost'], [9, 'Bug', 'Grass'], [10, 'Bug', 'Ground'], [11, 'Bug', 'Ice'], [12, 'Bug', 'Normal'], [13, 'Bug', 'Poison'], [14, 'Bug', 'Psychic'], [15, 'Bug', 'Rock'], [16, 'Bug', 'Steel'], [17, 'Bug', 'Water'], [18, 'Dark', 'Dragon'], [19, 'Dark', 'Electric'], [20, 'Dark', 'Fairy'], [21, 'Dark', 'Fighting'], [22, 'Dark', 'Fire'], [23, 'Dark', 'Flying'], [24, 'Dark', 'Ghost'], [25, 'Dark', 'Grass'], [26, 'Dark', 'Ground'], [27, 'Dark', 'Ice'], [28, 'Dark', 'Normal'], [29, 'Dark', 'Poison'], [30, 'Dark', 'Psychic']]\n"
     ]
    }
   ],
   "source": [
    "# Holistic conversion loop\n",
    "# gather all the possible pairs of Pokémon types.\n",
    "\n",
    "pokemon_types = sorted(list(set(primary_types)))\n",
    "print(pokemon_types, '\\n')\n",
    "\n",
    "# Collect all possible pairs using combinations()\n",
    "possible_pairs = [*combinations(pokemon_types, 2)]\n",
    "\n",
    "enumerated_tuples = []\n",
    "\n",
    "for i, pair in enumerate(possible_pairs, 1):\n",
    "    enumerated_pair_tuple = (i,) + pair\n",
    "    enumerated_tuples.append(enumerated_pair_tuple)\n",
    "\n",
    "# Convert all tuples in enumerated_tuples to a list\n",
    "enumerated_pairs = [*map(list, enumerated_tuples)]\n",
    "print(enumerated_pairs[:30])"
   ]
  },
  {
   "cell_type": "code",
   "execution_count": 20,
   "metadata": {},
   "outputs": [
    {
     "name": "stdout",
     "output_type": "stream",
     "text": [
      "('Abomasnow', 45.0, -0.9026061903496466)\n",
      "('Abra', 60.0, -0.33400219736223524)\n",
      "('Absol', 80.0, 0.4241364599543133)\n",
      "\n",
      "('Corphish', 250.0, 6.868315047144975)\n",
      "('Diglett', 160.0, 3.4566910892205076)\n",
      "('Fletchling', 190.0, 4.59389907519533)\n",
      "('Golurk', 255.0, 7.0578497114741126)\n",
      "('Igglybuff', 150.0, 3.0776217605622334)\n",
      "('Kyogre', 170.0, 3.835760417878782)\n",
      "('Ninjask', 150.0, 3.0776217605622334)\n",
      "('Quilava', 150.0, 3.0776217605622334)\n",
      "('Spoink', 165.0, 3.6462257535496447)\n",
      "('Zoroark', 216.0, 5.579479329706843)\n"
     ]
    }
   ],
   "source": [
    "hps = stats[:, 0]\n",
    "hp_avg = hps.mean()\n",
    "hp_std = hps.std()\n",
    "\n",
    "# Loop version\n",
    "poke_zscores = []\n",
    "\n",
    "for name, hp in zip(names, hps):\n",
    "    z_score = (hp - hp_avg)/hp_std\n",
    "    poke_zscores.append((name, hp, z_score))\n",
    "\n",
    "high_hp_pokemon = []\n",
    "\n",
    "for name, hp, zscore in poke_zscores:\n",
    "    if zscore > 3:\n",
    "        high_hp_pokemon.append((name, hp, zscore))\n",
    "\n",
    "\n",
    "# Effective code version\n",
    "z_scores = (hps - hp_avg)/hp_std\n",
    "poke_zscores2 = [*zip(names, hps, z_scores)]\n",
    "print(*poke_zscores2[:3], sep='\\n')\n",
    "print()\n",
    "\n",
    "highest_hp_pokemon = [(name, hp, zscore) for name, hp, zscore in poke_zscores2 if zscore > 3]\n",
    "print(*highest_hp_pokemon, sep='\\n')"
   ]
  },
  {
   "cell_type": "markdown",
   "metadata": {},
   "source": [
    "### 4. pandas DataFrame iteration"
   ]
  },
  {
   "cell_type": "code",
   "execution_count": 21,
   "metadata": {},
   "outputs": [
    {
     "name": "stdout",
     "output_type": "stream",
     "text": [
      "    Team League  Year   RS   RA   W    OBP    SLG     BA  Playoffs  \\\n",
      "21   PIT     NL  2012  651  674  79  0.304  0.395  0.243         0   \n",
      "51   PIT     NL  2011  610  712  72  0.309  0.368  0.244         0   \n",
      "81   PIT     NL  2010  587  866  57  0.304  0.373  0.242         0   \n",
      "111  PIT     NL  2009  636  768  62  0.318  0.387  0.252         0   \n",
      "141  PIT     NL  2008  735  884  67  0.320  0.403  0.258         0   \n",
      "\n",
      "     RankSeason  RankPlayoffs    G   OOBP   OSLG  \n",
      "21          NaN           NaN  162  0.314  0.390  \n",
      "51          NaN           NaN  162  0.338  0.409  \n",
      "81          NaN           NaN  162  0.348  0.449  \n",
      "111         NaN           NaN  161  0.346  0.442  \n",
      "141         NaN           NaN  162  0.362  0.454  \n"
     ]
    }
   ],
   "source": [
    "import pandas as pd\n",
    "\n",
    "baseball_df = pd.read_csv('data/chap01/baseball_stats.csv')\n",
    "pit_df = baseball_df[baseball_df.Team == 'PIT']\n",
    "print(pit_df.head())"
   ]
  },
  {
   "cell_type": "code",
   "execution_count": 22,
   "metadata": {},
   "outputs": [
    {
     "name": "stdout",
     "output_type": "stream",
     "text": [
      "Team              PIT\n",
      "League             NL\n",
      "Year             2012\n",
      "RS                651\n",
      "RA                674\n",
      "W                  79\n",
      "OBP             0.304\n",
      "SLG             0.395\n",
      "BA              0.243\n",
      "Playoffs            0\n",
      "RankSeason        NaN\n",
      "RankPlayoffs      NaN\n",
      "G                 162\n",
      "OOBP            0.314\n",
      "OSLG             0.39\n",
      "Name: 21, dtype: object\n",
      "\n",
      "(21, Team              PIT\n",
      "League             NL\n",
      "Year             2012\n",
      "RS                651\n",
      "RA                674\n",
      "W                  79\n",
      "OBP             0.304\n",
      "SLG             0.395\n",
      "BA              0.243\n",
      "Playoffs            0\n",
      "RankSeason        NaN\n",
      "RankPlayoffs      NaN\n",
      "G                 162\n",
      "OOBP            0.314\n",
      "OSLG             0.39\n",
      "Name: 21, dtype: object)\n"
     ]
    }
   ],
   "source": [
    "# Iterating with .iterrows()\n",
    "\n",
    "for i, row in pit_df.iterrows():\n",
    "    print(row)\n",
    "    if i == 21: break\n",
    "\n",
    "print()\n",
    "\n",
    "for row_tuple in pit_df.iterrows():\n",
    "    print(row_tuple)\n",
    "    if row_tuple[0] == 21: break"
   ]
  },
  {
   "cell_type": "code",
   "execution_count": 23,
   "metadata": {},
   "outputs": [
    {
     "name": "stdout",
     "output_type": "stream",
     "text": [
      "    Team League  Year   RS   RA   W    OBP    SLG     BA  Playoffs  \\\n",
      "24   SFG     NL  2012  718  649  94  0.327  0.397  0.269         1   \n",
      "54   SFG     NL  2011  570  578  86  0.303  0.368  0.242         0   \n",
      "84   SFG     NL  2010  697  583  92  0.321  0.408  0.257         1   \n",
      "114  SFG     NL  2009  657  611  88  0.309  0.389  0.257         0   \n",
      "144  SFG     NL  2008  640  759  72  0.321  0.382  0.262         0   \n",
      "\n",
      "     RankSeason  RankPlayoffs    G   OOBP   OSLG   RD  \n",
      "24          4.0           1.0  162  0.313  0.393   69  \n",
      "54          NaN           NaN  162  0.309  0.346   -8  \n",
      "84          5.0           1.0  162  0.313  0.370  114  \n",
      "114         NaN           NaN  162  0.314  0.372   46  \n",
      "144         NaN           NaN  162  0.341  0.404 -119  \n"
     ]
    }
   ],
   "source": [
    "# Run differentials with .iterrows()\n",
    "\n",
    "# 각 시즌별 run differential 계산.\n",
    "# runs_score (RS, 출루 횟수) - runs_allowed (RA, 총 출루 허용횟수)\n",
    "\n",
    "giants_df = baseball_df[baseball_df.Team == 'SFG']\n",
    "\n",
    "run_diffs = []\n",
    "\n",
    "# Write a for loop and collect runs allowed and runs scored for each row\n",
    "for i,row in giants_df.iterrows():\n",
    "    run_diff = row['RS'] - row['RA']\n",
    "    run_diffs.append(run_diff)\n",
    "\n",
    "giants_df['RD'] = run_diffs\n",
    "print(giants_df.head())"
   ]
  },
  {
   "cell_type": "code",
   "execution_count": 24,
   "metadata": {},
   "outputs": [
    {
     "name": "stdout",
     "output_type": "stream",
     "text": [
      "24 2012 94\n",
      "84 2010 92\n",
      "295 2003 100\n",
      "325 2002 95\n",
      "385 2000 97\n",
      "474 1997 90\n",
      "634 1989 92\n",
      "686 1987 90\n",
      "1041 1971 90\n",
      "1229 1962 103\n",
      "    Team League  Year   RS   RA   W    OBP    SLG     BA  Playoffs  \\\n",
      "24   SFG     NL  2012  718  649  94  0.327  0.397  0.269         1   \n",
      "54   SFG     NL  2011  570  578  86  0.303  0.368  0.242         0   \n",
      "84   SFG     NL  2010  697  583  92  0.321  0.408  0.257         1   \n",
      "114  SFG     NL  2009  657  611  88  0.309  0.389  0.257         0   \n",
      "144  SFG     NL  2008  640  759  72  0.321  0.382  0.262         0   \n",
      "\n",
      "     RankSeason  RankPlayoffs    G   OOBP   OSLG   RD  \n",
      "24          4.0           1.0  162  0.313  0.393   69  \n",
      "54          NaN           NaN  162  0.309  0.346   -8  \n",
      "84          5.0           1.0  162  0.313  0.370  114  \n",
      "114         NaN           NaN  162  0.314  0.372   46  \n",
      "144         NaN           NaN  162  0.341  0.404 -119  \n"
     ]
    }
   ],
   "source": [
    "# Iterating with .itertuples()\n",
    "\n",
    "run_diffs = []\n",
    "\n",
    "# Loop over the DataFrame and print each row's Index, Year and Wins (W)\n",
    "for row in giants_df.itertuples():\n",
    "    run_diff = row.RS - row.RA\n",
    "    run_diffs.append(run_diff)\n",
    "\n",
    "    if row.Playoffs == 1:\n",
    "        print(row.Index, row.Year, row.W)   # W : wins\n",
    "\n",
    "giants_df['RD'] = run_diffs\n",
    "print(giants_df.head())"
   ]
  },
  {
   "cell_type": "code",
   "execution_count": 25,
   "metadata": {},
   "outputs": [
    {
     "name": "stdout",
     "output_type": "stream",
     "text": [
      "RS          33198\n",
      "RA          32042\n",
      "W            3975\n",
      "Playoffs       10\n",
      "dtype: int64 \n",
      "\n",
      "24     1367\n",
      "54     1148\n",
      "84     1280\n",
      "114    1268\n",
      "144    1399\n",
      "dtype: int64 \n",
      "\n",
      "24     Yes\n",
      "54      No\n",
      "84     Yes\n",
      "114     No\n",
      "144     No\n",
      "174     No\n",
      "204     No\n",
      "234     No\n",
      "265     No\n",
      "295    Yes\n",
      "dtype: object\n"
     ]
    }
   ],
   "source": [
    "# Analyzing baseball stats with .apply()\n",
    "\n",
    "runs_df = giants_df[['RS','RA','W','Playoffs']]\n",
    "\n",
    "# Gather sum of all columns\n",
    "stat_totals = runs_df.apply(sum, axis=0)\n",
    "print(stat_totals, '\\n')\n",
    "\n",
    "# Gather total runs scored in all games per year\n",
    "total_runs_scored = runs_df[['RS', 'RA']].apply(sum, axis=1)\n",
    "print(total_runs_scored[:5], '\\n')\n",
    "\n",
    "# Convert numeric playoffs to text\n",
    "def text_playoffs(num_playoffs):\n",
    "    if num_playoffs == 1:\n",
    "        return 'Yes'\n",
    "    else:\n",
    "        return 'No'\n",
    "\n",
    "textual_playoffs = runs_df.apply(lambda row: text_playoffs(row['Playoffs']), axis=1)\n",
    "print(textual_playoffs[:10])"
   ]
  },
  {
   "cell_type": "code",
   "execution_count": 26,
   "metadata": {},
   "outputs": [
    {
     "name": "stdout",
     "output_type": "stream",
     "text": [
      "24     0.58\n",
      "54     0.53\n",
      "84     0.57\n",
      "114    0.54\n",
      "144    0.44\n",
      "174    0.44\n",
      "204    0.47\n",
      "234    0.46\n",
      "265    0.56\n",
      "295    0.62\n",
      "dtype: float64 \n",
      "\n",
      "    Team League  Year   RS   RA   W    OBP    SLG     BA  Playoffs  \\\n",
      "24   SFG     NL  2012  718  649  94  0.327  0.397  0.269         1   \n",
      "54   SFG     NL  2011  570  578  86  0.303  0.368  0.242         0   \n",
      "84   SFG     NL  2010  697  583  92  0.321  0.408  0.257         1   \n",
      "114  SFG     NL  2009  657  611  88  0.309  0.389  0.257         0   \n",
      "144  SFG     NL  2008  640  759  72  0.321  0.382  0.262         0   \n",
      "\n",
      "     RankSeason  RankPlayoffs    G   OOBP   OSLG   RD    WP  \n",
      "24          4.0           1.0  162  0.313  0.393   69  0.58  \n",
      "54          NaN           NaN  162  0.309  0.346   -8  0.53  \n",
      "84          5.0           1.0  162  0.313  0.370  114  0.57  \n",
      "114         NaN           NaN  162  0.314  0.372   46  0.54  \n",
      "144         NaN           NaN  162  0.341  0.404 -119  0.44   \n",
      "\n",
      "     Team League  Year   RS   RA    W    OBP    SLG     BA  Playoffs  \\\n",
      "295   SFG     NL  2003  755  638  100  0.338  0.425  0.264         1   \n",
      "385   SFG     NL  2000  925  747   97  0.362  0.472  0.278         1   \n",
      "530   SFG     NL  1993  808  636  103  0.340  0.427  0.276         0   \n",
      "1229  SFG     NL  1962  878  690  103  0.341  0.441  0.278         1   \n",
      "\n",
      "      RankSeason  RankPlayoffs    G   OOBP   OSLG   RD    WP  \n",
      "295          2.0           4.0  161  0.321  0.386  117  0.62  \n",
      "385          1.0           4.0  162  0.342  0.412  178  0.60  \n",
      "530          NaN           NaN  162    NaN    NaN  172  0.64  \n",
      "1229         1.0           2.0  165    NaN    NaN  188  0.62  \n"
     ]
    }
   ],
   "source": [
    "# Settle a debate with .apply()\n",
    "\n",
    "def calc_win_perc(wins, games_played):\n",
    "    win_perc = wins / games_played\n",
    "    return np.round(win_perc,2)\n",
    "\n",
    "# Create a win percentage Series\n",
    "win_percs = giants_df.apply(lambda row: calc_win_perc(row['W'], row['G']), axis=1)\n",
    "print(win_percs[:10], '\\n')\n",
    "\n",
    "giants_df['WP'] = win_percs\n",
    "print(giants_df.head(), '\\n')\n",
    "\n",
    "# Display dbacks_df where WP is greater than 0.60\n",
    "print(giants_df[giants_df['WP'] >= 0.60])"
   ]
  },
  {
   "cell_type": "code",
   "execution_count": 27,
   "metadata": {},
   "outputs": [
    {
     "name": "stdout",
     "output_type": "stream",
     "text": [
      "    Team League  Year   RS   RA   W    OBP    SLG     BA  Playoffs  \\\n",
      "24   SFG     NL  2012  718  649  94  0.327  0.397  0.269         1   \n",
      "54   SFG     NL  2011  570  578  86  0.303  0.368  0.242         0   \n",
      "84   SFG     NL  2010  697  583  92  0.321  0.408  0.257         1   \n",
      "114  SFG     NL  2009  657  611  88  0.309  0.389  0.257         0   \n",
      "144  SFG     NL  2008  640  759  72  0.321  0.382  0.262         0   \n",
      "\n",
      "     RankSeason  RankPlayoffs    G   OOBP   OSLG   RD    WP  \n",
      "24          4.0           1.0  162  0.313  0.393   69  0.58  \n",
      "54          NaN           NaN  162  0.309  0.346   -8  0.53  \n",
      "84          5.0           1.0  162  0.313  0.370  114  0.57  \n",
      "114         NaN           NaN  162  0.314  0.372   46  0.54  \n",
      "144         NaN           NaN  162  0.341  0.404 -119  0.44  \n"
     ]
    }
   ],
   "source": [
    "# Replacing .iloc with underlying arrays\n",
    "\n",
    "# old version\n",
    "win_percs_list = []\n",
    "\n",
    "for i in range(len(giants_df)):\n",
    "    row = giants_df.iloc[i]\n",
    "\n",
    "    wins = row['W']\n",
    "    games_played = row['G']\n",
    "    win_perc = calc_win_perc(wins, games_played)\n",
    "\n",
    "    win_percs_list.append(win_perc)\n",
    "\n",
    "giants_df['WP'] = win_percs_list\n",
    "\n",
    "\n",
    "# Effective version\n",
    "# Use the W array and G array to calculate win percentages\n",
    "win_percs_np = calc_win_perc(giants_df['W'].values, giants_df['G'].values)\n",
    "\n",
    "# Append a new column to baseball_df that stores all win percentages\n",
    "giants_df['WP'] = win_percs_np\n",
    "\n",
    "print(giants_df.head())"
   ]
  },
  {
   "cell_type": "code",
   "execution_count": 28,
   "metadata": {},
   "outputs": [
    {
     "name": "stdout",
     "output_type": "stream",
     "text": [
      "  Team League  Year   RS   RA   W    OBP    SLG     BA  Playoffs  RankSeason  \\\n",
      "0  ARI     NL  2012  734  688  81  0.328  0.418  0.259         0         NaN   \n",
      "1  ATL     NL  2012  700  600  94  0.320  0.389  0.247         1         4.0   \n",
      "2  BAL     AL  2012  712  705  93  0.311  0.417  0.247         1         5.0   \n",
      "3  BOS     AL  2012  734  806  69  0.315  0.415  0.260         0         NaN   \n",
      "4  CHC     NL  2012  613  759  61  0.302  0.378  0.240         0         NaN   \n",
      "\n",
      "   RankPlayoffs    G   OOBP   OSLG  WP_preds  \n",
      "0           NaN  162  0.317  0.415      0.53  \n",
      "1           5.0  162  0.306  0.378      0.58  \n",
      "2           4.0  162  0.315  0.403      0.50  \n",
      "3           NaN  162  0.331  0.428      0.45  \n",
      "4           NaN  162  0.335  0.424      0.39  \n"
     ]
    }
   ],
   "source": [
    "# Predict win percentage\n",
    "\n",
    "def predict_win_perc(RS, RA):\n",
    "    prediction = RS ** 2 / (RS ** 2 + RA ** 2)\n",
    "    return np.round(prediction, 2)\n",
    "\n",
    "# version 1 : Loop\n",
    "win_perc_preds_loop = []\n",
    "\n",
    "for row in baseball_df.itertuples():\n",
    "    win_perc_pred = predict_win_perc(row.RS, row.RA)\n",
    "    win_perc_preds_loop.append(win_perc_pred)\n",
    "\n",
    "\n",
    "# version 2 : apply\n",
    "win_perc_preds_apply = baseball_df.apply(lambda row: predict_win_perc(row['RS'], row['RA']), axis=1)\n",
    "\n",
    "# version 3 : using NumPy arrays\n",
    "win_perc_preds_np = predict_win_perc(baseball_df['RS'].values, baseball_df['RA'].values)\n",
    "baseball_df['WP_preds'] = win_perc_preds_np\n",
    "\n",
    "print(baseball_df.head())"
   ]
  }
 ],
 "metadata": {
  "kernelspec": {
   "display_name": "Python 3",
   "language": "python",
   "name": "python3"
  },
  "language_info": {
   "codemirror_mode": {
    "name": "ipython",
    "version": 3
   },
   "file_extension": ".py",
   "mimetype": "text/x-python",
   "name": "python",
   "nbconvert_exporter": "python",
   "pygments_lexer": "ipython3",
   "version": "3.7.3"
  }
 },
 "nbformat": 4,
 "nbformat_minor": 2
}
