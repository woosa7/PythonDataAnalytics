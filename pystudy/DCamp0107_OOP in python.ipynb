{
 "cells": [
  {
   "cell_type": "markdown",
   "metadata": {},
   "source": [
    "## Object Oriented Programmingin python"
   ]
  },
  {
   "cell_type": "markdown",
   "metadata": {},
   "source": [
    "### Object: Instance of a Class"
   ]
  },
  {
   "cell_type": "code",
   "execution_count": 1,
   "metadata": {},
   "outputs": [
    {
     "name": "stdout",
     "output_type": "stream",
     "text": [
      "<__main__.DataShell object at 0x00000254736AD518>\n"
     ]
    }
   ],
   "source": [
    "# Create class & Init Method\n",
    "\n",
    "class DataShell:\n",
    "\n",
    "    # Initialize class with self argument\n",
    "    def __init__(self):\n",
    "        pass\n",
    "\n",
    "\n",
    "# Instantiate DataShell\n",
    "my_data_shell = DataShell()\n",
    "print(my_data_shell)"
   ]
  },
  {
   "cell_type": "code",
   "execution_count": 2,
   "metadata": {},
   "outputs": [
    {
     "name": "stdout",
     "output_type": "stream",
     "text": [
      "100\n",
      "[1, 2, 3, 4, 5]\n"
     ]
    }
   ],
   "source": [
    "# Instance Variables\n",
    "\n",
    "class DataShell:\n",
    "\n",
    "    # Initialize class with self and arguments\n",
    "    def __init__(self, identifier, data):\n",
    "        # Set identifier and data as instance variables, assigning value of input arguments\n",
    "        self.identifier = identifier\n",
    "        self.data = data\n",
    "\n",
    "\n",
    "x = 100\n",
    "y = [1, 2, 3, 4, 5]\n",
    "\n",
    "# Instantiate DataShell passing x and y as arguments\n",
    "my_data_shell = DataShell(x, y)\n",
    "\n",
    "print(my_data_shell.identifier)\n",
    "print(my_data_shell.data)"
   ]
  },
  {
   "cell_type": "code",
   "execution_count": 3,
   "metadata": {},
   "outputs": [
    {
     "name": "stdout",
     "output_type": "stream",
     "text": [
      "DataShell\n"
     ]
    }
   ],
   "source": [
    "# Class Variables\n",
    "\n",
    "class DataShell:\n",
    "    # Declare a class variable\n",
    "    family = 'DataShell'\n",
    "\n",
    "    def __init__(self, identifier):\n",
    "        self.identifier = identifier\n",
    "\n",
    "\n",
    "x = 100\n",
    "my_data_shell = DataShell(x)\n",
    "\n",
    "# Print my_data_shell class variable family\n",
    "print(my_data_shell.family)"
   ]
  },
  {
   "cell_type": "code",
   "execution_count": 4,
   "metadata": {},
   "outputs": [
    {
     "name": "stdout",
     "output_type": "stream",
     "text": [
      "DataShell\n",
      "NotDataShell\n"
     ]
    }
   ],
   "source": [
    "# Overriding Class Variables\n",
    "\n",
    "class DataShell:\n",
    "    # Declare a class variable\n",
    "    family = 'DataShell'\n",
    "\n",
    "    def __init__(self, identifier):\n",
    "        self.identifier = identifier\n",
    "\n",
    "\n",
    "x = 100\n",
    "my_data_shell = DataShell(x)\n",
    "\n",
    "print(my_data_shell.family)\n",
    "\n",
    "# Override the my_data_shell.family value\n",
    "my_data_shell.family = 'NotDataShell'\n",
    "print(my_data_shell.family)"
   ]
  },
  {
   "cell_type": "markdown",
   "metadata": {},
   "source": [
    "### Methods"
   ]
  },
  {
   "cell_type": "code",
   "execution_count": 5,
   "metadata": {},
   "outputs": [
    {
     "name": "stdout",
     "output_type": "stream",
     "text": [
      "You just executed a class method!\n"
     ]
    }
   ],
   "source": [
    "# Methods I\n",
    "\n",
    "class DataShell:\n",
    "\n",
    "    def __init__(self):\n",
    "        pass\n",
    "\n",
    "    # Define class method which takes self argument\n",
    "    def print_static(self):\n",
    "        print(\"You just executed a class method!\")\n",
    "\n",
    "\n",
    "my_data_shell = DataShell()\n",
    "my_data_shell.print_static()"
   ]
  },
  {
   "cell_type": "code",
   "execution_count": 6,
   "metadata": {},
   "outputs": [
    {
     "name": "stdout",
     "output_type": "stream",
     "text": [
      "[1, 2, 3, 4, 5, 6, 7, 8, 9, 10]\n",
      "5.5\n"
     ]
    }
   ],
   "source": [
    "# Methods II\n",
    "\n",
    "class DataShell:\n",
    "\n",
    "    def __init__(self, dataList):\n",
    "        self.data = dataList\n",
    "\n",
    "    # Define method that prints data\n",
    "    def show(self):\n",
    "        return self.data\n",
    "\n",
    "    # Define method that prints average of data\n",
    "    def avg(self):\n",
    "        avg = sum(self.data) / float(len(self.data))\n",
    "        return avg\n",
    "\n",
    "\n",
    "integer_list = [1, 2, 3, 4, 5, 6, 7, 8, 9, 10]\n",
    "\n",
    "my_data_shell = DataShell(integer_list)\n",
    "\n",
    "print(my_data_shell.show())\n",
    "print(my_data_shell.avg())"
   ]
  },
  {
   "cell_type": "code",
   "execution_count": 7,
   "metadata": {},
   "outputs": [
    {
     "name": "stdout",
     "output_type": "stream",
     "text": [
      "         country code  year  life_expectancy\n",
      "0  United States  USA  1880        39.410000\n",
      "1  United States  USA  1890        45.209999\n",
      "2  United States  USA  1901        49.299999\n",
      "3  United States  USA  1902        50.500000\n",
      "4  United States  USA  1903        50.599998\n"
     ]
    }
   ],
   "source": [
    "# A More Powerful DataShell\n",
    "\n",
    "import numpy as np\n",
    "import pandas as pd\n",
    "\n",
    "class DataShell:\n",
    "\n",
    "    def __init__(self, inputFile):\n",
    "        self.file = inputFile\n",
    "\n",
    "    def generate_csv(self):\n",
    "        self.data_as_csv = pd.read_csv(self.file)\n",
    "        return self.data_as_csv\n",
    "\n",
    "\n",
    "us_life_exp = 'data/chap01/us_life_expectancy.csv'\n",
    "data_shell = DataShell(us_life_exp)\n",
    "\n",
    "df = data_shell.generate_csv()\n",
    "print(df.head())"
   ]
  },
  {
   "cell_type": "code",
   "execution_count": 8,
   "metadata": {},
   "outputs": [
    {
     "name": "stdout",
     "output_type": "stream",
     "text": [
      "         country code  year  life_expectancy\n",
      "0  United States  USA  1880        39.410000\n",
      "1  United States  USA  1890        45.209999\n",
      "2  United States  USA  1901        49.299999\n",
      "3  United States  USA  1902        50.500000\n",
      "4  United States  USA  1903        50.599998\n"
     ]
    }
   ],
   "source": [
    "# Data as Attributes\n",
    "\n",
    "class DataShell:\n",
    "\n",
    "    def __init__(self, filepath):\n",
    "        self.filepath = filepath\n",
    "        self.data_as_csv = pd.read_csv(filepath)\n",
    "\n",
    "\n",
    "us_data_shell = DataShell(us_life_exp)\n",
    "print(us_data_shell.data_as_csv.head())"
   ]
  },
  {
   "cell_type": "code",
   "execution_count": 9,
   "metadata": {},
   "outputs": [
    {
     "name": "stdout",
     "output_type": "stream",
     "text": [
      "country             object\n",
      "code                object\n",
      "year                 int64\n",
      "life_expectancy    float64\n",
      "dtype: object \n",
      "\n",
      "country             object\n",
      "country_code        object\n",
      "year                 int64\n",
      "life_expectancy    float64\n",
      "dtype: object\n"
     ]
    }
   ],
   "source": [
    "# Renaming Columns\n",
    "\n",
    "class DataShell:\n",
    "\n",
    "    def __init__(self, filepath):\n",
    "        self.filepath = filepath\n",
    "        self.data_as_csv = pd.read_csv(filepath)\n",
    "\n",
    "    # Define method rename_column, with arguments self, column_name, and new_column_name\n",
    "    def rename_column(self, column_name, new_column_name):\n",
    "        self.data_as_csv.columns = self.data_as_csv.columns.str.replace(column_name, new_column_name)\n",
    "\n",
    "\n",
    "us_data_shell = DataShell(us_life_exp)\n",
    "print(us_data_shell.data_as_csv.dtypes, '\\n')\n",
    "\n",
    "# Rename your objects column 'code' to 'country_code'\n",
    "us_data_shell.rename_column('code', 'country_code')\n",
    "print(us_data_shell.data_as_csv.dtypes)"
   ]
  },
  {
   "cell_type": "code",
   "execution_count": 10,
   "metadata": {},
   "outputs": [
    {
     "name": "stdout",
     "output_type": "stream",
     "text": [
      "              year  life_expectancy\n",
      "count   117.000000       117.000000\n",
      "mean   1956.752137        66.556684\n",
      "std      34.398252         9.551079\n",
      "min    1880.000000        39.410000\n",
      "25%    1928.000000        58.500000\n",
      "50%    1957.000000        69.599998\n",
      "75%    1986.000000        74.772003\n",
      "max    2015.000000        79.244003\n"
     ]
    }
   ],
   "source": [
    "# Self-Describing DataShells\n",
    "\n",
    "class DataShell:\n",
    "\n",
    "    def __init__(self, filepath):\n",
    "        self.filepath = filepath\n",
    "        self.data_as_csv = pd.read_csv(filepath)\n",
    "\n",
    "    def rename_column(self, column_name, new_column_name):\n",
    "        self.data_as_csv.columns = self.data_as_csv.columns.str.replace(column_name, new_column_name)\n",
    "\n",
    "    def get_stats(self):\n",
    "        # Return a description data_as_csv\n",
    "        return self.data_as_csv.describe()\n",
    "\n",
    "\n",
    "us_data_shell = DataShell(us_life_exp)\n",
    "print(us_data_shell.get_stats())"
   ]
  },
  {
   "cell_type": "markdown",
   "metadata": {},
   "source": [
    "### Inheritance"
   ]
  },
  {
   "cell_type": "code",
   "execution_count": 11,
   "metadata": {},
   "outputs": [
    {
     "name": "stdout",
     "output_type": "stream",
     "text": [
      "Daisy Spinal cord: True\n",
      "Daisy temperature regulation: True\n",
      "\n",
      "Stella Spinal cord: True\n",
      "Stella temperature regulation: False\n"
     ]
    }
   ],
   "source": [
    "# Create a class Animal\n",
    "class Vertebrate:\n",
    "    spinal_cord = True\n",
    "    def __init__(self, name):\n",
    "        self.name = name\n",
    "\n",
    "\n",
    "# Create a class Mammal, which inherits from Vertebrate\n",
    "class Mammal(Vertebrate):\n",
    "    def __init__(self, name, animal_type):\n",
    "        self.animal_type = animal_type\n",
    "        self.temperature_regulation = True\n",
    "\n",
    "\n",
    "# Create a class Reptile, which also inherits from Vertebrate\n",
    "class Reptile(Vertebrate):\n",
    "    def __init__(self, name, animal_type):\n",
    "        self.animal_type = animal_type\n",
    "        self.temperature_regulation = False\n",
    "\n",
    "\n",
    "daisy = Mammal('Daisy', 'dog')\n",
    "stella = Reptile('Stella', 'alligator')\n",
    "\n",
    "print(\"Daisy Spinal cord: \" + str(daisy.spinal_cord))\n",
    "print(\"Daisy temperature regulation: \" + str(daisy.temperature_regulation))\n",
    "print()\n",
    "print(\"Stella Spinal cord: \" + str(stella.spinal_cord))\n",
    "print(\"Stella temperature regulation: \" + str(stella.temperature_regulation))"
   ]
  },
  {
   "cell_type": "code",
   "execution_count": 12,
   "metadata": {},
   "outputs": [
    {
     "name": "stdout",
     "output_type": "stream",
     "text": [
      "<__main__.DataShell object at 0x0000025475990518>\n",
      "         country code  year  life_expectancy\n",
      "0  United States  USA  1880        39.410000\n",
      "1  United States  USA  1890        45.209999\n",
      "2  United States  USA  1901        49.299999\n",
      "3  United States  USA  1902        50.500000\n",
      "4  United States  USA  1903        50.599998\n"
     ]
    }
   ],
   "source": [
    "# Abstract Class\n",
    "\n",
    "class DataShell:\n",
    "    def __init__(self, inputFile):\n",
    "        self.file = inputFile\n",
    "\n",
    "\n",
    "# Create class CsvDataShell, which inherits from DataShell\n",
    "class CsvDataShell(DataShell):\n",
    "    def __init__(self, inputFile):\n",
    "        # Instance variable data\n",
    "        self.data = pd.read_csv(inputFile)\n",
    "\n",
    "\n",
    "my_data_shell = DataShell(us_life_exp)\n",
    "print(my_data_shell)\n",
    "\n",
    "us_data_shell = CsvDataShell(us_life_exp)\n",
    "print(us_data_shell.data.head())"
   ]
  },
  {
   "cell_type": "code",
   "execution_count": 13,
   "metadata": {},
   "outputs": [
    {
     "name": "stdout",
     "output_type": "stream",
     "text": [
      "              year  life_expectancy\n",
      "count   117.000000       117.000000\n",
      "mean   1956.752137        66.556684\n",
      "std      34.398252         9.551079\n",
      "min    1880.000000        39.410000\n",
      "25%    1928.000000        58.500000\n",
      "50%    1957.000000        69.599998\n",
      "75%    1986.000000        74.772003\n",
      "max    2015.000000        79.244003\n",
      "              year  life_expectancy\n",
      "count   200.000000       200.000000\n",
      "mean   1915.500000        55.052510\n",
      "std      57.879185        15.337910\n",
      "min    1816.000000        29.580000\n",
      "25%    1865.750000        41.767499\n",
      "50%    1915.500000        48.820000\n",
      "75%    1965.250000        71.069502\n",
      "max    2015.000000        82.369003\n"
     ]
    }
   ],
   "source": [
    "# Composition and Inheritance\n",
    "\n",
    "class DataShell:\n",
    "    # class variable\n",
    "    family = 'DataShell'\n",
    "\n",
    "    def __init__(self, name, filepath):\n",
    "        self.name = name\n",
    "        self.filepath = filepath\n",
    "\n",
    "\n",
    "# Define class CsvDataShell\n",
    "class CsvDataShell(DataShell):\n",
    "    def __init__(self, name, filepath):\n",
    "        self.data = pd.read_csv(filepath)\n",
    "        self.stats = self.data.describe()\n",
    "\n",
    "\n",
    "# Define class TsvDataShell\n",
    "class TsvDataShell(DataShell):\n",
    "    def __init__(self, name, filepath):\n",
    "        # self.data = pd.read_table(filepath)\n",
    "        self.data = pd.read_csv(filepath, sep='\\t')\n",
    "        self.stats = self.data.describe()\n",
    "\n",
    "\n",
    "us_data_shell = CsvDataShell(\"US\", us_life_exp)\n",
    "print(us_data_shell.stats)\n",
    "\n",
    "france_life_exp = 'data/chap01/france_life_expectancy.csv'\n",
    "\n",
    "france_data_shell = TsvDataShell('France', france_life_exp)\n",
    "print(france_data_shell.stats)"
   ]
  }
 ],
 "metadata": {
  "kernelspec": {
   "display_name": "Python 3",
   "language": "python",
   "name": "python3"
  },
  "language_info": {
   "codemirror_mode": {
    "name": "ipython",
    "version": 3
   },
   "file_extension": ".py",
   "mimetype": "text/x-python",
   "name": "python",
   "nbconvert_exporter": "python",
   "pygments_lexer": "ipython3",
   "version": "3.7.3"
  }
 },
 "nbformat": 4,
 "nbformat_minor": 2
}
